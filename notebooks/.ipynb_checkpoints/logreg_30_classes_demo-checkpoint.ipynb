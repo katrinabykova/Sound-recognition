{
 "cells": [
  {
   "cell_type": "code",
   "execution_count": 8,
   "metadata": {
    "ExecuteTime": {
     "end_time": "2019-10-17T19:02:45.918966Z",
     "start_time": "2019-10-17T19:02:41.204759Z"
    }
   },
   "outputs": [],
   "source": [
    "import numpy as np\n",
    "import pandas as pd\n",
    "import pickle\n",
    "from sklearn.model_selection import train_test_split\n",
    "from sklearn.linear_model import LogisticRegression\n",
    "from sklearn.metrics import f1_score\n",
    "from imblearn.under_sampling import RandomUnderSampler\n",
    "from imblearn.over_sampling import RandomOverSampler\n",
    "from sklearn.pipeline import make_pipeline\n",
    "from sklearn import preprocessing\n",
    "from sklearn.model_selection import cross_val_score\n",
    "from sklearn.dummy import DummyClassifier"
   ]
  },
  {
   "cell_type": "code",
   "execution_count": 9,
   "metadata": {
    "ExecuteTime": {
     "end_time": "2019-10-17T19:02:48.867009Z",
     "start_time": "2019-10-17T19:02:45.922262Z"
    }
   },
   "outputs": [],
   "source": [
    "# Unpickle data \n",
    "with open('/Users/greenapple/project3/data/processed/house.pkl', 'rb') as f:\n",
    "    house = pickle.load(f)"
   ]
  },
  {
   "cell_type": "code",
   "execution_count": 10,
   "metadata": {
    "ExecuteTime": {
     "end_time": "2019-10-17T19:02:48.907235Z",
     "start_time": "2019-10-17T19:02:48.869918Z"
    }
   },
   "outputs": [
    {
     "data": {
      "text/html": [
       "<div>\n",
       "<style scoped>\n",
       "    .dataframe tbody tr th:only-of-type {\n",
       "        vertical-align: middle;\n",
       "    }\n",
       "\n",
       "    .dataframe tbody tr th {\n",
       "        vertical-align: top;\n",
       "    }\n",
       "\n",
       "    .dataframe thead th {\n",
       "        text-align: right;\n",
       "    }\n",
       "</style>\n",
       "<table border=\"1\" class=\"dataframe\">\n",
       "  <thead>\n",
       "    <tr style=\"text-align: right;\">\n",
       "      <th></th>\n",
       "      <th>video_id_list</th>\n",
       "      <th>y</th>\n",
       "      <th>y_name</th>\n",
       "      <th>0</th>\n",
       "      <th>1</th>\n",
       "      <th>2</th>\n",
       "      <th>3</th>\n",
       "      <th>4</th>\n",
       "      <th>5</th>\n",
       "      <th>6</th>\n",
       "      <th>...</th>\n",
       "      <th>630</th>\n",
       "      <th>631</th>\n",
       "      <th>632</th>\n",
       "      <th>633</th>\n",
       "      <th>634</th>\n",
       "      <th>635</th>\n",
       "      <th>636</th>\n",
       "      <th>637</th>\n",
       "      <th>638</th>\n",
       "      <th>639</th>\n",
       "    </tr>\n",
       "  </thead>\n",
       "  <tbody>\n",
       "    <tr>\n",
       "      <td>1</td>\n",
       "      <td>b'--PJHxphWEs'</td>\n",
       "      <td>0</td>\n",
       "      <td>speech</td>\n",
       "      <td>80</td>\n",
       "      <td>181</td>\n",
       "      <td>216</td>\n",
       "      <td>164</td>\n",
       "      <td>218</td>\n",
       "      <td>123</td>\n",
       "      <td>76</td>\n",
       "      <td>...</td>\n",
       "      <td>157</td>\n",
       "      <td>255</td>\n",
       "      <td>93</td>\n",
       "      <td>143</td>\n",
       "      <td>86</td>\n",
       "      <td>220</td>\n",
       "      <td>255</td>\n",
       "      <td>117</td>\n",
       "      <td>255</td>\n",
       "      <td>96</td>\n",
       "    </tr>\n",
       "    <tr>\n",
       "      <td>3</td>\n",
       "      <td>b'--aE2O5G5WE'</td>\n",
       "      <td>0</td>\n",
       "      <td>speech</td>\n",
       "      <td>141</td>\n",
       "      <td>83</td>\n",
       "      <td>110</td>\n",
       "      <td>177</td>\n",
       "      <td>169</td>\n",
       "      <td>71</td>\n",
       "      <td>64</td>\n",
       "      <td>...</td>\n",
       "      <td>208</td>\n",
       "      <td>196</td>\n",
       "      <td>33</td>\n",
       "      <td>233</td>\n",
       "      <td>0</td>\n",
       "      <td>34</td>\n",
       "      <td>189</td>\n",
       "      <td>160</td>\n",
       "      <td>0</td>\n",
       "      <td>153</td>\n",
       "    </tr>\n",
       "    <tr>\n",
       "      <td>5</td>\n",
       "      <td>b'--ZhevVpy1s'</td>\n",
       "      <td>375</td>\n",
       "      <td>toothbrush</td>\n",
       "      <td>117</td>\n",
       "      <td>35</td>\n",
       "      <td>163</td>\n",
       "      <td>90</td>\n",
       "      <td>198</td>\n",
       "      <td>103</td>\n",
       "      <td>63</td>\n",
       "      <td>...</td>\n",
       "      <td>0</td>\n",
       "      <td>1</td>\n",
       "      <td>202</td>\n",
       "      <td>9</td>\n",
       "      <td>116</td>\n",
       "      <td>0</td>\n",
       "      <td>247</td>\n",
       "      <td>72</td>\n",
       "      <td>44</td>\n",
       "      <td>166</td>\n",
       "    </tr>\n",
       "    <tr>\n",
       "      <td>7</td>\n",
       "      <td>b'-0DLPzsiXXE'</td>\n",
       "      <td>137</td>\n",
       "      <td>music</td>\n",
       "      <td>187</td>\n",
       "      <td>52</td>\n",
       "      <td>105</td>\n",
       "      <td>77</td>\n",
       "      <td>130</td>\n",
       "      <td>132</td>\n",
       "      <td>161</td>\n",
       "      <td>...</td>\n",
       "      <td>107</td>\n",
       "      <td>183</td>\n",
       "      <td>69</td>\n",
       "      <td>114</td>\n",
       "      <td>122</td>\n",
       "      <td>51</td>\n",
       "      <td>0</td>\n",
       "      <td>161</td>\n",
       "      <td>190</td>\n",
       "      <td>243</td>\n",
       "    </tr>\n",
       "    <tr>\n",
       "      <td>8</td>\n",
       "      <td>b'-0FHUc78Gqo'</td>\n",
       "      <td>137</td>\n",
       "      <td>music</td>\n",
       "      <td>209</td>\n",
       "      <td>122</td>\n",
       "      <td>121</td>\n",
       "      <td>143</td>\n",
       "      <td>81</td>\n",
       "      <td>131</td>\n",
       "      <td>230</td>\n",
       "      <td>...</td>\n",
       "      <td>124</td>\n",
       "      <td>0</td>\n",
       "      <td>169</td>\n",
       "      <td>244</td>\n",
       "      <td>0</td>\n",
       "      <td>255</td>\n",
       "      <td>80</td>\n",
       "      <td>19</td>\n",
       "      <td>217</td>\n",
       "      <td>255</td>\n",
       "    </tr>\n",
       "  </tbody>\n",
       "</table>\n",
       "<p>5 rows × 643 columns</p>\n",
       "</div>"
      ],
      "text/plain": [
       "    video_id_list    y      y_name    0    1    2    3    4    5    6  ...  \\\n",
       "1  b'--PJHxphWEs'    0      speech   80  181  216  164  218  123   76  ...   \n",
       "3  b'--aE2O5G5WE'    0      speech  141   83  110  177  169   71   64  ...   \n",
       "5  b'--ZhevVpy1s'  375  toothbrush  117   35  163   90  198  103   63  ...   \n",
       "7  b'-0DLPzsiXXE'  137       music  187   52  105   77  130  132  161  ...   \n",
       "8  b'-0FHUc78Gqo'  137       music  209  122  121  143   81  131  230  ...   \n",
       "\n",
       "   630  631  632  633  634  635  636  637  638  639  \n",
       "1  157  255   93  143   86  220  255  117  255   96  \n",
       "3  208  196   33  233    0   34  189  160    0  153  \n",
       "5    0    1  202    9  116    0  247   72   44  166  \n",
       "7  107  183   69  114  122   51    0  161  190  243  \n",
       "8  124    0  169  244    0  255   80   19  217  255  \n",
       "\n",
       "[5 rows x 643 columns]"
      ]
     },
     "execution_count": 10,
     "metadata": {},
     "output_type": "execute_result"
    }
   ],
   "source": [
    "house.head()"
   ]
  },
  {
   "cell_type": "code",
   "execution_count": 11,
   "metadata": {
    "ExecuteTime": {
     "end_time": "2019-10-17T19:02:48.918222Z",
     "start_time": "2019-10-17T19:02:48.909111Z"
    }
   },
   "outputs": [
    {
     "data": {
      "text/plain": [
       "(3319202, 643)"
      ]
     },
     "execution_count": 11,
     "metadata": {},
     "output_type": "execute_result"
    }
   ],
   "source": [
    "house.shape"
   ]
  },
  {
   "cell_type": "code",
   "execution_count": 12,
   "metadata": {
    "ExecuteTime": {
     "end_time": "2019-10-17T19:03:19.596042Z",
     "start_time": "2019-10-17T19:03:00.647189Z"
    }
   },
   "outputs": [],
   "source": [
    "# Remove points randoml in speech and music classes to balance the classes. \n",
    "# Do not want to use RandomUnderSampler here.\n",
    "# The actual class distribution in my house data (that I do  not have yet) might be different. Keep that in mind.\n",
    "# This step is taken to reduce the computational time at this point as well.\n",
    "house.drop(house.loc[house['y_name']=='speech'].sample(frac=.998).index, inplace=True)\n",
    "house.drop(house.loc[house['y_name']=='music'].sample(frac=.997).index, inplace=True)"
   ]
  },
  {
   "cell_type": "code",
   "execution_count": 13,
   "metadata": {
    "ExecuteTime": {
     "end_time": "2019-10-17T19:03:19.607209Z",
     "start_time": "2019-10-17T19:03:19.598665Z"
    }
   },
   "outputs": [
    {
     "data": {
      "text/plain": [
       "(45717, 643)"
      ]
     },
     "execution_count": 13,
     "metadata": {},
     "output_type": "execute_result"
    }
   ],
   "source": [
    "house.shape"
   ]
  },
  {
   "cell_type": "code",
   "execution_count": 14,
   "metadata": {
    "ExecuteTime": {
     "end_time": "2019-10-17T19:05:11.081377Z",
     "start_time": "2019-10-17T19:05:11.068711Z"
    }
   },
   "outputs": [
    {
     "data": {
      "text/plain": [
       "30"
      ]
     },
     "execution_count": 14,
     "metadata": {},
     "output_type": "execute_result"
    }
   ],
   "source": [
    "len(house.y_name.value_counts())"
   ]
  },
  {
   "cell_type": "code",
   "execution_count": 15,
   "metadata": {
    "ExecuteTime": {
     "end_time": "2019-10-17T19:05:23.927865Z",
     "start_time": "2019-10-17T19:05:23.869904Z"
    }
   },
   "outputs": [],
   "source": [
    "# Assign features X and y target\n",
    "X = house[house.columns[3:643]]\n",
    "y = house.y_name"
   ]
  },
  {
   "cell_type": "code",
   "execution_count": 16,
   "metadata": {},
   "outputs": [],
   "source": [
    "# Undersample overrepresented classes\n",
    "# under_sampler = RandomUnderSampler(random_state=0)\n",
    "# X_resampled, y_resampled = under_sampler.fit_resample(X, y)"
   ]
  },
  {
   "cell_type": "code",
   "execution_count": 17,
   "metadata": {
    "ExecuteTime": {
     "end_time": "2019-10-16T23:35:34.503809Z",
     "start_time": "2019-10-16T23:35:12.233293Z"
    }
   },
   "outputs": [],
   "source": [
    "X_train, X_test, y_train, y_test = train_test_split(X, y, test_size=0.2, random_state=None)"
   ]
  },
  {
   "cell_type": "code",
   "execution_count": null,
   "metadata": {
    "ExecuteTime": {
     "start_time": "2019-10-16T23:36:24.086Z"
    }
   },
   "outputs": [],
   "source": [
    "logreg = LogisticRegression(C=100000)\n",
    "logreg.fit(X_train,y_train)"
   ]
  },
  {
   "cell_type": "code",
   "execution_count": null,
   "metadata": {},
   "outputs": [],
   "source": [
    "# Save the model for later\n",
    "filename = /Users/greenapple/project3/models/logreg.sav'\n",
    "joblib.dump(logreg, filename)"
   ]
  },
  {
   "cell_type": "code",
   "execution_count": null,
   "metadata": {
    "ExecuteTime": {
     "start_time": "2019-10-16T23:37:16.069Z"
    }
   },
   "outputs": [],
   "source": [
    "acc_train = logreg.score(X_train, y_train)\n",
    "acc_test = logreg.score(X_test, y_test)"
   ]
  },
  {
   "cell_type": "code",
   "execution_count": null,
   "metadata": {},
   "outputs": [],
   "source": [
    "f1_logreg = f1_score(y_test, logreg.predict(X_test), average='micro')"
   ]
  },
  {
   "cell_type": "code",
   "execution_count": 19,
   "metadata": {},
   "outputs": [],
   "source": [
    "# Dummy classifier\n",
    "dummy = DummyClassifier()\n",
    "dummy.fit(X_train, y_train)\n",
    "f1_dummy = f1_score(y_test, dummy.predict(X_test), average='micro')"
   ]
  },
  {
   "cell_type": "code",
   "execution_count": 20,
   "metadata": {},
   "outputs": [
    {
     "data": {
      "text/plain": [
       "0.05194663167104112"
      ]
     },
     "execution_count": 20,
     "metadata": {},
     "output_type": "execute_result"
    }
   ],
   "source": [
    "f1_dummy"
   ]
  },
  {
   "cell_type": "code",
   "execution_count": 29,
   "metadata": {},
   "outputs": [],
   "source": [
    "from sklearn.datasets import load_iris\n",
    "from sklearn.pipeline import make_pipeline\n",
    "from sklearn import preprocessing\n",
    "# from sklearn import cross_validation\n",
    "from sklearn.model_selection import cross_val_score\n",
    "from sklearn import svm\n",
    "from sklearn.pipeline import Pipeline"
   ]
  },
  {
   "cell_type": "code",
   "execution_count": 23,
   "metadata": {},
   "outputs": [],
   "source": [
    "iris = load_iris()"
   ]
  },
  {
   "cell_type": "code",
   "execution_count": null,
   "metadata": {},
   "outputs": [],
   "source": []
  },
  {
   "cell_type": "code",
   "execution_count": 30,
   "metadata": {},
   "outputs": [],
   "source": [
    "from sklearn.model_selection import GridSearchCV"
   ]
  },
  {
   "cell_type": "code",
   "execution_count": 27,
   "metadata": {},
   "outputs": [],
   "source": [
    "classifier_pipeline = make_pipeline(preprocessing.StandardScaler(), svm.SVC(C=1))\n",
    "score = cross_val_score(classifier_pipeline, iris.data, iris.target, cv=3).mean()\n",
    "\n",
    "pipe = Pipeline(\n",
    ")"
   ]
  },
  {
   "cell_type": "code",
   "execution_count": 1,
   "metadata": {
    "ExecuteTime": {
     "end_time": "2019-10-18T18:20:06.273021Z",
     "start_time": "2019-10-18T18:20:06.179991Z"
    }
   },
   "outputs": [
    {
     "ename": "NameError",
     "evalue": "name 'score' is not defined",
     "output_type": "error",
     "traceback": [
      "\u001b[0;31m---------------------------------------------------------------------------\u001b[0m",
      "\u001b[0;31mNameError\u001b[0m                                 Traceback (most recent call last)",
      "\u001b[0;32m<ipython-input-1-d2d780e36333>\u001b[0m in \u001b[0;36m<module>\u001b[0;34m\u001b[0m\n\u001b[0;32m----> 1\u001b[0;31m \u001b[0mscore\u001b[0m\u001b[0;34m\u001b[0m\u001b[0;34m\u001b[0m\u001b[0m\n\u001b[0m",
      "\u001b[0;31mNameError\u001b[0m: name 'score' is not defined"
     ]
    }
   ],
   "source": [
    "score"
   ]
  },
  {
   "cell_type": "code",
   "execution_count": null,
   "metadata": {},
   "outputs": [],
   "source": [
    "pipe = \n",
    "data = \n",
    "y = \n",
    "CV = 5\n",
    "param_grid = \n",
    "\n",
    "# Parameter selection for a given model\n",
    "import numpy as np\n",
    "import pandas as pd\n",
    "import pickle\n",
    "import joblib\n",
    "from sklearn.linear_model import LogisticRegression\n",
    "from sklearn.metrics import f1_score\n",
    "from imblearn.under_sampling import RandomUnderSampler\n",
    "from imblearn.over_sampling import RandomOverSampler\n",
    "from sklearn.pipeline import make_pipeline\n",
    "from sklearn import preprocessing\n",
    "from sklearn.model_selection import cross_val_score\n",
    "\n",
    "def param_selection(data, target, pipe, model, CV, param_grid):\n",
    "    \n",
    "    #Transforming data\n",
    "    pipe!!!\n",
    "    X = data\n",
    "    y = target\n",
    "    \n",
    "    # Parameter grid\n",
    "    grid = GridSearchCV(model, param_grid, cv=CV, scoring='accuracy')\n",
    "    grid.fit(X, y)\n",
    "    \n",
    "    # Scores\n",
    "    grid.best_score_\n",
    "    grid.best_params_\n",
    "    grid.best_estimator_\n",
    "    \n",
    "    # Best model parameters \n",
    "    best_params = {\n",
    "        'score':grid.best_score_,\n",
    "        'params':grid.best_params_,\n",
    "        'estimator':grid.best_estimator_,\n",
    "    }\n",
    "    \n",
    "    return best_params"
   ]
  },
  {
   "cell_type": "code",
   "execution_count": null,
   "metadata": {},
   "outputs": [],
   "source": [
    "# Compare models\n",
    "\n",
    "import numpy as np\n",
    "import pandas as pd\n",
    "import pickle\n",
    "import joblib\n",
    "from sklearn.linear_model import LogisticRegression\n",
    "from sklearn.metrics import f1_score\n",
    "from imblearn.under_sampling import RandomUnderSampler\n",
    "from imblearn.over_sampling import RandomOverSampler\n",
    "from sklearn.pipeline import make_pipeline\n",
    "from sklearn import preprocessing\n",
    "from sklearn.model_selection import cross_val_score\n",
    "\n",
    "def model_comp(models, data, y, CV, pipe, best_param_dict):\n",
    "    \n",
    "    # Assign data\n",
    "    X = data\n",
    "    y = target\n",
    "    \n",
    "    # Cross validation score\n",
    "    model_scores = {}\n",
    "    for model in models:\n",
    "        model_pipeline = make_pipeline(pipe, model(best_param))\n",
    "        score = cross_validation.cross_val_score(pipe, X, y, cv=CV).mean()\n",
    "        model_scores[model] = score\n",
    "\n",
    "    return model_scores"
   ]
  },
  {
   "cell_type": "code",
   "execution_count": null,
   "metadata": {},
   "outputs": [],
   "source": [
    "# Run a model on test set\n",
    "\n",
    "def test_set_fit():\n",
    "    # Combine set 1 and set 2\n",
    "    # Fit on test_set\n",
    "    \n",
    "    return score\n",
    "    "
   ]
  },
  {
   "cell_type": "code",
   "execution_count": null,
   "metadata": {},
   "outputs": [],
   "source": [
    "# Predict\n",
    "\n",
    "def predict():\n",
    "    # \n",
    "    \n",
    "    return predictions"
   ]
  }
 ],
 "metadata": {
  "kernelspec": {
   "display_name": "metis",
   "language": "python",
   "name": "metis"
  },
  "language_info": {
   "codemirror_mode": {
    "name": "ipython",
    "version": 3
   },
   "file_extension": ".py",
   "mimetype": "text/x-python",
   "name": "python",
   "nbconvert_exporter": "python",
   "pygments_lexer": "ipython3",
   "version": "3.7.3"
  },
  "toc": {
   "base_numbering": 1,
   "nav_menu": {},
   "number_sections": true,
   "sideBar": true,
   "skip_h1_title": false,
   "title_cell": "Table of Contents",
   "title_sidebar": "Contents",
   "toc_cell": false,
   "toc_position": {},
   "toc_section_display": true,
   "toc_window_display": false
  }
 },
 "nbformat": 4,
 "nbformat_minor": 2
}
