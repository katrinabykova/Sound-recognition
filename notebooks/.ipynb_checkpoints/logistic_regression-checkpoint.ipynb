{
 "cells": [
  {
   "cell_type": "code",
   "execution_count": null,
   "metadata": {
    "ExecuteTime": {
     "end_time": "2019-10-16T23:36:20.753520Z",
     "start_time": "2019-10-16T23:36:20.692944Z"
    }
   },
   "outputs": [],
   "source": [
    "import numpy as np\n",
    "import pandas as pd\n",
    "import pickle\n",
    "from sklearn.model_selection import train_test_split\n",
    "from sklearn.linear_model import LogisticRegression\n",
    "from sklearn.metrics import f1_score\n",
    "from imblearn.under_sampling import RandomUnderSampler"
   ]
  },
  {
   "cell_type": "code",
   "execution_count": null,
   "metadata": {
    "ExecuteTime": {
     "end_time": "2019-10-16T23:31:50.645837Z",
     "start_time": "2019-10-16T23:31:47.870085Z"
    }
   },
   "outputs": [],
   "source": [
    "# Unpickle data \n",
    "with open('/Users/greenapple/project3/data/processed/house.pkl', 'rb') as f:\n",
    "    house = pickle.load(f)"
   ]
  },
  {
   "cell_type": "code",
   "execution_count": 3,
   "metadata": {
    "ExecuteTime": {
     "end_time": "2019-10-16T23:31:51.153183Z",
     "start_time": "2019-10-16T23:31:50.648344Z"
    }
   },
   "outputs": [
    {
     "data": {
      "text/html": [
       "<div>\n",
       "<style scoped>\n",
       "    .dataframe tbody tr th:only-of-type {\n",
       "        vertical-align: middle;\n",
       "    }\n",
       "\n",
       "    .dataframe tbody tr th {\n",
       "        vertical-align: top;\n",
       "    }\n",
       "\n",
       "    .dataframe thead th {\n",
       "        text-align: right;\n",
       "    }\n",
       "</style>\n",
       "<table border=\"1\" class=\"dataframe\">\n",
       "  <thead>\n",
       "    <tr style=\"text-align: right;\">\n",
       "      <th></th>\n",
       "      <th>video_id_list</th>\n",
       "      <th>y</th>\n",
       "      <th>y_name</th>\n",
       "      <th>0</th>\n",
       "      <th>1</th>\n",
       "      <th>2</th>\n",
       "      <th>3</th>\n",
       "      <th>4</th>\n",
       "      <th>5</th>\n",
       "      <th>6</th>\n",
       "      <th>...</th>\n",
       "      <th>630</th>\n",
       "      <th>631</th>\n",
       "      <th>632</th>\n",
       "      <th>633</th>\n",
       "      <th>634</th>\n",
       "      <th>635</th>\n",
       "      <th>636</th>\n",
       "      <th>637</th>\n",
       "      <th>638</th>\n",
       "      <th>639</th>\n",
       "    </tr>\n",
       "  </thead>\n",
       "  <tbody>\n",
       "    <tr>\n",
       "      <td>0</td>\n",
       "      <td>b'--PJHxphWEs'</td>\n",
       "      <td>0</td>\n",
       "      <td>Speech</td>\n",
       "      <td>80</td>\n",
       "      <td>181</td>\n",
       "      <td>216</td>\n",
       "      <td>164</td>\n",
       "      <td>218</td>\n",
       "      <td>123</td>\n",
       "      <td>76</td>\n",
       "      <td>...</td>\n",
       "      <td>157</td>\n",
       "      <td>255</td>\n",
       "      <td>93</td>\n",
       "      <td>143</td>\n",
       "      <td>86</td>\n",
       "      <td>220</td>\n",
       "      <td>255</td>\n",
       "      <td>117</td>\n",
       "      <td>255</td>\n",
       "      <td>96</td>\n",
       "    </tr>\n",
       "    <tr>\n",
       "      <td>1</td>\n",
       "      <td>b'--aE2O5G5WE'</td>\n",
       "      <td>0</td>\n",
       "      <td>Speech</td>\n",
       "      <td>141</td>\n",
       "      <td>83</td>\n",
       "      <td>110</td>\n",
       "      <td>177</td>\n",
       "      <td>169</td>\n",
       "      <td>71</td>\n",
       "      <td>64</td>\n",
       "      <td>...</td>\n",
       "      <td>208</td>\n",
       "      <td>196</td>\n",
       "      <td>33</td>\n",
       "      <td>233</td>\n",
       "      <td>0</td>\n",
       "      <td>34</td>\n",
       "      <td>189</td>\n",
       "      <td>160</td>\n",
       "      <td>0</td>\n",
       "      <td>153</td>\n",
       "    </tr>\n",
       "    <tr>\n",
       "      <td>2</td>\n",
       "      <td>b'--ZhevVpy1s'</td>\n",
       "      <td>375</td>\n",
       "      <td>Toothbrush</td>\n",
       "      <td>117</td>\n",
       "      <td>35</td>\n",
       "      <td>163</td>\n",
       "      <td>90</td>\n",
       "      <td>198</td>\n",
       "      <td>103</td>\n",
       "      <td>63</td>\n",
       "      <td>...</td>\n",
       "      <td>0</td>\n",
       "      <td>1</td>\n",
       "      <td>202</td>\n",
       "      <td>9</td>\n",
       "      <td>116</td>\n",
       "      <td>0</td>\n",
       "      <td>247</td>\n",
       "      <td>72</td>\n",
       "      <td>44</td>\n",
       "      <td>166</td>\n",
       "    </tr>\n",
       "    <tr>\n",
       "      <td>3</td>\n",
       "      <td>b'-0DLPzsiXXE'</td>\n",
       "      <td>137</td>\n",
       "      <td>Music</td>\n",
       "      <td>187</td>\n",
       "      <td>52</td>\n",
       "      <td>105</td>\n",
       "      <td>77</td>\n",
       "      <td>130</td>\n",
       "      <td>132</td>\n",
       "      <td>161</td>\n",
       "      <td>...</td>\n",
       "      <td>107</td>\n",
       "      <td>183</td>\n",
       "      <td>69</td>\n",
       "      <td>114</td>\n",
       "      <td>122</td>\n",
       "      <td>51</td>\n",
       "      <td>0</td>\n",
       "      <td>161</td>\n",
       "      <td>190</td>\n",
       "      <td>243</td>\n",
       "    </tr>\n",
       "    <tr>\n",
       "      <td>4</td>\n",
       "      <td>b'-0FHUc78Gqo'</td>\n",
       "      <td>137</td>\n",
       "      <td>Music</td>\n",
       "      <td>209</td>\n",
       "      <td>122</td>\n",
       "      <td>121</td>\n",
       "      <td>143</td>\n",
       "      <td>81</td>\n",
       "      <td>131</td>\n",
       "      <td>230</td>\n",
       "      <td>...</td>\n",
       "      <td>124</td>\n",
       "      <td>0</td>\n",
       "      <td>169</td>\n",
       "      <td>244</td>\n",
       "      <td>0</td>\n",
       "      <td>255</td>\n",
       "      <td>80</td>\n",
       "      <td>19</td>\n",
       "      <td>217</td>\n",
       "      <td>255</td>\n",
       "    </tr>\n",
       "  </tbody>\n",
       "</table>\n",
       "<p>5 rows × 643 columns</p>\n",
       "</div>"
      ],
      "text/plain": [
       "    video_id_list    y      y_name    0    1    2    3    4    5    6  ...  \\\n",
       "0  b'--PJHxphWEs'    0      Speech   80  181  216  164  218  123   76  ...   \n",
       "1  b'--aE2O5G5WE'    0      Speech  141   83  110  177  169   71   64  ...   \n",
       "2  b'--ZhevVpy1s'  375  Toothbrush  117   35  163   90  198  103   63  ...   \n",
       "3  b'-0DLPzsiXXE'  137       Music  187   52  105   77  130  132  161  ...   \n",
       "4  b'-0FHUc78Gqo'  137       Music  209  122  121  143   81  131  230  ...   \n",
       "\n",
       "   630  631  632  633  634  635  636  637  638  639  \n",
       "0  157  255   93  143   86  220  255  117  255   96  \n",
       "1  208  196   33  233    0   34  189  160    0  153  \n",
       "2    0    1  202    9  116    0  247   72   44  166  \n",
       "3  107  183   69  114  122   51    0  161  190  243  \n",
       "4  124    0  169  244    0  255   80   19  217  255  \n",
       "\n",
       "[5 rows x 643 columns]"
      ]
     },
     "execution_count": 3,
     "metadata": {},
     "output_type": "execute_result"
    }
   ],
   "source": [
    "house.head()"
   ]
  },
  {
   "cell_type": "code",
   "execution_count": 4,
   "metadata": {
    "ExecuteTime": {
     "end_time": "2019-10-16T23:33:20.216953Z",
     "start_time": "2019-10-16T23:33:20.207975Z"
    }
   },
   "outputs": [
    {
     "data": {
      "text/plain": [
       "Speech            2020960\n",
       "Music             1260348\n",
       "Laughter             3772\n",
       "Snoring              3370\n",
       "Vacuum_cleaner       3054\n",
       "Typing               2644\n",
       "Dishes_pans          2560\n",
       "Frying_food          2102\n",
       "Blender              1884\n",
       "Toilet_flush         1882\n",
       "Door                 1868\n",
       "Whoop                1736\n",
       "Footsteps            1492\n",
       "Baby_cry             1414\n",
       "Screaming            1116\n",
       "Whispering            972\n",
       "Clarinet              960\n",
       "Crying                918\n",
       "Microwave_oven        894\n",
       "Television            866\n",
       "Shaving               552\n",
       "Bathtub               472\n",
       "Water                 458\n",
       "Chopping_food         410\n",
       "Meow                  388\n",
       "Dog                   358\n",
       "Purr                  304\n",
       "Sink                  192\n",
       "Toothbrush             84\n",
       "Name: y_name, dtype: int64"
      ]
     },
     "execution_count": 4,
     "metadata": {},
     "output_type": "execute_result"
    }
   ],
   "source": [
    "house.y_name.value_counts()"
   ]
  },
  {
   "cell_type": "code",
   "execution_count": 6,
   "metadata": {},
   "outputs": [],
   "source": [
    "# Remove randomly points with Speech and Music as class to balance the classes. \n",
    "# Do not want to use RandomUnderSampler here.\n",
    "house.drop(house.loc[house['y_name']=='Speech'].sample(frac=.998).index, inplace=True)\n",
    "house.drop(house.loc[house['y_name']=='Music'].sample(frac=.997).index, inplace=True)"
   ]
  },
  {
   "cell_type": "code",
   "execution_count": 7,
   "metadata": {},
   "outputs": [
    {
     "data": {
      "text/plain": [
       "Speech            4042\n",
       "Music             3781\n",
       "Laughter          3772\n",
       "Snoring           3370\n",
       "Vacuum_cleaner    3054\n",
       "Typing            2644\n",
       "Dishes_pans       2560\n",
       "Frying_food       2102\n",
       "Blender           1884\n",
       "Toilet_flush      1882\n",
       "Door              1868\n",
       "Whoop             1736\n",
       "Footsteps         1492\n",
       "Baby_cry          1414\n",
       "Screaming         1116\n",
       "Whispering         972\n",
       "Clarinet           960\n",
       "Crying             918\n",
       "Microwave_oven     894\n",
       "Television         866\n",
       "Shaving            552\n",
       "Bathtub            472\n",
       "Water              458\n",
       "Chopping_food      410\n",
       "Meow               388\n",
       "Dog                358\n",
       "Purr               304\n",
       "Sink               192\n",
       "Toothbrush          84\n",
       "Name: y_name, dtype: int64"
      ]
     },
     "execution_count": 7,
     "metadata": {},
     "output_type": "execute_result"
    }
   ],
   "source": [
    "house.y_name.value_counts()"
   ]
  },
  {
   "cell_type": "code",
   "execution_count": 9,
   "metadata": {},
   "outputs": [
    {
     "data": {
      "text/plain": [
       "array(['Toothbrush', 'Footsteps', 'Clarinet', 'Chopping_food', 'Snoring',\n",
       "       'Dishes_pans', 'Screaming', 'Whoop', 'Vacuum_cleaner', 'Speech',\n",
       "       'Whispering', 'Door', 'Blender', 'Meow', 'Typing', 'Music',\n",
       "       'Microwave_oven', 'Shaving', 'Television', 'Laughter',\n",
       "       'Frying_food', 'Purr', 'Sink', 'Dog', 'Crying', 'Baby_cry',\n",
       "       'Toilet_flush', 'Water', 'Bathtub'], dtype=object)"
      ]
     },
     "execution_count": 9,
     "metadata": {},
     "output_type": "execute_result"
    }
   ],
   "source": [
    "house.y_name.unique()"
   ]
  },
  {
   "cell_type": "code",
   "execution_count": null,
   "metadata": {},
   "outputs": [],
   "source": [
    "mini = ['Toothbrush', 'Footsteps', 'Clarinet', 'Chopping_food', 'Snoring',\n",
    "       'Dishes_pans', 'Screaming', 'Whoop', 'Vacuum_cleaner', 'Speech',\n",
    "       'Whispering', 'Door', 'Blender', 'Meow', 'Typing', 'Music',\n",
    "       'Microwave_oven', 'Shaving', 'Television', 'Laughter',\n",
    "       'Frying_food', 'Purr', 'Sink', 'Dog', 'Crying', 'Baby_cry',\n",
    "       'Toilet_flush', 'Water', 'Bathtub' "
   ]
  },
  {
   "cell_type": "code",
   "execution_count": null,
   "metadata": {},
   "outputs": [],
   "source": [
    "house_mini = house.loc[house.y_name.isin(mini)]"
   ]
  },
  {
   "cell_type": "code",
   "execution_count": null,
   "metadata": {},
   "outputs": [],
   "source": [
    "house_mini.shape"
   ]
  },
  {
   "cell_type": "code",
   "execution_count": 10,
   "metadata": {
    "ExecuteTime": {
     "end_time": "2019-10-16T23:34:31.879612Z",
     "start_time": "2019-10-16T23:34:28.791998Z"
    }
   },
   "outputs": [],
   "source": [
    "# Assign features X and y target\n",
    "X = house[house.columns[3:643]]\n",
    "y = house.y_name"
   ]
  },
  {
   "cell_type": "code",
   "execution_count": null,
   "metadata": {},
   "outputs": [],
   "source": [
    "# Undersample overrepresented classes\n",
    "# under_sampler = RandomUnderSampler(random_state=0)\n",
    "# X_resampled, y_resampled = under_sampler.fit_resample(X, y)"
   ]
  },
  {
   "cell_type": "code",
   "execution_count": 12,
   "metadata": {
    "ExecuteTime": {
     "end_time": "2019-10-16T23:35:34.503809Z",
     "start_time": "2019-10-16T23:35:12.233293Z"
    }
   },
   "outputs": [],
   "source": [
    "X_train, X_test, y_train, y_test = train_test_split(X, y, test_size=0.4, random_state=None)"
   ]
  },
  {
   "cell_type": "code",
   "execution_count": 13,
   "metadata": {
    "ExecuteTime": {
     "start_time": "2019-10-16T23:36:24.086Z"
    }
   },
   "outputs": [
    {
     "name": "stderr",
     "output_type": "stream",
     "text": [
      "/Users/greenapple/anaconda3/envs/metis/lib/python3.7/site-packages/sklearn/linear_model/logistic.py:432: FutureWarning: Default solver will be changed to 'lbfgs' in 0.22. Specify a solver to silence this warning.\n",
      "  FutureWarning)\n",
      "/Users/greenapple/anaconda3/envs/metis/lib/python3.7/site-packages/sklearn/linear_model/logistic.py:469: FutureWarning: Default multi_class will be changed to 'auto' in 0.22. Specify the multi_class option to silence this warning.\n",
      "  \"this warning.\", FutureWarning)\n",
      "/Users/greenapple/anaconda3/envs/metis/lib/python3.7/site-packages/sklearn/svm/base.py:929: ConvergenceWarning: Liblinear failed to converge, increase the number of iterations.\n",
      "  \"the number of iterations.\", ConvergenceWarning)\n"
     ]
    },
    {
     "data": {
      "text/plain": [
       "LogisticRegression(C=100000, class_weight=None, dual=False, fit_intercept=True,\n",
       "                   intercept_scaling=1, l1_ratio=None, max_iter=100,\n",
       "                   multi_class='warn', n_jobs=None, penalty='l2',\n",
       "                   random_state=None, solver='warn', tol=0.0001, verbose=0,\n",
       "                   warm_start=False)"
      ]
     },
     "execution_count": 13,
     "metadata": {},
     "output_type": "execute_result"
    }
   ],
   "source": [
    "logreg = LogisticRegression(C=100000)\n",
    "logreg.fit(X_train,y_train)"
   ]
  },
  {
   "cell_type": "code",
   "execution_count": 14,
   "metadata": {
    "ExecuteTime": {
     "start_time": "2019-10-16T23:37:16.069Z"
    }
   },
   "outputs": [
    {
     "name": "stdout",
     "output_type": "stream",
     "text": [
      "train_score=0.741\n",
      "test_score =0.574\n",
      "\n"
     ]
    }
   ],
   "source": [
    "acc_train = logreg.score(X_train, y_train)\n",
    "acc_test = logreg.score(X_test, y_test)\n",
    "print(\"train_score=%.3f\\ntest_score =%.3f\\n\" % (acc_train, acc_test))"
   ]
  },
  {
   "cell_type": "code",
   "execution_count": 15,
   "metadata": {},
   "outputs": [
    {
     "data": {
      "text/plain": [
       "0.5735772814008306"
      ]
     },
     "execution_count": 15,
     "metadata": {},
     "output_type": "execute_result"
    }
   ],
   "source": [
    "f1_score(y_test, logreg.predict(X_test), average='micro')"
   ]
  },
  {
   "cell_type": "code",
   "execution_count": null,
   "metadata": {},
   "outputs": [],
   "source": []
  }
 ],
 "metadata": {
  "kernelspec": {
   "display_name": "metis",
   "language": "python",
   "name": "metis"
  },
  "language_info": {
   "codemirror_mode": {
    "name": "ipython",
    "version": 3
   },
   "file_extension": ".py",
   "mimetype": "text/x-python",
   "name": "python",
   "nbconvert_exporter": "python",
   "pygments_lexer": "ipython3",
   "version": "3.7.3"
  },
  "toc": {
   "base_numbering": 1,
   "nav_menu": {},
   "number_sections": true,
   "sideBar": true,
   "skip_h1_title": false,
   "title_cell": "Table of Contents",
   "title_sidebar": "Contents",
   "toc_cell": false,
   "toc_position": {},
   "toc_section_display": true,
   "toc_window_display": false
  }
 },
 "nbformat": 4,
 "nbformat_minor": 2
}
