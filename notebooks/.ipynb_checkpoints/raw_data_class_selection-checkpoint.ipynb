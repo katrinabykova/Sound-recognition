{
 "cells": [
  {
   "cell_type": "code",
   "execution_count": 1,
   "metadata": {},
   "outputs": [],
   "source": [
    "import numpy as np\n",
    "import pandas as pd\n",
    "import pickle"
   ]
  },
  {
   "cell_type": "code",
   "execution_count": 2,
   "metadata": {},
   "outputs": [],
   "source": [
    "# Unpickle data \n",
    "with open('/Users/greenapple/project3/data/processed/df_bal.pkl', 'rb') as f:\n",
    "    df_bal = pickle.load(f)\n",
    "    \n",
    "with open('/Users/greenapple/project3/data/processed/df_eval.pkl', 'rb') as f:\n",
    "    df_eval = pickle.load(f)\n",
    "    \n",
    "with open('/Users/greenapple/project3/data/processed/df_unbal.pkl', 'rb') as f:\n",
    "    df_unbal = pickle.load(f)"
   ]
  },
  {
   "cell_type": "code",
   "execution_count": 3,
   "metadata": {},
   "outputs": [],
   "source": [
    "# Concatinate dataframes\n",
    "raw = pd.concat([df_bal, df_eval, df_unbal], axis=0)"
   ]
  },
  {
   "cell_type": "code",
   "execution_count": 4,
   "metadata": {},
   "outputs": [
    {
     "data": {
      "text/plain": [
       "(2084320, 1283)"
      ]
     },
     "execution_count": 4,
     "metadata": {},
     "output_type": "execute_result"
    }
   ],
   "source": [
    "raw.shape"
   ]
  },
  {
   "cell_type": "code",
   "execution_count": 24,
   "metadata": {},
   "outputs": [
    {
     "data": {
      "text/html": [
       "<div>\n",
       "<style scoped>\n",
       "    .dataframe tbody tr th:only-of-type {\n",
       "        vertical-align: middle;\n",
       "    }\n",
       "\n",
       "    .dataframe tbody tr th {\n",
       "        vertical-align: top;\n",
       "    }\n",
       "\n",
       "    .dataframe thead th {\n",
       "        text-align: right;\n",
       "    }\n",
       "</style>\n",
       "<table border=\"1\" class=\"dataframe\">\n",
       "  <thead>\n",
       "    <tr style=\"text-align: right;\">\n",
       "      <th></th>\n",
       "      <th>video_id_list</th>\n",
       "      <th>y</th>\n",
       "      <th>y_name</th>\n",
       "      <th>0</th>\n",
       "      <th>1</th>\n",
       "      <th>2</th>\n",
       "      <th>3</th>\n",
       "      <th>4</th>\n",
       "      <th>5</th>\n",
       "      <th>6</th>\n",
       "      <th>...</th>\n",
       "      <th>1270</th>\n",
       "      <th>1271</th>\n",
       "      <th>1272</th>\n",
       "      <th>1273</th>\n",
       "      <th>1274</th>\n",
       "      <th>1275</th>\n",
       "      <th>1276</th>\n",
       "      <th>1277</th>\n",
       "      <th>1278</th>\n",
       "      <th>1279</th>\n",
       "    </tr>\n",
       "  </thead>\n",
       "  <tbody>\n",
       "    <tr>\n",
       "      <td>0</td>\n",
       "      <td>b'--cB2ZVjpnA'</td>\n",
       "      <td>399</td>\n",
       "      <td>Smoke detector, smoke alarm</td>\n",
       "      <td>95</td>\n",
       "      <td>122</td>\n",
       "      <td>147</td>\n",
       "      <td>14</td>\n",
       "      <td>101</td>\n",
       "      <td>48</td>\n",
       "      <td>157</td>\n",
       "      <td>...</td>\n",
       "      <td>0</td>\n",
       "      <td>17</td>\n",
       "      <td>255</td>\n",
       "      <td>0</td>\n",
       "      <td>255</td>\n",
       "      <td>255</td>\n",
       "      <td>160</td>\n",
       "      <td>97</td>\n",
       "      <td>212</td>\n",
       "      <td>0</td>\n",
       "    </tr>\n",
       "    <tr>\n",
       "      <td>1</td>\n",
       "      <td>b'--PJHxphWEs'</td>\n",
       "      <td>0</td>\n",
       "      <td>Speech</td>\n",
       "      <td>80</td>\n",
       "      <td>181</td>\n",
       "      <td>216</td>\n",
       "      <td>164</td>\n",
       "      <td>218</td>\n",
       "      <td>123</td>\n",
       "      <td>76</td>\n",
       "      <td>...</td>\n",
       "      <td>205</td>\n",
       "      <td>151</td>\n",
       "      <td>157</td>\n",
       "      <td>137</td>\n",
       "      <td>178</td>\n",
       "      <td>151</td>\n",
       "      <td>25</td>\n",
       "      <td>136</td>\n",
       "      <td>181</td>\n",
       "      <td>235</td>\n",
       "    </tr>\n",
       "    <tr>\n",
       "      <td>2</td>\n",
       "      <td>b'--ekDLDTUXA'</td>\n",
       "      <td>27</td>\n",
       "      <td>Singing</td>\n",
       "      <td>107</td>\n",
       "      <td>150</td>\n",
       "      <td>89</td>\n",
       "      <td>138</td>\n",
       "      <td>132</td>\n",
       "      <td>0</td>\n",
       "      <td>138</td>\n",
       "      <td>...</td>\n",
       "      <td>247</td>\n",
       "      <td>102</td>\n",
       "      <td>135</td>\n",
       "      <td>127</td>\n",
       "      <td>222</td>\n",
       "      <td>204</td>\n",
       "      <td>228</td>\n",
       "      <td>174</td>\n",
       "      <td>147</td>\n",
       "      <td>188</td>\n",
       "    </tr>\n",
       "    <tr>\n",
       "      <td>3</td>\n",
       "      <td>b'--aE2O5G5WE'</td>\n",
       "      <td>0</td>\n",
       "      <td>Speech</td>\n",
       "      <td>141</td>\n",
       "      <td>83</td>\n",
       "      <td>110</td>\n",
       "      <td>177</td>\n",
       "      <td>169</td>\n",
       "      <td>71</td>\n",
       "      <td>64</td>\n",
       "      <td>...</td>\n",
       "      <td>193</td>\n",
       "      <td>255</td>\n",
       "      <td>65</td>\n",
       "      <td>158</td>\n",
       "      <td>174</td>\n",
       "      <td>0</td>\n",
       "      <td>199</td>\n",
       "      <td>140</td>\n",
       "      <td>167</td>\n",
       "      <td>102</td>\n",
       "    </tr>\n",
       "    <tr>\n",
       "      <td>4</td>\n",
       "      <td>b'--aaILOrkII'</td>\n",
       "      <td>427</td>\n",
       "      <td>Gunshot, gunfire</td>\n",
       "      <td>102</td>\n",
       "      <td>47</td>\n",
       "      <td>170</td>\n",
       "      <td>59</td>\n",
       "      <td>136</td>\n",
       "      <td>154</td>\n",
       "      <td>53</td>\n",
       "      <td>...</td>\n",
       "      <td>44</td>\n",
       "      <td>125</td>\n",
       "      <td>144</td>\n",
       "      <td>121</td>\n",
       "      <td>255</td>\n",
       "      <td>131</td>\n",
       "      <td>182</td>\n",
       "      <td>74</td>\n",
       "      <td>81</td>\n",
       "      <td>98</td>\n",
       "    </tr>\n",
       "  </tbody>\n",
       "</table>\n",
       "<p>5 rows × 1283 columns</p>\n",
       "</div>"
      ],
      "text/plain": [
       "    video_id_list    y                       y_name    0    1    2    3    4  \\\n",
       "0  b'--cB2ZVjpnA'  399  Smoke detector, smoke alarm   95  122  147   14  101   \n",
       "1  b'--PJHxphWEs'    0                       Speech   80  181  216  164  218   \n",
       "2  b'--ekDLDTUXA'   27                      Singing  107  150   89  138  132   \n",
       "3  b'--aE2O5G5WE'    0                       Speech  141   83  110  177  169   \n",
       "4  b'--aaILOrkII'  427             Gunshot, gunfire  102   47  170   59  136   \n",
       "\n",
       "     5    6  ...  1270  1271  1272  1273  1274  1275  1276  1277  1278  1279  \n",
       "0   48  157  ...     0    17   255     0   255   255   160    97   212     0  \n",
       "1  123   76  ...   205   151   157   137   178   151    25   136   181   235  \n",
       "2    0  138  ...   247   102   135   127   222   204   228   174   147   188  \n",
       "3   71   64  ...   193   255    65   158   174     0   199   140   167   102  \n",
       "4  154   53  ...    44   125   144   121   255   131   182    74    81    98  \n",
       "\n",
       "[5 rows x 1283 columns]"
      ]
     },
     "execution_count": 24,
     "metadata": {},
     "output_type": "execute_result"
    }
   ],
   "source": [
    "raw.head()"
   ]
  },
  {
   "cell_type": "code",
   "execution_count": 25,
   "metadata": {},
   "outputs": [
    {
     "data": {
      "text/plain": [
       "(205, 1283)"
      ]
     },
     "execution_count": 25,
     "metadata": {},
     "output_type": "execute_result"
    }
   ],
   "source": [
    "raw.loc[raw['y_name']=='Chopping (food)'].shape"
   ]
  },
  {
   "cell_type": "code",
   "execution_count": 26,
   "metadata": {},
   "outputs": [
    {
     "data": {
      "text/plain": [
       "Speech                                      1010480\n",
       "Music                                        630174\n",
       "Vehicle                                       78013\n",
       "Singing                                       38453\n",
       "Animal                                        20587\n",
       "Bird                                          13212\n",
       "Percussion                                     6879\n",
       "Wind                                           6259\n",
       "Water                                          5963\n",
       "Fowl                                           5563\n",
       "Female singing                                 5467\n",
       "Inside, small room                             5382\n",
       "Engine                                         4838\n",
       "Male singing                                   4811\n",
       "Tools                                          4644\n",
       "Mantra                                         4329\n",
       "Rail transport                                 4046\n",
       "Rapping                                        3954\n",
       "Brass instrument                               3949\n",
       "Silence                                        3779\n",
       "Outside, rural or natural                      3777\n",
       "Gunshot, gunfire                               3690\n",
       "Wind instrument, woodwind instrument           3574\n",
       "Emergency vehicle                              3478\n",
       "Bowed string instrument                        3385\n",
       "Siren                                          3379\n",
       "Crowd                                          3370\n",
       "Keyboard (musical)                             3267\n",
       "Mallet percussion                              3109\n",
       "Choir                                          2986\n",
       "Sound effect                                   2830\n",
       "Cheering                                       2736\n",
       "Insect                                         2549\n",
       "Hiss                                           2319\n",
       "Livestock, farm animals, working animals       2236\n",
       "Printer                                        2092\n",
       "Musical instrument                             2080\n",
       "Rain                                           2058\n",
       "Boat, Water vehicle                            2014\n",
       "Domestic animals, pets                         1931\n",
       "Laughter                                       1886\n",
       "Outside, urban or manmade                      1835\n",
       "Child speech, kid speaking                     1804\n",
       "Organ                                          1784\n",
       "Mechanisms                                     1781\n",
       "Whistling                                      1705\n",
       "Snoring                                        1685\n",
       "Fireworks                                      1567\n",
       "Inside, large room or hall                     1546\n",
       "Vacuum cleaner                                 1527\n",
       "Pizzicato                                      1500\n",
       "Stream                                         1468\n",
       "Whack, thwack                                  1459\n",
       "Typing                                         1322\n",
       "Chainsaw                                       1317\n",
       "Chant                                          1296\n",
       "Dishes, pots, and pans                         1280\n",
       "Car passing by                                 1271\n",
       "Child singing                                  1263\n",
       "Heavy engine (low frequency)                   1211\n",
       "Name: y_name, dtype: int64"
      ]
     },
     "execution_count": 26,
     "metadata": {},
     "output_type": "execute_result"
    }
   ],
   "source": [
    "raw['y_name'].value_counts().head(60)"
   ]
  },
  {
   "cell_type": "code",
   "execution_count": 27,
   "metadata": {},
   "outputs": [],
   "source": [
    "# Classes for house sounds\n",
    "house_list = [\n",
    "    'Speech',\n",
    "    'Music',\n",
    "    'Laughter',\n",
    "    'Snoring',\n",
    "    'Vacuum cleaner',\n",
    "    'Typing',\n",
    "    'Dishes, pots, and pans',\n",
    "    'Meow',\n",
    "    'Purr',\n",
    "    'Toothbrush',\n",
    "    'Television',\n",
    "    'Microwave oven',\n",
    "    'Bathtub (filling or washing)',\n",
    "    'Water tap, faucet',\n",
    "    'Sink (filling or washing)', \n",
    "    'Toilet flush',\n",
    "    'Baby cry, infant cry',\n",
    "    'Dog',\n",
    "    'Frying (food)',\n",
    "    'Whoop',\n",
    "    'Walk, footsteps',\n",
    "    'Whispering',\n",
    "    'Crying, sobbing',\n",
    "    'Clarinet',\n",
    "    'Blender',\n",
    "    'Screaming',\n",
    "    'Electric shaver, electric razor',\n",
    "    'Door',\n",
    "    'Chopping (food)'\n",
    "]"
   ]
  },
  {
   "cell_type": "code",
   "execution_count": 28,
   "metadata": {},
   "outputs": [
    {
     "data": {
      "text/plain": [
       "29"
      ]
     },
     "execution_count": 28,
     "metadata": {},
     "output_type": "execute_result"
    }
   ],
   "source": [
    "len(house_list)"
   ]
  },
  {
   "cell_type": "code",
   "execution_count": 29,
   "metadata": {},
   "outputs": [],
   "source": [
    "house_10 = raw.loc[raw['y_name'].isin(house_list)]"
   ]
  },
  {
   "cell_type": "code",
   "execution_count": 30,
   "metadata": {},
   "outputs": [
    {
     "data": {
      "text/plain": [
       "(1659015, 1283)"
      ]
     },
     "execution_count": 30,
     "metadata": {},
     "output_type": "execute_result"
    }
   ],
   "source": [
    "house_10.shape"
   ]
  },
  {
   "cell_type": "code",
   "execution_count": 31,
   "metadata": {},
   "outputs": [
    {
     "data": {
      "text/plain": [
       "((1659015, 643), (1659015, 643))"
      ]
     },
     "execution_count": 31,
     "metadata": {},
     "output_type": "execute_result"
    }
   ],
   "source": [
    "# Split features in half - take first 5 vectors (1-640 columns) and add the remained 6-10 vectors as new observations.\n",
    "# Based on literature 5 vectors (5 sec audio) should be sufficient for classification.\n",
    "house_5_first_vectors = house_10[house_10.columns[0:643]]\n",
    "house_5_last_vectors = house_10.drop(house_10.columns[3:643], axis=1)\n",
    "house_5_first_vectors.shape, house_5_last_vectors.shape"
   ]
  },
  {
   "cell_type": "code",
   "execution_count": 32,
   "metadata": {},
   "outputs": [],
   "source": [
    "# Rename the last 5 vector columns to match the first 5. Make new dataframe.\n",
    "keys = [x for x in range(640, 1280)]\n",
    "values = [x for x in range(0, 640)]\n",
    "rename_dict = dict(zip(keys, values))\n",
    "house_5_last_vectors.rename(columns=rename_dict, inplace=True)"
   ]
  },
  {
   "cell_type": "code",
   "execution_count": 33,
   "metadata": {},
   "outputs": [],
   "source": [
    "house = pd.concat([house_5_first_vectors, house_5_last_vectors], axis=0)"
   ]
  },
  {
   "cell_type": "code",
   "execution_count": 34,
   "metadata": {},
   "outputs": [
    {
     "data": {
      "text/plain": [
       "(3318030, 643)"
      ]
     },
     "execution_count": 34,
     "metadata": {},
     "output_type": "execute_result"
    }
   ],
   "source": [
    "house.shape"
   ]
  },
  {
   "cell_type": "code",
   "execution_count": 35,
   "metadata": {},
   "outputs": [
    {
     "data": {
      "text/html": [
       "<div>\n",
       "<style scoped>\n",
       "    .dataframe tbody tr th:only-of-type {\n",
       "        vertical-align: middle;\n",
       "    }\n",
       "\n",
       "    .dataframe tbody tr th {\n",
       "        vertical-align: top;\n",
       "    }\n",
       "\n",
       "    .dataframe thead th {\n",
       "        text-align: right;\n",
       "    }\n",
       "</style>\n",
       "<table border=\"1\" class=\"dataframe\">\n",
       "  <thead>\n",
       "    <tr style=\"text-align: right;\">\n",
       "      <th></th>\n",
       "      <th>video_id_list</th>\n",
       "      <th>y</th>\n",
       "      <th>y_name</th>\n",
       "      <th>0</th>\n",
       "      <th>1</th>\n",
       "      <th>2</th>\n",
       "      <th>3</th>\n",
       "      <th>4</th>\n",
       "      <th>5</th>\n",
       "      <th>6</th>\n",
       "      <th>...</th>\n",
       "      <th>630</th>\n",
       "      <th>631</th>\n",
       "      <th>632</th>\n",
       "      <th>633</th>\n",
       "      <th>634</th>\n",
       "      <th>635</th>\n",
       "      <th>636</th>\n",
       "      <th>637</th>\n",
       "      <th>638</th>\n",
       "      <th>639</th>\n",
       "    </tr>\n",
       "  </thead>\n",
       "  <tbody>\n",
       "    <tr>\n",
       "      <td>1</td>\n",
       "      <td>b'--PJHxphWEs'</td>\n",
       "      <td>0</td>\n",
       "      <td>Speech</td>\n",
       "      <td>80</td>\n",
       "      <td>181</td>\n",
       "      <td>216</td>\n",
       "      <td>164</td>\n",
       "      <td>218</td>\n",
       "      <td>123</td>\n",
       "      <td>76</td>\n",
       "      <td>...</td>\n",
       "      <td>157</td>\n",
       "      <td>255</td>\n",
       "      <td>93</td>\n",
       "      <td>143</td>\n",
       "      <td>86</td>\n",
       "      <td>220</td>\n",
       "      <td>255</td>\n",
       "      <td>117</td>\n",
       "      <td>255</td>\n",
       "      <td>96</td>\n",
       "    </tr>\n",
       "    <tr>\n",
       "      <td>3</td>\n",
       "      <td>b'--aE2O5G5WE'</td>\n",
       "      <td>0</td>\n",
       "      <td>Speech</td>\n",
       "      <td>141</td>\n",
       "      <td>83</td>\n",
       "      <td>110</td>\n",
       "      <td>177</td>\n",
       "      <td>169</td>\n",
       "      <td>71</td>\n",
       "      <td>64</td>\n",
       "      <td>...</td>\n",
       "      <td>208</td>\n",
       "      <td>196</td>\n",
       "      <td>33</td>\n",
       "      <td>233</td>\n",
       "      <td>0</td>\n",
       "      <td>34</td>\n",
       "      <td>189</td>\n",
       "      <td>160</td>\n",
       "      <td>0</td>\n",
       "      <td>153</td>\n",
       "    </tr>\n",
       "    <tr>\n",
       "      <td>5</td>\n",
       "      <td>b'--ZhevVpy1s'</td>\n",
       "      <td>375</td>\n",
       "      <td>Toothbrush</td>\n",
       "      <td>117</td>\n",
       "      <td>35</td>\n",
       "      <td>163</td>\n",
       "      <td>90</td>\n",
       "      <td>198</td>\n",
       "      <td>103</td>\n",
       "      <td>63</td>\n",
       "      <td>...</td>\n",
       "      <td>0</td>\n",
       "      <td>1</td>\n",
       "      <td>202</td>\n",
       "      <td>9</td>\n",
       "      <td>116</td>\n",
       "      <td>0</td>\n",
       "      <td>247</td>\n",
       "      <td>72</td>\n",
       "      <td>44</td>\n",
       "      <td>166</td>\n",
       "    </tr>\n",
       "    <tr>\n",
       "      <td>7</td>\n",
       "      <td>b'-0DLPzsiXXE'</td>\n",
       "      <td>137</td>\n",
       "      <td>Music</td>\n",
       "      <td>187</td>\n",
       "      <td>52</td>\n",
       "      <td>105</td>\n",
       "      <td>77</td>\n",
       "      <td>130</td>\n",
       "      <td>132</td>\n",
       "      <td>161</td>\n",
       "      <td>...</td>\n",
       "      <td>107</td>\n",
       "      <td>183</td>\n",
       "      <td>69</td>\n",
       "      <td>114</td>\n",
       "      <td>122</td>\n",
       "      <td>51</td>\n",
       "      <td>0</td>\n",
       "      <td>161</td>\n",
       "      <td>190</td>\n",
       "      <td>243</td>\n",
       "    </tr>\n",
       "    <tr>\n",
       "      <td>8</td>\n",
       "      <td>b'-0FHUc78Gqo'</td>\n",
       "      <td>137</td>\n",
       "      <td>Music</td>\n",
       "      <td>209</td>\n",
       "      <td>122</td>\n",
       "      <td>121</td>\n",
       "      <td>143</td>\n",
       "      <td>81</td>\n",
       "      <td>131</td>\n",
       "      <td>230</td>\n",
       "      <td>...</td>\n",
       "      <td>124</td>\n",
       "      <td>0</td>\n",
       "      <td>169</td>\n",
       "      <td>244</td>\n",
       "      <td>0</td>\n",
       "      <td>255</td>\n",
       "      <td>80</td>\n",
       "      <td>19</td>\n",
       "      <td>217</td>\n",
       "      <td>255</td>\n",
       "    </tr>\n",
       "    <tr>\n",
       "      <td>10</td>\n",
       "      <td>b'-0mG4W5Hlq8'</td>\n",
       "      <td>0</td>\n",
       "      <td>Speech</td>\n",
       "      <td>107</td>\n",
       "      <td>115</td>\n",
       "      <td>162</td>\n",
       "      <td>214</td>\n",
       "      <td>86</td>\n",
       "      <td>82</td>\n",
       "      <td>255</td>\n",
       "      <td>...</td>\n",
       "      <td>162</td>\n",
       "      <td>175</td>\n",
       "      <td>75</td>\n",
       "      <td>195</td>\n",
       "      <td>204</td>\n",
       "      <td>194</td>\n",
       "      <td>188</td>\n",
       "      <td>80</td>\n",
       "      <td>87</td>\n",
       "      <td>255</td>\n",
       "    </tr>\n",
       "    <tr>\n",
       "      <td>12</td>\n",
       "      <td>b'-0SdAVK79lg'</td>\n",
       "      <td>137</td>\n",
       "      <td>Music</td>\n",
       "      <td>194</td>\n",
       "      <td>75</td>\n",
       "      <td>123</td>\n",
       "      <td>72</td>\n",
       "      <td>102</td>\n",
       "      <td>146</td>\n",
       "      <td>133</td>\n",
       "      <td>...</td>\n",
       "      <td>130</td>\n",
       "      <td>129</td>\n",
       "      <td>172</td>\n",
       "      <td>115</td>\n",
       "      <td>249</td>\n",
       "      <td>129</td>\n",
       "      <td>87</td>\n",
       "      <td>54</td>\n",
       "      <td>186</td>\n",
       "      <td>29</td>\n",
       "    </tr>\n",
       "    <tr>\n",
       "      <td>15</td>\n",
       "      <td>b'-1TLtjPtnms'</td>\n",
       "      <td>137</td>\n",
       "      <td>Music</td>\n",
       "      <td>217</td>\n",
       "      <td>146</td>\n",
       "      <td>35</td>\n",
       "      <td>91</td>\n",
       "      <td>56</td>\n",
       "      <td>111</td>\n",
       "      <td>78</td>\n",
       "      <td>...</td>\n",
       "      <td>82</td>\n",
       "      <td>56</td>\n",
       "      <td>255</td>\n",
       "      <td>211</td>\n",
       "      <td>109</td>\n",
       "      <td>0</td>\n",
       "      <td>68</td>\n",
       "      <td>255</td>\n",
       "      <td>110</td>\n",
       "      <td>0</td>\n",
       "    </tr>\n",
       "    <tr>\n",
       "      <td>18</td>\n",
       "      <td>b'-1LrH01Ei1w'</td>\n",
       "      <td>137</td>\n",
       "      <td>Music</td>\n",
       "      <td>150</td>\n",
       "      <td>255</td>\n",
       "      <td>198</td>\n",
       "      <td>0</td>\n",
       "      <td>0</td>\n",
       "      <td>123</td>\n",
       "      <td>107</td>\n",
       "      <td>...</td>\n",
       "      <td>238</td>\n",
       "      <td>254</td>\n",
       "      <td>0</td>\n",
       "      <td>0</td>\n",
       "      <td>0</td>\n",
       "      <td>50</td>\n",
       "      <td>196</td>\n",
       "      <td>247</td>\n",
       "      <td>141</td>\n",
       "      <td>255</td>\n",
       "    </tr>\n",
       "    <tr>\n",
       "      <td>20</td>\n",
       "      <td>b'-2hQKCE-oTI'</td>\n",
       "      <td>53</td>\n",
       "      <td>Walk, footsteps</td>\n",
       "      <td>30</td>\n",
       "      <td>162</td>\n",
       "      <td>44</td>\n",
       "      <td>7</td>\n",
       "      <td>216</td>\n",
       "      <td>116</td>\n",
       "      <td>206</td>\n",
       "      <td>...</td>\n",
       "      <td>213</td>\n",
       "      <td>109</td>\n",
       "      <td>50</td>\n",
       "      <td>88</td>\n",
       "      <td>19</td>\n",
       "      <td>46</td>\n",
       "      <td>54</td>\n",
       "      <td>154</td>\n",
       "      <td>42</td>\n",
       "      <td>211</td>\n",
       "    </tr>\n",
       "  </tbody>\n",
       "</table>\n",
       "<p>10 rows × 643 columns</p>\n",
       "</div>"
      ],
      "text/plain": [
       "     video_id_list    y           y_name    0    1    2    3    4    5    6  \\\n",
       "1   b'--PJHxphWEs'    0           Speech   80  181  216  164  218  123   76   \n",
       "3   b'--aE2O5G5WE'    0           Speech  141   83  110  177  169   71   64   \n",
       "5   b'--ZhevVpy1s'  375       Toothbrush  117   35  163   90  198  103   63   \n",
       "7   b'-0DLPzsiXXE'  137            Music  187   52  105   77  130  132  161   \n",
       "8   b'-0FHUc78Gqo'  137            Music  209  122  121  143   81  131  230   \n",
       "10  b'-0mG4W5Hlq8'    0           Speech  107  115  162  214   86   82  255   \n",
       "12  b'-0SdAVK79lg'  137            Music  194   75  123   72  102  146  133   \n",
       "15  b'-1TLtjPtnms'  137            Music  217  146   35   91   56  111   78   \n",
       "18  b'-1LrH01Ei1w'  137            Music  150  255  198    0    0  123  107   \n",
       "20  b'-2hQKCE-oTI'   53  Walk, footsteps   30  162   44    7  216  116  206   \n",
       "\n",
       "    ...  630  631  632  633  634  635  636  637  638  639  \n",
       "1   ...  157  255   93  143   86  220  255  117  255   96  \n",
       "3   ...  208  196   33  233    0   34  189  160    0  153  \n",
       "5   ...    0    1  202    9  116    0  247   72   44  166  \n",
       "7   ...  107  183   69  114  122   51    0  161  190  243  \n",
       "8   ...  124    0  169  244    0  255   80   19  217  255  \n",
       "10  ...  162  175   75  195  204  194  188   80   87  255  \n",
       "12  ...  130  129  172  115  249  129   87   54  186   29  \n",
       "15  ...   82   56  255  211  109    0   68  255  110    0  \n",
       "18  ...  238  254    0    0    0   50  196  247  141  255  \n",
       "20  ...  213  109   50   88   19   46   54  154   42  211  \n",
       "\n",
       "[10 rows x 643 columns]"
      ]
     },
     "execution_count": 35,
     "metadata": {},
     "output_type": "execute_result"
    }
   ],
   "source": [
    "house.head(10)"
   ]
  },
  {
   "cell_type": "code",
   "execution_count": 36,
   "metadata": {},
   "outputs": [],
   "source": [
    "house.reset_index(inplace=True, drop=True)"
   ]
  },
  {
   "cell_type": "code",
   "execution_count": 37,
   "metadata": {},
   "outputs": [
    {
     "data": {
      "text/plain": [
       "array(['Speech', 'Toothbrush', 'Music', 'Walk, footsteps', 'Clarinet',\n",
       "       'Chopping (food)', 'Snoring', 'Dishes, pots, and pans',\n",
       "       'Screaming', 'Whoop', 'Vacuum cleaner', 'Whispering', 'Door',\n",
       "       'Blender', 'Meow', 'Typing', 'Microwave oven',\n",
       "       'Electric shaver, electric razor', 'Television', 'Laughter',\n",
       "       'Frying (food)', 'Purr', 'Sink (filling or washing)', 'Dog',\n",
       "       'Crying, sobbing', 'Baby cry, infant cry', 'Toilet flush',\n",
       "       'Water tap, faucet', 'Bathtub (filling or washing)'], dtype=object)"
      ]
     },
     "execution_count": 37,
     "metadata": {},
     "output_type": "execute_result"
    }
   ],
   "source": [
    "house.y_name.unique()"
   ]
  },
  {
   "cell_type": "code",
   "execution_count": 38,
   "metadata": {},
   "outputs": [],
   "source": [
    "# Rename y_name variables\n",
    "house.replace({'y_name': {\n",
    "    'Sink (filling or washing)':'Sink', \n",
    "    'Bathtub (filling or washing)':'Bathtub',\n",
    "    'Vacuum cleaner':'Vacuum_cleaner',\n",
    "    'Microwave oven':'Microwave_oven',\n",
    "    'Toilet flush':'Toilet_flush',\n",
    "    'Water tap, faucet':'Water',\n",
    "    'Dishes, pots, and pans':'Dishes_pans',\n",
    "    'Baby cry, infant cry':'Baby_cry',\n",
    "    'Frying (food)':'Frying_food',\n",
    "    'Walk, footsteps':'Footsteps',\n",
    "    'Crying, sobbing':'Crying',\n",
    "    'Electric shaver, electric razor':'Shaving',\n",
    "    'Chopping (food)':'Chopping_food'\n",
    "    \n",
    "}}, inplace=True)"
   ]
  },
  {
   "cell_type": "code",
   "execution_count": 39,
   "metadata": {},
   "outputs": [
    {
     "data": {
      "text/plain": [
       "array(['Speech', 'Toothbrush', 'Music', 'Footsteps', 'Clarinet',\n",
       "       'Chopping_food', 'Snoring', 'Dishes_pans', 'Screaming', 'Whoop',\n",
       "       'Vacuum_cleaner', 'Whispering', 'Door', 'Blender', 'Meow',\n",
       "       'Typing', 'Microwave_oven', 'Shaving', 'Television', 'Laughter',\n",
       "       'Frying_food', 'Purr', 'Sink', 'Dog', 'Crying', 'Baby_cry',\n",
       "       'Toilet_flush', 'Water', 'Bathtub'], dtype=object)"
      ]
     },
     "execution_count": 39,
     "metadata": {},
     "output_type": "execute_result"
    }
   ],
   "source": [
    "house.y_name.unique()"
   ]
  },
  {
   "cell_type": "code",
   "execution_count": 40,
   "metadata": {},
   "outputs": [
    {
     "data": {
      "text/plain": [
       "29"
      ]
     },
     "execution_count": 40,
     "metadata": {},
     "output_type": "execute_result"
    }
   ],
   "source": [
    "len(house.y_name.unique())"
   ]
  },
  {
   "cell_type": "code",
   "execution_count": 41,
   "metadata": {},
   "outputs": [],
   "source": [
    "# Pickle dataframe\n",
    "\n",
    "with open('/Users/greenapple/project3/data/processed/house.pkl', 'wb') as f:\n",
    "    pickle.dump(house, f)"
   ]
  }
 ],
 "metadata": {
  "kernelspec": {
   "display_name": "metis",
   "language": "python",
   "name": "metis"
  },
  "language_info": {
   "codemirror_mode": {
    "name": "ipython",
    "version": 3
   },
   "file_extension": ".py",
   "mimetype": "text/x-python",
   "name": "python",
   "nbconvert_exporter": "python",
   "pygments_lexer": "ipython3",
   "version": "3.7.3"
  }
 },
 "nbformat": 4,
 "nbformat_minor": 2
}
