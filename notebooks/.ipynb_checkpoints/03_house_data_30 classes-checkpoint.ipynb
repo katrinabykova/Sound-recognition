{
 "cells": [
  {
   "cell_type": "code",
   "execution_count": 3,
   "metadata": {
    "ExecuteTime": {
     "end_time": "2019-10-17T17:46:05.614327Z",
     "start_time": "2019-10-17T17:46:05.606649Z"
    }
   },
   "outputs": [],
   "source": [
    "import numpy as np\n",
    "import pandas as pd\n",
    "import pickle\n",
    "from sklearn.model_selection import train_test_split\n",
    "from sklearn.linear_model import LogisticRegression\n",
    "from sklearn.metrics import f1_score\n",
    "from imblearn.under_sampling import RandomUnderSampler"
   ]
  },
  {
   "cell_type": "code",
   "execution_count": 4,
   "metadata": {
    "ExecuteTime": {
     "end_time": "2019-10-17T17:46:10.444762Z",
     "start_time": "2019-10-17T17:46:07.033077Z"
    }
   },
   "outputs": [],
   "source": [
    "# Unpickle data \n",
    "with open('/Users/greenapple/project3/data/processed/house.pkl', 'rb') as f:\n",
    "    house = pickle.load(f)"
   ]
  },
  {
   "cell_type": "code",
   "execution_count": 5,
   "metadata": {
    "ExecuteTime": {
     "end_time": "2019-10-17T17:46:10.483192Z",
     "start_time": "2019-10-17T17:46:10.447417Z"
    }
   },
   "outputs": [
    {
     "data": {
      "text/html": [
       "<div>\n",
       "<style scoped>\n",
       "    .dataframe tbody tr th:only-of-type {\n",
       "        vertical-align: middle;\n",
       "    }\n",
       "\n",
       "    .dataframe tbody tr th {\n",
       "        vertical-align: top;\n",
       "    }\n",
       "\n",
       "    .dataframe thead th {\n",
       "        text-align: right;\n",
       "    }\n",
       "</style>\n",
       "<table border=\"1\" class=\"dataframe\">\n",
       "  <thead>\n",
       "    <tr style=\"text-align: right;\">\n",
       "      <th></th>\n",
       "      <th>video_id_list</th>\n",
       "      <th>y</th>\n",
       "      <th>y_name</th>\n",
       "      <th>0</th>\n",
       "      <th>1</th>\n",
       "      <th>2</th>\n",
       "      <th>3</th>\n",
       "      <th>4</th>\n",
       "      <th>5</th>\n",
       "      <th>6</th>\n",
       "      <th>...</th>\n",
       "      <th>630</th>\n",
       "      <th>631</th>\n",
       "      <th>632</th>\n",
       "      <th>633</th>\n",
       "      <th>634</th>\n",
       "      <th>635</th>\n",
       "      <th>636</th>\n",
       "      <th>637</th>\n",
       "      <th>638</th>\n",
       "      <th>639</th>\n",
       "    </tr>\n",
       "  </thead>\n",
       "  <tbody>\n",
       "    <tr>\n",
       "      <td>0</td>\n",
       "      <td>b'--cB2ZVjpnA'</td>\n",
       "      <td>399</td>\n",
       "      <td>Smoke detector, smoke alarm</td>\n",
       "      <td>95</td>\n",
       "      <td>122</td>\n",
       "      <td>147</td>\n",
       "      <td>14</td>\n",
       "      <td>101</td>\n",
       "      <td>48</td>\n",
       "      <td>157</td>\n",
       "      <td>...</td>\n",
       "      <td>255</td>\n",
       "      <td>0</td>\n",
       "      <td>178</td>\n",
       "      <td>0</td>\n",
       "      <td>22</td>\n",
       "      <td>255</td>\n",
       "      <td>255</td>\n",
       "      <td>255</td>\n",
       "      <td>180</td>\n",
       "      <td>0</td>\n",
       "    </tr>\n",
       "    <tr>\n",
       "      <td>1</td>\n",
       "      <td>b'--PJHxphWEs'</td>\n",
       "      <td>0</td>\n",
       "      <td>Speech</td>\n",
       "      <td>80</td>\n",
       "      <td>181</td>\n",
       "      <td>216</td>\n",
       "      <td>164</td>\n",
       "      <td>218</td>\n",
       "      <td>123</td>\n",
       "      <td>76</td>\n",
       "      <td>...</td>\n",
       "      <td>157</td>\n",
       "      <td>255</td>\n",
       "      <td>93</td>\n",
       "      <td>143</td>\n",
       "      <td>86</td>\n",
       "      <td>220</td>\n",
       "      <td>255</td>\n",
       "      <td>117</td>\n",
       "      <td>255</td>\n",
       "      <td>96</td>\n",
       "    </tr>\n",
       "    <tr>\n",
       "      <td>2</td>\n",
       "      <td>b'--ekDLDTUXA'</td>\n",
       "      <td>27</td>\n",
       "      <td>Singing</td>\n",
       "      <td>107</td>\n",
       "      <td>150</td>\n",
       "      <td>89</td>\n",
       "      <td>138</td>\n",
       "      <td>132</td>\n",
       "      <td>0</td>\n",
       "      <td>138</td>\n",
       "      <td>...</td>\n",
       "      <td>134</td>\n",
       "      <td>98</td>\n",
       "      <td>152</td>\n",
       "      <td>119</td>\n",
       "      <td>65</td>\n",
       "      <td>132</td>\n",
       "      <td>113</td>\n",
       "      <td>186</td>\n",
       "      <td>161</td>\n",
       "      <td>81</td>\n",
       "    </tr>\n",
       "    <tr>\n",
       "      <td>3</td>\n",
       "      <td>b'--aE2O5G5WE'</td>\n",
       "      <td>0</td>\n",
       "      <td>Speech</td>\n",
       "      <td>141</td>\n",
       "      <td>83</td>\n",
       "      <td>110</td>\n",
       "      <td>177</td>\n",
       "      <td>169</td>\n",
       "      <td>71</td>\n",
       "      <td>64</td>\n",
       "      <td>...</td>\n",
       "      <td>208</td>\n",
       "      <td>196</td>\n",
       "      <td>33</td>\n",
       "      <td>233</td>\n",
       "      <td>0</td>\n",
       "      <td>34</td>\n",
       "      <td>189</td>\n",
       "      <td>160</td>\n",
       "      <td>0</td>\n",
       "      <td>153</td>\n",
       "    </tr>\n",
       "    <tr>\n",
       "      <td>4</td>\n",
       "      <td>b'--aaILOrkII'</td>\n",
       "      <td>427</td>\n",
       "      <td>Gunshot, gunfire</td>\n",
       "      <td>102</td>\n",
       "      <td>47</td>\n",
       "      <td>170</td>\n",
       "      <td>59</td>\n",
       "      <td>136</td>\n",
       "      <td>154</td>\n",
       "      <td>53</td>\n",
       "      <td>...</td>\n",
       "      <td>148</td>\n",
       "      <td>152</td>\n",
       "      <td>191</td>\n",
       "      <td>255</td>\n",
       "      <td>255</td>\n",
       "      <td>124</td>\n",
       "      <td>209</td>\n",
       "      <td>85</td>\n",
       "      <td>110</td>\n",
       "      <td>0</td>\n",
       "    </tr>\n",
       "  </tbody>\n",
       "</table>\n",
       "<p>5 rows × 643 columns</p>\n",
       "</div>"
      ],
      "text/plain": [
       "    video_id_list    y                       y_name    0    1    2    3    4  \\\n",
       "0  b'--cB2ZVjpnA'  399  Smoke detector, smoke alarm   95  122  147   14  101   \n",
       "1  b'--PJHxphWEs'    0                       Speech   80  181  216  164  218   \n",
       "2  b'--ekDLDTUXA'   27                      Singing  107  150   89  138  132   \n",
       "3  b'--aE2O5G5WE'    0                       Speech  141   83  110  177  169   \n",
       "4  b'--aaILOrkII'  427             Gunshot, gunfire  102   47  170   59  136   \n",
       "\n",
       "     5    6  ...  630  631  632  633  634  635  636  637  638  639  \n",
       "0   48  157  ...  255    0  178    0   22  255  255  255  180    0  \n",
       "1  123   76  ...  157  255   93  143   86  220  255  117  255   96  \n",
       "2    0  138  ...  134   98  152  119   65  132  113  186  161   81  \n",
       "3   71   64  ...  208  196   33  233    0   34  189  160    0  153  \n",
       "4  154   53  ...  148  152  191  255  255  124  209   85  110    0  \n",
       "\n",
       "[5 rows x 643 columns]"
      ]
     },
     "execution_count": 5,
     "metadata": {},
     "output_type": "execute_result"
    }
   ],
   "source": [
    "house.head()"
   ]
  },
  {
   "cell_type": "code",
   "execution_count": 6,
   "metadata": {
    "ExecuteTime": {
     "end_time": "2019-10-17T17:46:12.747671Z",
     "start_time": "2019-10-17T17:46:12.410356Z"
    }
   },
   "outputs": [
    {
     "data": {
      "text/plain": [
       "Speech             2020960\n",
       "Music              1260348\n",
       "Vehicle             156026\n",
       "Singing              76906\n",
       "Animal               41174\n",
       "                    ...   \n",
       "Ratchet, pawl            2\n",
       "Moo                      2\n",
       "Cattle, bovinae          2\n",
       "Tabla                    2\n",
       "Angry music              2\n",
       "Name: y_name, Length: 524, dtype: int64"
      ]
     },
     "execution_count": 6,
     "metadata": {},
     "output_type": "execute_result"
    }
   ],
   "source": [
    "raw_5_sec.y_name.value_counts()"
   ]
  },
  {
   "cell_type": "code",
   "execution_count": 23,
   "metadata": {
    "ExecuteTime": {
     "end_time": "2019-10-17T18:14:57.835961Z",
     "start_time": "2019-10-17T18:14:57.594312Z"
    }
   },
   "outputs": [
    {
     "data": {
      "text/plain": [
       "(772, 643)"
      ]
     },
     "execution_count": 23,
     "metadata": {},
     "output_type": "execute_result"
    }
   ],
   "source": [
    "# Check if a class is there\n",
    "raw_5_sec.loc[raw_5_sec['y_name'] == 'Hair dryer'].shape"
   ]
  },
  {
   "cell_type": "code",
   "execution_count": 68,
   "metadata": {
    "ExecuteTime": {
     "end_time": "2019-10-17T18:50:17.593271Z",
     "start_time": "2019-10-17T18:50:17.586484Z"
    }
   },
   "outputs": [],
   "source": [
    "# Selected classes for house dataframe\n",
    "house_raw_list = [\n",
    "    'Toothbrush', \n",
    "    'Walk, footsteps', \n",
    "    'Clarinet', \n",
    "    'Chopping (food)', \n",
    "    'Snoring',\n",
    "    'Dishes, pots, and pans', \n",
    "    'Screaming', \n",
    "    'Whoop', \n",
    "    'Vacuum cleaner', \n",
    "    'Speech',\n",
    "    'Whispering', \n",
    "    'Door', \n",
    "    'Blender', \n",
    "    'Meow', \n",
    "    'Typing', \n",
    "    'Music',\n",
    "    'Microwave oven', \n",
    "    'Electric shaver, electric razor', \n",
    "    'Television', \n",
    "    'Laughter',\n",
    "    'Frying (food)', \n",
    "    'Purr', \n",
    "    'Hair dryer', \n",
    "    'Dog', \n",
    "    'Crying, sobbing', \n",
    "    'Baby cry, infant cry',\n",
    "    'Toilet flush', \n",
    "    'Water tap, faucet', \n",
    "    'Bathtub (filling or washing)',\n",
    "    'Video game music'\n",
    "]"
   ]
  },
  {
   "cell_type": "code",
   "execution_count": 69,
   "metadata": {
    "ExecuteTime": {
     "end_time": "2019-10-17T18:50:18.170127Z",
     "start_time": "2019-10-17T18:50:18.161141Z"
    }
   },
   "outputs": [
    {
     "data": {
      "text/plain": [
       "30"
      ]
     },
     "execution_count": 69,
     "metadata": {},
     "output_type": "execute_result"
    }
   ],
   "source": [
    "len(house_raw_list)"
   ]
  },
  {
   "cell_type": "code",
   "execution_count": 70,
   "metadata": {
    "ExecuteTime": {
     "end_time": "2019-10-17T18:50:24.460470Z",
     "start_time": "2019-10-17T18:50:18.705894Z"
    }
   },
   "outputs": [
    {
     "data": {
      "text/plain": [
       "(3319202, 643)"
      ]
     },
     "execution_count": 70,
     "metadata": {},
     "output_type": "execute_result"
    }
   ],
   "source": [
    "# Make house dataframe\n",
    "house = raw_5_sec.loc[raw_5_sec.y_name.isin(house_raw_list)]\n",
    "house.shape"
   ]
  },
  {
   "cell_type": "code",
   "execution_count": 71,
   "metadata": {
    "ExecuteTime": {
     "end_time": "2019-10-17T18:50:24.744891Z",
     "start_time": "2019-10-17T18:50:24.463984Z"
    }
   },
   "outputs": [
    {
     "data": {
      "text/plain": [
       "30"
      ]
     },
     "execution_count": 71,
     "metadata": {},
     "output_type": "execute_result"
    }
   ],
   "source": [
    "len(house.y_name.value_counts())"
   ]
  },
  {
   "cell_type": "code",
   "execution_count": 72,
   "metadata": {
    "ExecuteTime": {
     "end_time": "2019-10-17T18:50:26.216598Z",
     "start_time": "2019-10-17T18:50:24.748050Z"
    }
   },
   "outputs": [],
   "source": [
    "# Rename y_name values\n",
    "house_dict = {\n",
    "    'Toothbrush':'toothbrush', \n",
    "    'Walk, footsteps':'footsteps', \n",
    "    'Clarinet':'clarinet', \n",
    "    'Chopping (food)':'chopping_food', \n",
    "    'Snoring':'snoring',\n",
    "    'Dishes, pots, and pans':'dishes_pots', \n",
    "    'Screaming':'screeming', \n",
    "    'Whoop':'whoop', \n",
    "    'Vacuum cleaner':'vacuum_cleaner', \n",
    "    'Speech':'speech',\n",
    "    'Whispering':'whispering', \n",
    "    'Door':'door', \n",
    "    'Blender': 'blender', \n",
    "    'Meow':'meow', \n",
    "    'Typing':'typing', \n",
    "    'Music':'music',\n",
    "    'Microwave oven':'microwave', \n",
    "    'Electric shaver, electric razor':'shaving', \n",
    "    'Television':'television', \n",
    "    'Laughter':'laughter',\n",
    "    'Frying (food)':'frying_food', \n",
    "    'Purr':'purr', \n",
    "    'Hair dryer':'hair_dryer', \n",
    "    'Dog':'dog', \n",
    "    'Crying, sobbing':'crying', \n",
    "    'Baby cry, infant cry': 'baby_cry',\n",
    "    'Toilet flush':'toilet_flush', \n",
    "    'Water tap, faucet':'water_tap', \n",
    "    'Bathtub (filling or washing)': 'bathtab',\n",
    "    'Video game music':'video_games'\n",
    "}\n",
    "\n",
    "house['y_name'].replace(house_dict, inplace=True)"
   ]
  },
  {
   "cell_type": "code",
   "execution_count": 73,
   "metadata": {
    "ExecuteTime": {
     "end_time": "2019-10-17T18:50:26.228696Z",
     "start_time": "2019-10-17T18:50:26.218921Z"
    }
   },
   "outputs": [
    {
     "data": {
      "text/plain": [
       "(3319202, 643)"
      ]
     },
     "execution_count": 73,
     "metadata": {},
     "output_type": "execute_result"
    }
   ],
   "source": [
    "house.shape"
   ]
  },
  {
   "cell_type": "code",
   "execution_count": 74,
   "metadata": {
    "ExecuteTime": {
     "end_time": "2019-10-17T18:50:26.470421Z",
     "start_time": "2019-10-17T18:50:26.232092Z"
    }
   },
   "outputs": [
    {
     "data": {
      "text/plain": [
       "speech            2020960\n",
       "music             1260348\n",
       "laughter             3772\n",
       "snoring              3370\n",
       "vacuum_cleaner       3054\n",
       "typing               2644\n",
       "dishes_pots          2560\n",
       "frying_food          2102\n",
       "blender              1884\n",
       "toilet_flush         1882\n",
       "door                 1868\n",
       "whoop                1736\n",
       "footsteps            1492\n",
       "baby_cry             1414\n",
       "screeming            1116\n",
       "whispering            972\n",
       "clarinet              960\n",
       "crying                918\n",
       "microwave             894\n",
       "television            866\n",
       "hair_dryer            772\n",
       "video_games           592\n",
       "shaving               552\n",
       "bathtab               472\n",
       "water_tap             458\n",
       "chopping_food         410\n",
       "meow                  388\n",
       "dog                   358\n",
       "purr                  304\n",
       "toothbrush             84\n",
       "Name: y_name, dtype: int64"
      ]
     },
     "execution_count": 74,
     "metadata": {},
     "output_type": "execute_result"
    }
   ],
   "source": [
    "house.y_name.value_counts()"
   ]
  },
  {
   "cell_type": "code",
   "execution_count": 75,
   "metadata": {
    "ExecuteTime": {
     "end_time": "2019-10-17T18:50:26.705183Z",
     "start_time": "2019-10-17T18:50:26.476506Z"
    }
   },
   "outputs": [
    {
     "data": {
      "text/plain": [
       "30"
      ]
     },
     "execution_count": 75,
     "metadata": {},
     "output_type": "execute_result"
    }
   ],
   "source": [
    "len(house.y_name.value_counts())"
   ]
  },
  {
   "cell_type": "code",
   "execution_count": 76,
   "metadata": {
    "ExecuteTime": {
     "end_time": "2019-10-17T18:53:24.160092Z",
     "start_time": "2019-10-17T18:53:19.814679Z"
    }
   },
   "outputs": [],
   "source": [
    "# Pickle house dataframe\n",
    "\n",
    "with open('/Users/greenapple/project3/data/processed/house.pkl', 'wb') as f:\n",
    "    pickle.dump(house, f)"
   ]
  },
  {
   "cell_type": "code",
   "execution_count": null,
   "metadata": {},
   "outputs": [],
   "source": []
  }
 ],
 "metadata": {
  "kernelspec": {
   "display_name": "metis",
   "language": "python",
   "name": "metis"
  },
  "language_info": {
   "codemirror_mode": {
    "name": "ipython",
    "version": 3
   },
   "file_extension": ".py",
   "mimetype": "text/x-python",
   "name": "python",
   "nbconvert_exporter": "python",
   "pygments_lexer": "ipython3",
   "version": "3.7.3"
  },
  "toc": {
   "base_numbering": 1,
   "nav_menu": {},
   "number_sections": true,
   "sideBar": true,
   "skip_h1_title": false,
   "title_cell": "Table of Contents",
   "title_sidebar": "Contents",
   "toc_cell": false,
   "toc_position": {},
   "toc_section_display": true,
   "toc_window_display": false
  }
 },
 "nbformat": 4,
 "nbformat_minor": 2
}
