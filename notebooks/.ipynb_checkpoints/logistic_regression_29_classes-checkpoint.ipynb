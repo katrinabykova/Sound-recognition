{
 "cells": [
  {
   "cell_type": "code",
   "execution_count": 1,
   "metadata": {
    "ExecuteTime": {
     "end_time": "2019-10-16T23:36:20.753520Z",
     "start_time": "2019-10-16T23:36:20.692944Z"
    }
   },
   "outputs": [
    {
     "name": "stderr",
     "output_type": "stream",
     "text": [
      "Using TensorFlow backend.\n"
     ]
    }
   ],
   "source": [
    "import numpy as np\n",
    "import pandas as pd\n",
    "import pickle\n",
    "from sklearn.model_selection import train_test_split\n",
    "from sklearn.linear_model import LogisticRegression\n",
    "from sklearn.metrics import f1_score\n",
    "from imblearn.under_sampling import RandomUnderSampler"
   ]
  },
  {
   "cell_type": "code",
   "execution_count": 2,
   "metadata": {
    "ExecuteTime": {
     "end_time": "2019-10-16T23:31:50.645837Z",
     "start_time": "2019-10-16T23:31:47.870085Z"
    }
   },
   "outputs": [],
   "source": [
    "# Unpickle data \n",
    "with open('/Users/greenapple/project3/data/processed/raw_5_sec.pkl', 'rb') as f:\n",
    "    raw_5_sec = pickle.load(f)"
   ]
  },
  {
   "cell_type": "code",
   "execution_count": 3,
   "metadata": {
    "ExecuteTime": {
     "end_time": "2019-10-16T23:31:51.153183Z",
     "start_time": "2019-10-16T23:31:50.648344Z"
    }
   },
   "outputs": [
    {
     "data": {
      "text/html": [
       "<div>\n",
       "<style scoped>\n",
       "    .dataframe tbody tr th:only-of-type {\n",
       "        vertical-align: middle;\n",
       "    }\n",
       "\n",
       "    .dataframe tbody tr th {\n",
       "        vertical-align: top;\n",
       "    }\n",
       "\n",
       "    .dataframe thead th {\n",
       "        text-align: right;\n",
       "    }\n",
       "</style>\n",
       "<table border=\"1\" class=\"dataframe\">\n",
       "  <thead>\n",
       "    <tr style=\"text-align: right;\">\n",
       "      <th></th>\n",
       "      <th>video_id_list</th>\n",
       "      <th>y</th>\n",
       "      <th>y_name</th>\n",
       "      <th>0</th>\n",
       "      <th>1</th>\n",
       "      <th>2</th>\n",
       "      <th>3</th>\n",
       "      <th>4</th>\n",
       "      <th>5</th>\n",
       "      <th>6</th>\n",
       "      <th>...</th>\n",
       "      <th>630</th>\n",
       "      <th>631</th>\n",
       "      <th>632</th>\n",
       "      <th>633</th>\n",
       "      <th>634</th>\n",
       "      <th>635</th>\n",
       "      <th>636</th>\n",
       "      <th>637</th>\n",
       "      <th>638</th>\n",
       "      <th>639</th>\n",
       "    </tr>\n",
       "  </thead>\n",
       "  <tbody>\n",
       "    <tr>\n",
       "      <td>0</td>\n",
       "      <td>b'--cB2ZVjpnA'</td>\n",
       "      <td>399</td>\n",
       "      <td>Smoke detector, smoke alarm</td>\n",
       "      <td>95</td>\n",
       "      <td>122</td>\n",
       "      <td>147</td>\n",
       "      <td>14</td>\n",
       "      <td>101</td>\n",
       "      <td>48</td>\n",
       "      <td>157</td>\n",
       "      <td>...</td>\n",
       "      <td>255</td>\n",
       "      <td>0</td>\n",
       "      <td>178</td>\n",
       "      <td>0</td>\n",
       "      <td>22</td>\n",
       "      <td>255</td>\n",
       "      <td>255</td>\n",
       "      <td>255</td>\n",
       "      <td>180</td>\n",
       "      <td>0</td>\n",
       "    </tr>\n",
       "    <tr>\n",
       "      <td>1</td>\n",
       "      <td>b'--PJHxphWEs'</td>\n",
       "      <td>0</td>\n",
       "      <td>Speech</td>\n",
       "      <td>80</td>\n",
       "      <td>181</td>\n",
       "      <td>216</td>\n",
       "      <td>164</td>\n",
       "      <td>218</td>\n",
       "      <td>123</td>\n",
       "      <td>76</td>\n",
       "      <td>...</td>\n",
       "      <td>157</td>\n",
       "      <td>255</td>\n",
       "      <td>93</td>\n",
       "      <td>143</td>\n",
       "      <td>86</td>\n",
       "      <td>220</td>\n",
       "      <td>255</td>\n",
       "      <td>117</td>\n",
       "      <td>255</td>\n",
       "      <td>96</td>\n",
       "    </tr>\n",
       "    <tr>\n",
       "      <td>2</td>\n",
       "      <td>b'--ekDLDTUXA'</td>\n",
       "      <td>27</td>\n",
       "      <td>Singing</td>\n",
       "      <td>107</td>\n",
       "      <td>150</td>\n",
       "      <td>89</td>\n",
       "      <td>138</td>\n",
       "      <td>132</td>\n",
       "      <td>0</td>\n",
       "      <td>138</td>\n",
       "      <td>...</td>\n",
       "      <td>134</td>\n",
       "      <td>98</td>\n",
       "      <td>152</td>\n",
       "      <td>119</td>\n",
       "      <td>65</td>\n",
       "      <td>132</td>\n",
       "      <td>113</td>\n",
       "      <td>186</td>\n",
       "      <td>161</td>\n",
       "      <td>81</td>\n",
       "    </tr>\n",
       "    <tr>\n",
       "      <td>3</td>\n",
       "      <td>b'--aE2O5G5WE'</td>\n",
       "      <td>0</td>\n",
       "      <td>Speech</td>\n",
       "      <td>141</td>\n",
       "      <td>83</td>\n",
       "      <td>110</td>\n",
       "      <td>177</td>\n",
       "      <td>169</td>\n",
       "      <td>71</td>\n",
       "      <td>64</td>\n",
       "      <td>...</td>\n",
       "      <td>208</td>\n",
       "      <td>196</td>\n",
       "      <td>33</td>\n",
       "      <td>233</td>\n",
       "      <td>0</td>\n",
       "      <td>34</td>\n",
       "      <td>189</td>\n",
       "      <td>160</td>\n",
       "      <td>0</td>\n",
       "      <td>153</td>\n",
       "    </tr>\n",
       "    <tr>\n",
       "      <td>4</td>\n",
       "      <td>b'--aaILOrkII'</td>\n",
       "      <td>427</td>\n",
       "      <td>Gunshot, gunfire</td>\n",
       "      <td>102</td>\n",
       "      <td>47</td>\n",
       "      <td>170</td>\n",
       "      <td>59</td>\n",
       "      <td>136</td>\n",
       "      <td>154</td>\n",
       "      <td>53</td>\n",
       "      <td>...</td>\n",
       "      <td>148</td>\n",
       "      <td>152</td>\n",
       "      <td>191</td>\n",
       "      <td>255</td>\n",
       "      <td>255</td>\n",
       "      <td>124</td>\n",
       "      <td>209</td>\n",
       "      <td>85</td>\n",
       "      <td>110</td>\n",
       "      <td>0</td>\n",
       "    </tr>\n",
       "  </tbody>\n",
       "</table>\n",
       "<p>5 rows × 643 columns</p>\n",
       "</div>"
      ],
      "text/plain": [
       "    video_id_list    y                       y_name    0    1    2    3    4  \\\n",
       "0  b'--cB2ZVjpnA'  399  Smoke detector, smoke alarm   95  122  147   14  101   \n",
       "1  b'--PJHxphWEs'    0                       Speech   80  181  216  164  218   \n",
       "2  b'--ekDLDTUXA'   27                      Singing  107  150   89  138  132   \n",
       "3  b'--aE2O5G5WE'    0                       Speech  141   83  110  177  169   \n",
       "4  b'--aaILOrkII'  427             Gunshot, gunfire  102   47  170   59  136   \n",
       "\n",
       "     5    6  ...  630  631  632  633  634  635  636  637  638  639  \n",
       "0   48  157  ...  255    0  178    0   22  255  255  255  180    0  \n",
       "1  123   76  ...  157  255   93  143   86  220  255  117  255   96  \n",
       "2    0  138  ...  134   98  152  119   65  132  113  186  161   81  \n",
       "3   71   64  ...  208  196   33  233    0   34  189  160    0  153  \n",
       "4  154   53  ...  148  152  191  255  255  124  209   85  110    0  \n",
       "\n",
       "[5 rows x 643 columns]"
      ]
     },
     "execution_count": 3,
     "metadata": {},
     "output_type": "execute_result"
    }
   ],
   "source": [
    "raw_5_sec.head()"
   ]
  },
  {
   "cell_type": "code",
   "execution_count": 4,
   "metadata": {
    "ExecuteTime": {
     "end_time": "2019-10-16T23:33:20.216953Z",
     "start_time": "2019-10-16T23:33:20.207975Z"
    }
   },
   "outputs": [
    {
     "data": {
      "text/plain": [
       "Speech            2020960\n",
       "Music             1260348\n",
       "Laughter             3772\n",
       "Snoring              3370\n",
       "Vacuum_cleaner       3054\n",
       "Typing               2644\n",
       "Dishes_pans          2560\n",
       "Frying_food          2102\n",
       "Blender              1884\n",
       "Toilet_flush         1882\n",
       "Door                 1868\n",
       "Whoop                1736\n",
       "Footsteps            1492\n",
       "Baby_cry             1414\n",
       "Screaming            1116\n",
       "Whispering            972\n",
       "Clarinet              960\n",
       "Crying                918\n",
       "Microwave_oven        894\n",
       "Television            866\n",
       "Shaving               552\n",
       "Bathtub               472\n",
       "Water                 458\n",
       "Chopping_food         410\n",
       "Meow                  388\n",
       "Dog                   358\n",
       "Purr                  304\n",
       "Sink                  192\n",
       "Toothbrush             84\n",
       "Name: y_name, dtype: int64"
      ]
     },
     "execution_count": 4,
     "metadata": {},
     "output_type": "execute_result"
    }
   ],
   "source": [
    "raw_5_sec.y_name.value_counts()"
   ]
  },
  {
   "cell_type": "code",
   "execution_count": 6,
   "metadata": {},
   "outputs": [],
   "source": [
    "# Remove points randoml in Speech and Music classes to balance the classes. \n",
    "# Do not want to use RandomUnderSampler here.\n",
    "# The actual class distribution in my house data (that I do  not have yet) might be different. Keep that in mind.\n",
    "raw_5_sec.drop(raw_5_sec.loc[raw_5_sec['y_name']=='Speech'].sample(frac=.998).index, inplace=True)\n",
    "raw_5_sec.drop(raw_5_sec.loc[raw_5_sec['y_name']=='Music'].sample(frac=.997).index, inplace=True)"
   ]
  },
  {
   "cell_type": "code",
   "execution_count": 8,
   "metadata": {},
   "outputs": [
    {
     "data": {
      "text/plain": [
       "Vehicle          0.174301\n",
       "Singing          0.085914\n",
       "Animal           0.045997\n",
       "Bird             0.029519\n",
       "Percussion       0.015369\n",
       "                   ...   \n",
       "Sad music        0.000002\n",
       "Tabla            0.000002\n",
       "Ratchet, pawl    0.000002\n",
       "Moo              0.000002\n",
       "Angry music      0.000002\n",
       "Name: y_name, Length: 524, dtype: float64"
      ]
     },
     "execution_count": 8,
     "metadata": {},
     "output_type": "execute_result"
    }
   ],
   "source": [
    "raw_5_sec.y_name.value_counts()"
   ]
  },
  {
   "cell_type": "code",
   "execution_count": 9,
   "metadata": {},
   "outputs": [
    {
     "data": {
      "text/plain": [
       "array(['Smoke detector, smoke alarm', 'Singing', 'Gunshot, gunfire',\n",
       "       'Toothbrush', 'Male singing', 'Knock', 'Water',\n",
       "       'Wind instrument, woodwind instrument', 'Train whistle', 'Rattle',\n",
       "       'Engine', 'Walk, footsteps', 'Squeak', 'Liquid', 'Ping',\n",
       "       'Boat, Water vehicle', 'Organ', 'Clarinet', 'Animal', 'Car alarm',\n",
       "       'Wood', 'Flap', 'Run', 'Percussion', 'Smash, crash',\n",
       "       'Roaring cats (lions, tigers)', 'Vehicle', 'Boing',\n",
       "       'Whale vocalization', 'Chopping (food)', 'Heart murmur', 'Gong',\n",
       "       'Drawer open or close', 'Cupboard open or close', 'Chink, clink',\n",
       "       'Doorbell', 'Humming', 'Wind', 'Pink noise', 'Helicopter',\n",
       "       'Snoring', 'Coin (dropping)', 'Car passing by',\n",
       "       'Child speech, kid speaking', 'Jingle, tinkle', 'Shuffle',\n",
       "       'Dishes, pots, and pans', 'Female singing', 'Finger snapping',\n",
       "       'Filing (rasp)', 'Choir', 'Oink', 'Creak', 'Opera', 'Applause',\n",
       "       'Bicycle bell', 'White noise', 'Fart', 'Synthetic singing',\n",
       "       'Progressive rock', 'Neigh, whinny', 'Church bell', 'Bell',\n",
       "       'Insect', 'Fusillade', 'Screaming', 'Hammer',\n",
       "       'Electric toothbrush', 'Mouse', 'Hum', 'Mantra', 'Hair dryer',\n",
       "       'Chainsaw', 'Singing bowl', 'Thunderstorm', 'Steam whistle',\n",
       "       'Battle cry', 'Scrape', 'Scissors', 'Trickle, dribble', 'Country',\n",
       "       'Frog', 'Whack, thwack', 'Growling', 'Chewing, mastication',\n",
       "       'Chop', 'Bird flight, flapping wings', 'Crack', 'Cowbell',\n",
       "       'Biting', 'Burping, eructation', 'Rapping', 'Burst, pop', 'Bang',\n",
       "       'Tools', 'Sewing machine', 'Zither', 'Mains hum', 'Ding',\n",
       "       'Yodeling', 'Brass instrument', 'Arrow', 'Keyboard (musical)',\n",
       "       'Crackle', 'Emergency vehicle', 'Whip', 'Fowl', 'Waterfall',\n",
       "       'Rustle', 'Fire', 'Crushing', 'Dial tone', 'Jingle bell', 'Music',\n",
       "       'Squawk', 'Slap, smack', 'Throat clearing', 'Eruption', 'Tick',\n",
       "       'Music of Africa', 'Hiss', 'Cash register', 'Sine wave',\n",
       "       'Pump (liquid)', 'Bird', 'Children shouting', 'Breaking',\n",
       "       'Mechanisms', 'Whoop', 'Domestic animals, pets', 'Siren',\n",
       "       'Air conditioning', 'Ding-dong', 'Aircraft', 'Printer', 'Blues',\n",
       "       'String section', 'Rail transport', 'Bellow', 'Vacuum cleaner',\n",
       "       'Tubular bells', 'Buzz', 'Rain', 'Whistle', 'Quack',\n",
       "       'Mallet percussion', 'Child singing', 'Lullaby', 'Crow',\n",
       "       'Telephone bell ringing', 'Alarm clock', 'Shuffling cards',\n",
       "       'Idling', 'Duck', 'Basketball bounce', 'Soul music', 'Giggle',\n",
       "       'Busy signal', 'Yell', 'Cutlery, silverware', 'Engine knocking',\n",
       "       'Sigh', 'Buzzer', 'Car', 'Bowed string instrument', 'Pant',\n",
       "       'Bleat', 'Gasp', 'Theremin', 'Whispering', 'Mechanical fan',\n",
       "       'Rustling leaves', 'Clang', 'Chirp, tweet', 'Door', 'Hands',\n",
       "       'Sanding', 'Keys jangling', 'Sitar', 'Tuning fork', 'Typewriter',\n",
       "       'Sniff', 'Blender', 'Mandolin',\n",
       "       'Livestock, farm animals, working animals', 'Meow', 'Alarm',\n",
       "       'Typing', \"Dental drill, dentist's drill\", 'Camera', 'Gurgling',\n",
       "       'Stream', 'Computer keyboard', 'Beep, bleep', 'Chant', 'Foghorn',\n",
       "       'Speech', 'Background music', 'Microwave oven', 'Afrobeat',\n",
       "       'Electric shaver, electric razor', 'Cacophony',\n",
       "       'Crumpling, crinkling', 'Rodents, rats, mice', 'Accordion',\n",
       "       'Cymbal', 'Speech synthesizer', 'A capella', 'Punk rock', 'Tap',\n",
       "       'Heart sounds, heartbeat', 'Baby laughter', 'Banjo', 'Clatter',\n",
       "       'Power windows, electric windows', 'Noise', 'Classical music',\n",
       "       'Ringtone', 'Explosion', 'Musical instrument',\n",
       "       'Scratching (performance technique)', 'Boom',\n",
       "       'Outside, rural or natural', 'Fill (with liquid)', 'Crunch',\n",
       "       'Chuckle, chortle', 'Whoosh, swoosh, swish', 'Static', 'Patter',\n",
       "       'Drum machine', 'Cough', 'Shatter', 'Raindrop', 'Vibration',\n",
       "       'Shout', 'Rumble', 'Traffic noise, roadway noise', 'Grunge',\n",
       "       'Sneeze', 'Drum and bass', 'Writing', 'Glass', 'Telephone',\n",
       "       'Pizzicato', 'Wail, moan', 'Sawing', 'Owl', 'Lawn mower',\n",
       "       'Machine gun', 'Babbling', 'Aircraft engine', 'Groan', 'Thunk',\n",
       "       'Conversation', 'Stomach rumble', 'Squish', 'Stir', 'Grunt',\n",
       "       'Medium engine (mid frequency)', 'Propeller, airscrew', 'Boiling',\n",
       "       'Bouncing', 'Drip', 'Wheeze', 'Sizzle', 'Children playing',\n",
       "       'Whistling', 'Vibraphone', 'Psychedelic rock', 'Whir',\n",
       "       'Beatboxing', 'Wedding music', 'Change ringing (campanology)',\n",
       "       'Radio', 'Clicking', 'Rock and roll',\n",
       "       'Vehicle horn, car horn, honking', 'Whimper (dog)', 'Sound effect',\n",
       "       'Environmental noise', 'Whimper', 'Television', 'Chime', 'Pulse',\n",
       "       'Female speech, woman speaking', 'Snort', 'Sidetone',\n",
       "       'Ambient music', 'Salsa music',\n",
       "       'Hubbub, speech noise, speech babble', 'Field recording',\n",
       "       'Laughter', 'Frying (food)', 'Firecracker',\n",
       "       'Heavy engine (low frequency)', 'Scratch', 'Clapping', 'Fireworks',\n",
       "       'Tearing', 'Male speech, man speaking', 'Steelpan', 'Rock music',\n",
       "       'Bluegrass', 'Chirp tone', 'Single-lens reflex camera', 'Pig',\n",
       "       'Jingle (music)', 'Squeal', 'Light engine (high frequency)',\n",
       "       'Ice cream truck, ice cream van', 'Canidae, dogs, wolves', 'Slam',\n",
       "       'Orchestra', 'Jackhammer', 'Truck', 'Thump, thud', 'Clock',\n",
       "       'Maraca', 'Jazz', 'Funk', 'Air horn, truck horn', 'Spray',\n",
       "       'Air brake', 'Folk music', 'Flamenco', 'Disco', 'Skateboard',\n",
       "       'Video game music', 'Gush', 'Swing music', 'Christian music',\n",
       "       'Sonar', 'Echo', 'Didgeridoo', 'Plucked string instrument',\n",
       "       'Tick-tock', 'Jet engine', 'Timpani', 'Throbbing', 'Reggae',\n",
       "       'Belly laugh', 'Thunder', 'Theme music', 'Sliding door', 'Yip',\n",
       "       'Zipper (clothing)', 'Purr', 'Song', 'Ocean', 'Zing', 'Breathing',\n",
       "       'Music of Latin America', 'Music of Bollywood', 'Fire alarm',\n",
       "       'Gargling', 'Steam', 'Bus', 'Pulleys', 'Roar',\n",
       "       'Sink (filling or washing)', 'Sampler', 'Harmonic', 'Horse',\n",
       "       'Telephone dialing, DTMF', 'Slosh', 'Effects unit', 'Snake', 'Dog',\n",
       "       'Techno', 'Electronic music', 'Carnatic music', 'Train',\n",
       "       'House music', 'Crying, sobbing', 'Independent music',\n",
       "       'New-age music', 'Baby cry, infant cry', 'Bass guitar', 'Snicker',\n",
       "       'Heavy metal', 'Tapping (guitar technique)', 'Hiccup', 'Clip-clop',\n",
       "       'Inside, small room', 'Music for children', 'Pour', 'Trance music',\n",
       "       'Crowd', 'Plop', 'Wind chime', 'Music of Asia', 'Rhythm and blues',\n",
       "       'Reverberation', 'Tambourine', 'Silence', 'Christmas music',\n",
       "       'Narration, monologue', 'Splinter', 'Skidding', 'Guitar',\n",
       "       'Synthesizer', 'Hoot', 'Bird vocalization, bird call, bird song',\n",
       "       'Goat', 'Bark', 'Tire squeal', 'Gears', 'Chicken, rooster',\n",
       "       'Train wheels squealing', 'Wild animals', 'Electric guitar', 'Cat',\n",
       "       'Motor vehicle (road)', 'Bow-wow', 'Gospel music', 'Toot',\n",
       "       'Inside, public space', 'Motorcycle', 'Race car, auto racing',\n",
       "       'Electronic dance music', 'Cheering', 'Caw',\n",
       "       'Outside, urban or manmade', 'Electronica', 'Reversing beeps',\n",
       "       'Bicycle', 'Vocal music', 'Marimba, xylophone', 'Dance music',\n",
       "       'Gobble', 'Rattle (instrument)', 'Ska', 'Train horn',\n",
       "       'Middle Eastern music', 'Engine starting',\n",
       "       'Wind noise (microphone)', 'Howl', 'Accelerating, revving, vroom',\n",
       "       'Toilet flush', 'Coo', 'Dubstep', 'Chorus effect',\n",
       "       'Ambulance (siren)', 'Caterwaul', 'Pop music', 'Harp', 'Harmonica',\n",
       "       'Splash, splatter', 'Inside, large room or hall', 'Scary music',\n",
       "       'Mosquito', 'Funny music', 'Sheep', 'Harpsichord', 'Chatter',\n",
       "       'Electronic tuner', 'Fixed-wing aircraft, airplane',\n",
       "       'Water tap, faucet', 'Acoustic guitar',\n",
       "       'Bathtub (filling or washing)', 'Waves, surf', 'Cap gun',\n",
       "       'Hip hop music', 'Ship', 'Drum', 'Cricket', 'Police car (siren)',\n",
       "       'Ukulele', 'Distortion', 'Soundtrack music', 'Wood block',\n",
       "       'Rowboat, canoe, kayak', 'Honk', 'Turkey', 'Rain on surface',\n",
       "       'Crowing, cock-a-doodle-doo', 'Power tool', 'Motorboat, speedboat',\n",
       "       'Pigeon, dove', 'Rub', 'Artillery fire', 'Angry music',\n",
       "       'Sailboat, sailing ship', 'Drill', 'Civil defense siren', 'Flute',\n",
       "       'Piano', 'French horn', 'Glockenspiel', 'Cello', 'Bagpipes',\n",
       "       'Electric piano', 'Electronic organ', 'Drum kit', 'Snare drum',\n",
       "       'Strum', 'Fire engine, fire truck (siren)', 'Violin, fiddle',\n",
       "       'Bass drum', 'Hi-hat', 'Bee, wasp, etc.', 'Cluck', 'Rimshot',\n",
       "       'Goose', 'Roll', 'Trumpet', 'Saxophone', 'Drum roll', 'Trombone',\n",
       "       'Exciting music', 'Subway, metro, underground',\n",
       "       'Railroad car, train wagon', 'Traditional music', 'Double bass',\n",
       "       'Hammond organ', 'Clickety-clack', 'Steel guitar, slide guitar',\n",
       "       'Tender music', 'Tabla', 'Sad music', 'Ratchet, pawl', 'Moo',\n",
       "       'Cattle, bovinae', 'Fly, housefly'], dtype=object)"
      ]
     },
     "execution_count": 9,
     "metadata": {},
     "output_type": "execute_result"
    }
   ],
   "source": [
    "raw_5_sec.y_name.unique()"
   ]
  },
  {
   "cell_type": "code",
   "execution_count": null,
   "metadata": {},
   "outputs": [],
   "source": [
    "mini = ['Toothbrush', 'Footsteps', 'Clarinet', 'Chopping_food', 'Snoring',\n",
    "       'Dishes_pans', 'Screaming', 'Whoop', 'Vacuum_cleaner', 'Speech',\n",
    "       'Whispering', 'Door', 'Blender', 'Meow', 'Typing', 'Music',\n",
    "       'Microwave_oven', 'Shaving', 'Television', 'Laughter',\n",
    "       'Frying_food', 'Purr', 'Sink', 'Dog', 'Crying', 'Baby_cry',\n",
    "       'Toilet_flush', 'Water', 'Bathtub' "
   ]
  },
  {
   "cell_type": "code",
   "execution_count": null,
   "metadata": {},
   "outputs": [],
   "source": [
    "house_mini = house.loc[house.y_name.isin(mini)]"
   ]
  },
  {
   "cell_type": "code",
   "execution_count": null,
   "metadata": {},
   "outputs": [],
   "source": [
    "house_mini.shape"
   ]
  },
  {
   "cell_type": "code",
   "execution_count": 10,
   "metadata": {
    "ExecuteTime": {
     "end_time": "2019-10-16T23:34:31.879612Z",
     "start_time": "2019-10-16T23:34:28.791998Z"
    }
   },
   "outputs": [],
   "source": [
    "# Assign features X and y target\n",
    "X = house[house.columns[3:643]]\n",
    "y = house.y_name"
   ]
  },
  {
   "cell_type": "code",
   "execution_count": null,
   "metadata": {},
   "outputs": [],
   "source": [
    "# Undersample overrepresented classes\n",
    "# under_sampler = RandomUnderSampler(random_state=0)\n",
    "# X_resampled, y_resampled = under_sampler.fit_resample(X, y)"
   ]
  },
  {
   "cell_type": "code",
   "execution_count": 12,
   "metadata": {
    "ExecuteTime": {
     "end_time": "2019-10-16T23:35:34.503809Z",
     "start_time": "2019-10-16T23:35:12.233293Z"
    }
   },
   "outputs": [],
   "source": [
    "X_train, X_test, y_train, y_test = train_test_split(X, y, test_size=0.4, random_state=None)"
   ]
  },
  {
   "cell_type": "code",
   "execution_count": 13,
   "metadata": {
    "ExecuteTime": {
     "start_time": "2019-10-16T23:36:24.086Z"
    }
   },
   "outputs": [
    {
     "name": "stderr",
     "output_type": "stream",
     "text": [
      "/Users/greenapple/anaconda3/envs/metis/lib/python3.7/site-packages/sklearn/linear_model/logistic.py:432: FutureWarning: Default solver will be changed to 'lbfgs' in 0.22. Specify a solver to silence this warning.\n",
      "  FutureWarning)\n",
      "/Users/greenapple/anaconda3/envs/metis/lib/python3.7/site-packages/sklearn/linear_model/logistic.py:469: FutureWarning: Default multi_class will be changed to 'auto' in 0.22. Specify the multi_class option to silence this warning.\n",
      "  \"this warning.\", FutureWarning)\n",
      "/Users/greenapple/anaconda3/envs/metis/lib/python3.7/site-packages/sklearn/svm/base.py:929: ConvergenceWarning: Liblinear failed to converge, increase the number of iterations.\n",
      "  \"the number of iterations.\", ConvergenceWarning)\n"
     ]
    },
    {
     "data": {
      "text/plain": [
       "LogisticRegression(C=100000, class_weight=None, dual=False, fit_intercept=True,\n",
       "                   intercept_scaling=1, l1_ratio=None, max_iter=100,\n",
       "                   multi_class='warn', n_jobs=None, penalty='l2',\n",
       "                   random_state=None, solver='warn', tol=0.0001, verbose=0,\n",
       "                   warm_start=False)"
      ]
     },
     "execution_count": 13,
     "metadata": {},
     "output_type": "execute_result"
    }
   ],
   "source": [
    "logreg = LogisticRegression(C=100000)\n",
    "logreg.fit(X_train,y_train)"
   ]
  },
  {
   "cell_type": "code",
   "execution_count": 14,
   "metadata": {
    "ExecuteTime": {
     "start_time": "2019-10-16T23:37:16.069Z"
    }
   },
   "outputs": [
    {
     "name": "stdout",
     "output_type": "stream",
     "text": [
      "train_score=0.741\n",
      "test_score =0.574\n",
      "\n"
     ]
    }
   ],
   "source": [
    "acc_train = logreg.score(X_train, y_train)\n",
    "acc_test = logreg.score(X_test, y_test)\n",
    "print(\"train_score=%.3f\\ntest_score =%.3f\\n\" % (acc_train, acc_test))"
   ]
  },
  {
   "cell_type": "code",
   "execution_count": 15,
   "metadata": {},
   "outputs": [
    {
     "data": {
      "text/plain": [
       "0.5735772814008306"
      ]
     },
     "execution_count": 15,
     "metadata": {},
     "output_type": "execute_result"
    }
   ],
   "source": [
    "f1_score(y_test, logreg.predict(X_test), average='micro')"
   ]
  },
  {
   "cell_type": "code",
   "execution_count": null,
   "metadata": {},
   "outputs": [],
   "source": []
  }
 ],
 "metadata": {
  "kernelspec": {
   "display_name": "metis",
   "language": "python",
   "name": "metis"
  },
  "language_info": {
   "codemirror_mode": {
    "name": "ipython",
    "version": 3
   },
   "file_extension": ".py",
   "mimetype": "text/x-python",
   "name": "python",
   "nbconvert_exporter": "python",
   "pygments_lexer": "ipython3",
   "version": "3.7.3"
  },
  "toc": {
   "base_numbering": 1,
   "nav_menu": {},
   "number_sections": true,
   "sideBar": true,
   "skip_h1_title": false,
   "title_cell": "Table of Contents",
   "title_sidebar": "Contents",
   "toc_cell": false,
   "toc_position": {},
   "toc_section_display": true,
   "toc_window_display": false
  }
 },
 "nbformat": 4,
 "nbformat_minor": 2
}
