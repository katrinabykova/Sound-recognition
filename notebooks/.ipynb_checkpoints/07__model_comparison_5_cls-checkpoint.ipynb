{
 "cells": [
  {
   "cell_type": "code",
   "execution_count": 16,
   "metadata": {
    "ExecuteTime": {
     "end_time": "2019-10-21T19:50:56.038382Z",
     "start_time": "2019-10-21T19:50:56.029618Z"
    }
   },
   "outputs": [],
   "source": [
    "import numpy as np\n",
    "import pandas as pd\n",
    "import pickle\n",
    "from sklearn.model_selection import train_test_split\n",
    "from sklearn.linear_model import LogisticRegression\n",
    "from sklearn.metrics import f1_score, accuracy_score\n",
    "from imblearn.under_sampling import RandomUnderSampler\n",
    "from imblearn.over_sampling import RandomOverSampler\n",
    "from sklearn.pipeline import make_pipeline\n",
    "from sklearn import preprocessing\n",
    "from sklearn.model_selection import cross_val_score\n",
    "from sklearn.dummy import DummyClassifier\n",
    "from sklearn.linear_model import LogisticRegression\n",
    "from sklearn.neighbors import KNeighborsClassifier\n",
    "from sklearn.naive_bayes import MultinomialNB\n",
    "from sklearn import svm\n",
    "from sklearn.svm import SVC\n",
    "\n",
    "from datetime import datetime"
   ]
  },
  {
   "cell_type": "code",
   "execution_count": 17,
   "metadata": {
    "ExecuteTime": {
     "end_time": "2019-10-21T19:50:56.530402Z",
     "start_time": "2019-10-21T19:50:56.445263Z"
    }
   },
   "outputs": [],
   "source": [
    "%load_ext autoreload\n",
    "%autoreload 2"
   ]
  },
  {
   "cell_type": "markdown",
   "metadata": {},
   "source": [
    "## Data formatting for classification"
   ]
  },
  {
   "cell_type": "code",
   "execution_count": 18,
   "metadata": {
    "ExecuteTime": {
     "end_time": "2019-10-21T19:50:57.601433Z",
     "start_time": "2019-10-21T19:50:57.464126Z"
    }
   },
   "outputs": [],
   "source": [
    "# Unpickle data \n",
    "with open('/Users/greenapple/project3/data/processed/house_bal.pkl', 'rb') as f:\n",
    "    house_bal = pickle.load(f)"
   ]
  },
  {
   "cell_type": "code",
   "execution_count": 19,
   "metadata": {
    "ExecuteTime": {
     "end_time": "2019-10-21T19:50:58.050254Z",
     "start_time": "2019-10-21T19:50:57.936902Z"
    }
   },
   "outputs": [
    {
     "data": {
      "text/html": [
       "<div>\n",
       "<style scoped>\n",
       "    .dataframe tbody tr th:only-of-type {\n",
       "        vertical-align: middle;\n",
       "    }\n",
       "\n",
       "    .dataframe tbody tr th {\n",
       "        vertical-align: top;\n",
       "    }\n",
       "\n",
       "    .dataframe thead th {\n",
       "        text-align: right;\n",
       "    }\n",
       "</style>\n",
       "<table border=\"1\" class=\"dataframe\">\n",
       "  <thead>\n",
       "    <tr style=\"text-align: right;\">\n",
       "      <th></th>\n",
       "      <th>video_id_list</th>\n",
       "      <th>y</th>\n",
       "      <th>y_name</th>\n",
       "      <th>0</th>\n",
       "      <th>1</th>\n",
       "      <th>2</th>\n",
       "      <th>3</th>\n",
       "      <th>4</th>\n",
       "      <th>5</th>\n",
       "      <th>6</th>\n",
       "      <th>...</th>\n",
       "      <th>630</th>\n",
       "      <th>631</th>\n",
       "      <th>632</th>\n",
       "      <th>633</th>\n",
       "      <th>634</th>\n",
       "      <th>635</th>\n",
       "      <th>636</th>\n",
       "      <th>637</th>\n",
       "      <th>638</th>\n",
       "      <th>639</th>\n",
       "    </tr>\n",
       "  </thead>\n",
       "  <tbody>\n",
       "    <tr>\n",
       "      <td>5</td>\n",
       "      <td>b'--ZhevVpy1s'</td>\n",
       "      <td>375</td>\n",
       "      <td>toothbrush</td>\n",
       "      <td>117</td>\n",
       "      <td>35</td>\n",
       "      <td>163</td>\n",
       "      <td>90</td>\n",
       "      <td>198</td>\n",
       "      <td>103</td>\n",
       "      <td>63</td>\n",
       "      <td>...</td>\n",
       "      <td>0</td>\n",
       "      <td>1</td>\n",
       "      <td>202</td>\n",
       "      <td>9</td>\n",
       "      <td>116</td>\n",
       "      <td>0</td>\n",
       "      <td>247</td>\n",
       "      <td>72</td>\n",
       "      <td>44</td>\n",
       "      <td>166</td>\n",
       "    </tr>\n",
       "    <tr>\n",
       "      <td>20</td>\n",
       "      <td>b'-2hQKCE-oTI'</td>\n",
       "      <td>53</td>\n",
       "      <td>footsteps</td>\n",
       "      <td>30</td>\n",
       "      <td>162</td>\n",
       "      <td>44</td>\n",
       "      <td>7</td>\n",
       "      <td>216</td>\n",
       "      <td>116</td>\n",
       "      <td>206</td>\n",
       "      <td>...</td>\n",
       "      <td>213</td>\n",
       "      <td>109</td>\n",
       "      <td>50</td>\n",
       "      <td>88</td>\n",
       "      <td>19</td>\n",
       "      <td>46</td>\n",
       "      <td>54</td>\n",
       "      <td>154</td>\n",
       "      <td>42</td>\n",
       "      <td>211</td>\n",
       "    </tr>\n",
       "    <tr>\n",
       "      <td>28</td>\n",
       "      <td>b'-3pPrlCm6gg'</td>\n",
       "      <td>198</td>\n",
       "      <td>clarinet</td>\n",
       "      <td>179</td>\n",
       "      <td>190</td>\n",
       "      <td>122</td>\n",
       "      <td>19</td>\n",
       "      <td>0</td>\n",
       "      <td>114</td>\n",
       "      <td>255</td>\n",
       "      <td>...</td>\n",
       "      <td>58</td>\n",
       "      <td>15</td>\n",
       "      <td>207</td>\n",
       "      <td>0</td>\n",
       "      <td>108</td>\n",
       "      <td>43</td>\n",
       "      <td>97</td>\n",
       "      <td>57</td>\n",
       "      <td>42</td>\n",
       "      <td>0</td>\n",
       "    </tr>\n",
       "    <tr>\n",
       "      <td>63</td>\n",
       "      <td>b'-70wVF5u-gg'</td>\n",
       "      <td>366</td>\n",
       "      <td>chopping_food</td>\n",
       "      <td>0</td>\n",
       "      <td>114</td>\n",
       "      <td>186</td>\n",
       "      <td>34</td>\n",
       "      <td>87</td>\n",
       "      <td>250</td>\n",
       "      <td>58</td>\n",
       "      <td>...</td>\n",
       "      <td>0</td>\n",
       "      <td>122</td>\n",
       "      <td>144</td>\n",
       "      <td>63</td>\n",
       "      <td>110</td>\n",
       "      <td>255</td>\n",
       "      <td>139</td>\n",
       "      <td>138</td>\n",
       "      <td>59</td>\n",
       "      <td>154</td>\n",
       "    </tr>\n",
       "    <tr>\n",
       "      <td>82</td>\n",
       "      <td>b'-ASYwidRD7M'</td>\n",
       "      <td>43</td>\n",
       "      <td>snoring</td>\n",
       "      <td>53</td>\n",
       "      <td>100</td>\n",
       "      <td>144</td>\n",
       "      <td>84</td>\n",
       "      <td>223</td>\n",
       "      <td>68</td>\n",
       "      <td>95</td>\n",
       "      <td>...</td>\n",
       "      <td>56</td>\n",
       "      <td>78</td>\n",
       "      <td>153</td>\n",
       "      <td>65</td>\n",
       "      <td>208</td>\n",
       "      <td>207</td>\n",
       "      <td>200</td>\n",
       "      <td>255</td>\n",
       "      <td>255</td>\n",
       "      <td>66</td>\n",
       "    </tr>\n",
       "  </tbody>\n",
       "</table>\n",
       "<p>5 rows × 643 columns</p>\n",
       "</div>"
      ],
      "text/plain": [
       "     video_id_list    y         y_name    0    1    2   3    4    5    6  ...  \\\n",
       "5   b'--ZhevVpy1s'  375     toothbrush  117   35  163  90  198  103   63  ...   \n",
       "20  b'-2hQKCE-oTI'   53      footsteps   30  162   44   7  216  116  206  ...   \n",
       "28  b'-3pPrlCm6gg'  198       clarinet  179  190  122  19    0  114  255  ...   \n",
       "63  b'-70wVF5u-gg'  366  chopping_food    0  114  186  34   87  250   58  ...   \n",
       "82  b'-ASYwidRD7M'   43        snoring   53  100  144  84  223   68   95  ...   \n",
       "\n",
       "    630  631  632  633  634  635  636  637  638  639  \n",
       "5     0    1  202    9  116    0  247   72   44  166  \n",
       "20  213  109   50   88   19   46   54  154   42  211  \n",
       "28   58   15  207    0  108   43   97   57   42    0  \n",
       "63    0  122  144   63  110  255  139  138   59  154  \n",
       "82   56   78  153   65  208  207  200  255  255   66  \n",
       "\n",
       "[5 rows x 643 columns]"
      ]
     },
     "execution_count": 19,
     "metadata": {},
     "output_type": "execute_result"
    }
   ],
   "source": [
    "house_bal.head()"
   ]
  },
  {
   "cell_type": "code",
   "execution_count": 20,
   "metadata": {
    "ExecuteTime": {
     "end_time": "2019-10-21T19:50:58.419990Z",
     "start_time": "2019-10-21T19:50:58.317363Z"
    }
   },
   "outputs": [
    {
     "data": {
      "text/plain": [
       "(45717, 643)"
      ]
     },
     "execution_count": 20,
     "metadata": {},
     "output_type": "execute_result"
    }
   ],
   "source": [
    "house_bal.shape"
   ]
  },
  {
   "cell_type": "code",
   "execution_count": 21,
   "metadata": {
    "ExecuteTime": {
     "end_time": "2019-10-21T19:50:58.813081Z",
     "start_time": "2019-10-21T19:50:58.724966Z"
    }
   },
   "outputs": [
    {
     "data": {
      "text/plain": [
       "30"
      ]
     },
     "execution_count": 21,
     "metadata": {},
     "output_type": "execute_result"
    }
   ],
   "source": [
    "len(house_bal.y_name.value_counts())"
   ]
  },
  {
   "cell_type": "code",
   "execution_count": 22,
   "metadata": {
    "ExecuteTime": {
     "end_time": "2019-10-21T19:50:59.324917Z",
     "start_time": "2019-10-21T19:50:59.234303Z"
    }
   },
   "outputs": [
    {
     "data": {
      "text/plain": [
       "speech            4042\n",
       "music             3781\n",
       "laughter          3772\n",
       "snoring           3370\n",
       "vacuum_cleaner    3054\n",
       "typing            2644\n",
       "dishes_pots       2560\n",
       "frying_food       2102\n",
       "blender           1884\n",
       "toilet_flush      1882\n",
       "door              1868\n",
       "whoop             1736\n",
       "footsteps         1492\n",
       "baby_cry          1414\n",
       "screeming         1116\n",
       "whispering         972\n",
       "clarinet           960\n",
       "crying             918\n",
       "microwave          894\n",
       "television         866\n",
       "hair_dryer         772\n",
       "video_games        592\n",
       "shaving            552\n",
       "bathtab            472\n",
       "water_tap          458\n",
       "chopping_food      410\n",
       "meow               388\n",
       "dog                358\n",
       "purr               304\n",
       "toothbrush          84\n",
       "Name: y_name, dtype: int64"
      ]
     },
     "execution_count": 22,
     "metadata": {},
     "output_type": "execute_result"
    }
   ],
   "source": [
    "house_bal.y_name.value_counts()"
   ]
  },
  {
   "cell_type": "code",
   "execution_count": 23,
   "metadata": {
    "ExecuteTime": {
     "end_time": "2019-10-21T19:51:00.447362Z",
     "start_time": "2019-10-21T19:51:00.372659Z"
    }
   },
   "outputs": [],
   "source": [
    "five_class_list = [\n",
    "    'speech',\n",
    "    'footsteps',\n",
    "    'toilet_flush',\n",
    "    'bathtab',\n",
    "    'purr'\n",
    "]"
   ]
  },
  {
   "cell_type": "code",
   "execution_count": 24,
   "metadata": {
    "ExecuteTime": {
     "end_time": "2019-10-21T19:51:01.941755Z",
     "start_time": "2019-10-21T19:51:01.856625Z"
    }
   },
   "outputs": [],
   "source": [
    "house_5_classes = house_bal.loc[house_bal.y_name.isin(five_class_list)]"
   ]
  },
  {
   "cell_type": "code",
   "execution_count": 25,
   "metadata": {
    "ExecuteTime": {
     "end_time": "2019-10-21T19:51:02.847188Z",
     "start_time": "2019-10-21T19:51:02.779003Z"
    }
   },
   "outputs": [
    {
     "data": {
      "text/plain": [
       "(8192, 643)"
      ]
     },
     "execution_count": 25,
     "metadata": {},
     "output_type": "execute_result"
    }
   ],
   "source": [
    "house_5_classes.shape"
   ]
  },
  {
   "cell_type": "code",
   "execution_count": 26,
   "metadata": {
    "ExecuteTime": {
     "end_time": "2019-10-21T19:51:03.636832Z",
     "start_time": "2019-10-21T19:51:03.553392Z"
    }
   },
   "outputs": [
    {
     "data": {
      "text/html": [
       "<div>\n",
       "<style scoped>\n",
       "    .dataframe tbody tr th:only-of-type {\n",
       "        vertical-align: middle;\n",
       "    }\n",
       "\n",
       "    .dataframe tbody tr th {\n",
       "        vertical-align: top;\n",
       "    }\n",
       "\n",
       "    .dataframe thead th {\n",
       "        text-align: right;\n",
       "    }\n",
       "</style>\n",
       "<table border=\"1\" class=\"dataframe\">\n",
       "  <thead>\n",
       "    <tr style=\"text-align: right;\">\n",
       "      <th></th>\n",
       "      <th>video_id_list</th>\n",
       "      <th>y</th>\n",
       "      <th>y_name</th>\n",
       "      <th>0</th>\n",
       "      <th>1</th>\n",
       "      <th>2</th>\n",
       "      <th>3</th>\n",
       "      <th>4</th>\n",
       "      <th>5</th>\n",
       "      <th>6</th>\n",
       "      <th>...</th>\n",
       "      <th>630</th>\n",
       "      <th>631</th>\n",
       "      <th>632</th>\n",
       "      <th>633</th>\n",
       "      <th>634</th>\n",
       "      <th>635</th>\n",
       "      <th>636</th>\n",
       "      <th>637</th>\n",
       "      <th>638</th>\n",
       "      <th>639</th>\n",
       "    </tr>\n",
       "  </thead>\n",
       "  <tbody>\n",
       "    <tr>\n",
       "      <td>20</td>\n",
       "      <td>b'-2hQKCE-oTI'</td>\n",
       "      <td>53</td>\n",
       "      <td>footsteps</td>\n",
       "      <td>30</td>\n",
       "      <td>162</td>\n",
       "      <td>44</td>\n",
       "      <td>7</td>\n",
       "      <td>216</td>\n",
       "      <td>116</td>\n",
       "      <td>206</td>\n",
       "      <td>...</td>\n",
       "      <td>213</td>\n",
       "      <td>109</td>\n",
       "      <td>50</td>\n",
       "      <td>88</td>\n",
       "      <td>19</td>\n",
       "      <td>46</td>\n",
       "      <td>54</td>\n",
       "      <td>154</td>\n",
       "      <td>42</td>\n",
       "      <td>211</td>\n",
       "    </tr>\n",
       "    <tr>\n",
       "      <td>138</td>\n",
       "      <td>b'-G_hnfp4a0M'</td>\n",
       "      <td>53</td>\n",
       "      <td>footsteps</td>\n",
       "      <td>141</td>\n",
       "      <td>93</td>\n",
       "      <td>96</td>\n",
       "      <td>107</td>\n",
       "      <td>139</td>\n",
       "      <td>0</td>\n",
       "      <td>220</td>\n",
       "      <td>...</td>\n",
       "      <td>250</td>\n",
       "      <td>104</td>\n",
       "      <td>46</td>\n",
       "      <td>0</td>\n",
       "      <td>98</td>\n",
       "      <td>12</td>\n",
       "      <td>234</td>\n",
       "      <td>61</td>\n",
       "      <td>81</td>\n",
       "      <td>133</td>\n",
       "    </tr>\n",
       "    <tr>\n",
       "      <td>150</td>\n",
       "      <td>b'-IWlQN6cfe4'</td>\n",
       "      <td>53</td>\n",
       "      <td>footsteps</td>\n",
       "      <td>78</td>\n",
       "      <td>146</td>\n",
       "      <td>188</td>\n",
       "      <td>30</td>\n",
       "      <td>200</td>\n",
       "      <td>44</td>\n",
       "      <td>120</td>\n",
       "      <td>...</td>\n",
       "      <td>130</td>\n",
       "      <td>96</td>\n",
       "      <td>33</td>\n",
       "      <td>255</td>\n",
       "      <td>83</td>\n",
       "      <td>228</td>\n",
       "      <td>123</td>\n",
       "      <td>120</td>\n",
       "      <td>58</td>\n",
       "      <td>236</td>\n",
       "    </tr>\n",
       "    <tr>\n",
       "      <td>281</td>\n",
       "      <td>b'-blH_CYo09w'</td>\n",
       "      <td>53</td>\n",
       "      <td>footsteps</td>\n",
       "      <td>190</td>\n",
       "      <td>217</td>\n",
       "      <td>227</td>\n",
       "      <td>113</td>\n",
       "      <td>96</td>\n",
       "      <td>140</td>\n",
       "      <td>43</td>\n",
       "      <td>...</td>\n",
       "      <td>255</td>\n",
       "      <td>255</td>\n",
       "      <td>163</td>\n",
       "      <td>45</td>\n",
       "      <td>183</td>\n",
       "      <td>31</td>\n",
       "      <td>39</td>\n",
       "      <td>0</td>\n",
       "      <td>54</td>\n",
       "      <td>196</td>\n",
       "    </tr>\n",
       "    <tr>\n",
       "      <td>552</td>\n",
       "      <td>b'0DefiYiEF4E'</td>\n",
       "      <td>0</td>\n",
       "      <td>speech</td>\n",
       "      <td>104</td>\n",
       "      <td>150</td>\n",
       "      <td>137</td>\n",
       "      <td>162</td>\n",
       "      <td>243</td>\n",
       "      <td>70</td>\n",
       "      <td>59</td>\n",
       "      <td>...</td>\n",
       "      <td>192</td>\n",
       "      <td>216</td>\n",
       "      <td>0</td>\n",
       "      <td>197</td>\n",
       "      <td>0</td>\n",
       "      <td>144</td>\n",
       "      <td>128</td>\n",
       "      <td>38</td>\n",
       "      <td>127</td>\n",
       "      <td>216</td>\n",
       "    </tr>\n",
       "  </tbody>\n",
       "</table>\n",
       "<p>5 rows × 643 columns</p>\n",
       "</div>"
      ],
      "text/plain": [
       "      video_id_list   y     y_name    0    1    2    3    4    5    6  ...  \\\n",
       "20   b'-2hQKCE-oTI'  53  footsteps   30  162   44    7  216  116  206  ...   \n",
       "138  b'-G_hnfp4a0M'  53  footsteps  141   93   96  107  139    0  220  ...   \n",
       "150  b'-IWlQN6cfe4'  53  footsteps   78  146  188   30  200   44  120  ...   \n",
       "281  b'-blH_CYo09w'  53  footsteps  190  217  227  113   96  140   43  ...   \n",
       "552  b'0DefiYiEF4E'   0     speech  104  150  137  162  243   70   59  ...   \n",
       "\n",
       "     630  631  632  633  634  635  636  637  638  639  \n",
       "20   213  109   50   88   19   46   54  154   42  211  \n",
       "138  250  104   46    0   98   12  234   61   81  133  \n",
       "150  130   96   33  255   83  228  123  120   58  236  \n",
       "281  255  255  163   45  183   31   39    0   54  196  \n",
       "552  192  216    0  197    0  144  128   38  127  216  \n",
       "\n",
       "[5 rows x 643 columns]"
      ]
     },
     "execution_count": 26,
     "metadata": {},
     "output_type": "execute_result"
    }
   ],
   "source": [
    "house_5_classes.head()"
   ]
  },
  {
   "cell_type": "code",
   "execution_count": 27,
   "metadata": {
    "ExecuteTime": {
     "end_time": "2019-10-21T19:51:04.425054Z",
     "start_time": "2019-10-21T19:51:04.348820Z"
    }
   },
   "outputs": [],
   "source": [
    "# Assign features X and target y\n",
    "X = house_5_classes[house_5_classes.columns[3:643]]\n",
    "y = house_5_classes.y_name"
   ]
  },
  {
   "cell_type": "code",
   "execution_count": 28,
   "metadata": {
    "ExecuteTime": {
     "end_time": "2019-10-21T19:51:05.539872Z",
     "start_time": "2019-10-21T19:51:05.457663Z"
    }
   },
   "outputs": [
    {
     "data": {
      "text/plain": [
       "((6553, 640), (1639, 640))"
      ]
     },
     "execution_count": 28,
     "metadata": {},
     "output_type": "execute_result"
    }
   ],
   "source": [
    "# Split data into train and test sets\n",
    "X_train, X_test, y_train, y_test = train_test_split(X, y, test_size=0.2, random_state=3)\n",
    "\n",
    "X_train.shape, X_test.shape"
   ]
  },
  {
   "cell_type": "code",
   "execution_count": 35,
   "metadata": {
    "ExecuteTime": {
     "end_time": "2019-10-21T21:06:54.467180Z",
     "start_time": "2019-10-21T21:06:54.389251Z"
    }
   },
   "outputs": [
    {
     "name": "stdout",
     "output_type": "stream",
     "text": [
      "Appending to /Users/greenapple/project3/src/models/train_fit_time.py\n"
     ]
    }
   ],
   "source": [
    "%%writefile '/Users/greenapple/project3/src/models/train_fit_time.py'\n",
    "\n",
    "import numpy as np\n",
    "import pandas as pd\n",
    "import pickle\n",
    "import joblib\n",
    "from sklearn.linear_model import LogisticRegression\n",
    "from sklearn.neighbors import KNeighborsClassifier\n",
    "from sklearn.naive_bayes import MultinomialNB\n",
    "from sklearn import svm\n",
    "from sklearn.svm import SVC\n",
    "\n",
    "from sklearn.metrics import f1_score\n",
    "from imblearn.under_sampling import RandomUnderSampler\n",
    "from imblearn.over_sampling import RandomOverSampler\n",
    "\n",
    "from imblearn.pipeline import Pipeline\n",
    "from sklearn import preprocessing\n",
    "from sklearn.model_selection import cross_val_score, GridSearchCV\n",
    "import sklearn\n",
    "from datetime import datetime\n",
    "\n",
    "from time_best_fit import time_best_fit\n",
    "\n",
    "def train_fit(model, \n",
    "              param_grid, \n",
    "              transformer, \n",
    "              X_train, \n",
    "              y_train, \n",
    "              X_test, \n",
    "              y_test, \n",
    "              CV):\n",
    "   \n",
    "    '''Function searches for the best model paramenters through a cross-validation on the train set\n",
    "    and returns results of test set fit.\n",
    "   \n",
    "    Args:\n",
    "        model - supervised learning classifier\n",
    "        param_grid (dict) - set of model specific parameters\n",
    "        tranformer - data transformer\n",
    "        X_train (DataFrame) - training data set\n",
    "        y_train (DataFrame) - training target set\n",
    "        X_test (DataFrame) - test data set\n",
    "        y_test (DataFrame) - test traget set\n",
    "        CV (int) - number of cross-validation folds\n",
    "        \n",
    "    Returns:\n",
    "        dictionary with the following keys:\n",
    "            train_score\n",
    "            test_score\n",
    "            params\n",
    "            estimator\n",
    "            test_proba\n",
    "            y_hat\n",
    "        model\n",
    "    '''\n",
    "    # Time the function: record start time\n",
    "    start_time = datetime.now()\n",
    "    \n",
    "    pipe = Pipeline([('transformer', transformer), ('model', model)])\n",
    "    \n",
    "    # Parameter grid\n",
    "    grid = GridSearchCV(pipe, param_grid, cv=CV, scoring='f1_micro', refit=True, n_jobs=-1)\n",
    "    grid.fit(X_train, y_train)\n",
    "    \n",
    "    # Time the function: record end time\n",
    "    end_time = datetime.now()\n",
    "    time = str(end_time - start_time)\n",
    "    \n",
    "    # Parameters and scores\n",
    "    params_scores_pred = {\n",
    "        'best_train_score':grid.best_score_,\n",
    "        'best_test_score': grid.score(X_test, y_test),\n",
    "        'time': time,\n",
    "        'time_best_fit': time_best_fit(),\n",
    "        'best_params':grid.best_params_,\n",
    "        'best_estimator':grid.best_estimator_,\n",
    "        'best_test_proba': grid.predict_proba(X_test),\n",
    "        'best_y_hat': grid.predict(X_test),\n",
    "        'all_scores': grid.cv_results_\n",
    "\n",
    "    }\n",
    "\n",
    "    return params_scores_pred, grid"
   ]
  },
  {
   "cell_type": "code",
   "execution_count": null,
   "metadata": {},
   "outputs": [],
   "source": []
  },
  {
   "cell_type": "code",
   "execution_count": 6,
   "metadata": {
    "ExecuteTime": {
     "end_time": "2019-10-21T19:44:24.923798Z",
     "start_time": "2019-10-21T19:44:24.912535Z"
    }
   },
   "outputs": [
    {
     "data": {
      "text/plain": [
       "Pipeline(memory=None,\n",
       "         steps=[('transformer',\n",
       "                 RandomOverSampler(random_state=3, ratio=None,\n",
       "                                   return_indices=False,\n",
       "                                   sampling_strategy='minority')),\n",
       "                ('model',\n",
       "                 LogisticRegression(C=1.0, class_weight=None, dual=False,\n",
       "                                    fit_intercept=True, intercept_scaling=1,\n",
       "                                    l1_ratio=None, max_iter=100,\n",
       "                                    multi_class='warn', n_jobs=None,\n",
       "                                    penalty='l1', random_state=3, solver='warn',\n",
       "                                    tol=0.0001, verbose=0, warm_start=False))],\n",
       "         verbose=False)"
      ]
     },
     "execution_count": 6,
     "metadata": {},
     "output_type": "execute_result"
    }
   ],
   "source": [
    "# Unpickle data \n",
    "with open('/Users/greenapple/project3/models/logreg_5_cls_scores_params.pkl', 'rb') as f:\n",
    "    logreg_5_cls_scores_params = pickle.load(f)\n",
    "logreg_5_cls_scores_params['best_estimator']"
   ]
  },
  {
   "cell_type": "code",
   "execution_count": 7,
   "metadata": {
    "ExecuteTime": {
     "end_time": "2019-10-21T19:46:14.468618Z",
     "start_time": "2019-10-21T19:46:14.463668Z"
    }
   },
   "outputs": [],
   "source": [
    "pipe = logreg_5_cls_scores_params['best_estimator']"
   ]
  },
  {
   "cell_type": "code",
   "execution_count": 31,
   "metadata": {
    "ExecuteTime": {
     "end_time": "2019-10-21T20:46:01.712302Z",
     "start_time": "2019-10-21T20:46:01.515855Z"
    }
   },
   "outputs": [
    {
     "name": "stdout",
     "output_type": "stream",
     "text": [
      "Appending to /Users/greenapple/project3/src/models/time_best_fit.py\n"
     ]
    }
   ],
   "source": [
    "# %%writefile '/Users/greenapple/project3/src/models/time_best_fit.py'\n",
    "\n",
    "import numpy as np\n",
    "import pandas as pd\n",
    "import pickle\n",
    "import joblib\n",
    "from sklearn.linear_model import LogisticRegression\n",
    "from sklearn.neighbors import KNeighborsClassifier\n",
    "from sklearn.naive_bayes import MultinomialNB\n",
    "from sklearn import svm\n",
    "from sklearn.svm import SVC\n",
    "\n",
    "from sklearn.metrics import f1_score\n",
    "from imblearn.under_sampling import RandomUnderSampler\n",
    "from imblearn.over_sampling import RandomOverSampler\n",
    "\n",
    "from imblearn.pipeline import Pipeline\n",
    "from sklearn import preprocessing\n",
    "from sklearn.model_selection import cross_val_score, GridSearchCV\n",
    "import sklearn\n",
    "from datetime import datetime\n",
    "\n",
    "\n",
    "def time_best_fit():\n",
    "   \n",
    "    '''Function searches for the best model paramenters through a cross-validation on the train set\n",
    "    and returns results of test set fit.\n",
    "   \n",
    "    Args:\n",
    "        model - supervised learning classifier\n",
    "        param_grid (dict) - set of model specific parameters\n",
    "        tranformer - data transformer\n",
    "        X_train (DataFrame) - training data set\n",
    "        y_train (DataFrame) - training target set\n",
    "        X_test (DataFrame) - test data set\n",
    "        y_test (DataFrame) - test traget set\n",
    "        CV (int) - number of cross-validation folds\n",
    "        \n",
    "    Returns:\n",
    "        dictionary with the following keys:\n",
    "            train_score\n",
    "            test_score\n",
    "            params\n",
    "            estimator\n",
    "            test_proba\n",
    "            y_hat\n",
    "        model\n",
    "    '''\n",
    "    # Time the function: record start time\n",
    "    start_time = datetime.now()\n",
    "    \n",
    "    pipe = logreg_5_cls_scores_params['best_estimator']\n",
    "    \n",
    "    # Time the function: record start time\n",
    "    start_time = datetime.now()\n",
    "    \n",
    "    # Fit\n",
    "    pipe.fit(X_train, y_train)\n",
    "    \n",
    "    # Time the function: record end time\n",
    "    end_time = datetime.now()\n",
    "    fit_time = str(end_time - start_time)\n",
    "    if fit_time < 1\n",
    "\n",
    "    return fit_time"
   ]
  },
  {
   "cell_type": "code",
   "execution_count": 30,
   "metadata": {
    "ExecuteTime": {
     "end_time": "2019-10-21T19:54:33.780622Z",
     "start_time": "2019-10-21T19:51:22.240580Z"
    }
   },
   "outputs": [
    {
     "name": "stderr",
     "output_type": "stream",
     "text": [
      "/Users/greenapple/anaconda3/envs/metis/lib/python3.7/site-packages/sklearn/linear_model/logistic.py:432: FutureWarning: Default solver will be changed to 'lbfgs' in 0.22. Specify a solver to silence this warning.\n",
      "  FutureWarning)\n",
      "/Users/greenapple/anaconda3/envs/metis/lib/python3.7/site-packages/sklearn/linear_model/logistic.py:469: FutureWarning: Default multi_class will be changed to 'auto' in 0.22. Specify the multi_class option to silence this warning.\n",
      "  \"this warning.\", FutureWarning)\n"
     ]
    },
    {
     "ename": "KeyboardInterrupt",
     "evalue": "",
     "output_type": "error",
     "traceback": [
      "\u001b[0;31m---------------------------------------------------------------------------\u001b[0m",
      "\u001b[0;31mKeyboardInterrupt\u001b[0m                         Traceback (most recent call last)",
      "\u001b[0;32m<ipython-input-30-844a4ae19c02>\u001b[0m in \u001b[0;36m<module>\u001b[0;34m\u001b[0m\n\u001b[0;32m----> 1\u001b[0;31m \u001b[0mtime_best_fit\u001b[0m\u001b[0;34m(\u001b[0m\u001b[0;34m)\u001b[0m\u001b[0;34m\u001b[0m\u001b[0;34m\u001b[0m\u001b[0m\n\u001b[0m",
      "\u001b[0;32m<ipython-input-29-9bd5ffb5df36>\u001b[0m in \u001b[0;36mtime_best_fit\u001b[0;34m()\u001b[0m\n\u001b[1;32m     53\u001b[0m \u001b[0;34m\u001b[0m\u001b[0m\n\u001b[1;32m     54\u001b[0m     \u001b[0;31m# Fit\u001b[0m\u001b[0;34m\u001b[0m\u001b[0;34m\u001b[0m\u001b[0;34m\u001b[0m\u001b[0m\n\u001b[0;32m---> 55\u001b[0;31m     \u001b[0mpipe\u001b[0m\u001b[0;34m.\u001b[0m\u001b[0mfit\u001b[0m\u001b[0;34m(\u001b[0m\u001b[0mX_train\u001b[0m\u001b[0;34m,\u001b[0m \u001b[0my_train\u001b[0m\u001b[0;34m)\u001b[0m\u001b[0;34m\u001b[0m\u001b[0;34m\u001b[0m\u001b[0m\n\u001b[0m\u001b[1;32m     56\u001b[0m \u001b[0;34m\u001b[0m\u001b[0m\n\u001b[1;32m     57\u001b[0m     \u001b[0;31m# Time the function: record end time\u001b[0m\u001b[0;34m\u001b[0m\u001b[0;34m\u001b[0m\u001b[0;34m\u001b[0m\u001b[0m\n",
      "\u001b[0;32m~/anaconda3/envs/metis/lib/python3.7/site-packages/imblearn/pipeline.py\u001b[0m in \u001b[0;36mfit\u001b[0;34m(self, X, y, **fit_params)\u001b[0m\n\u001b[1;32m    238\u001b[0m         \u001b[0mXt\u001b[0m\u001b[0;34m,\u001b[0m \u001b[0myt\u001b[0m\u001b[0;34m,\u001b[0m \u001b[0mfit_params\u001b[0m \u001b[0;34m=\u001b[0m \u001b[0mself\u001b[0m\u001b[0;34m.\u001b[0m\u001b[0m_fit\u001b[0m\u001b[0;34m(\u001b[0m\u001b[0mX\u001b[0m\u001b[0;34m,\u001b[0m \u001b[0my\u001b[0m\u001b[0;34m,\u001b[0m \u001b[0;34m**\u001b[0m\u001b[0mfit_params\u001b[0m\u001b[0;34m)\u001b[0m\u001b[0;34m\u001b[0m\u001b[0;34m\u001b[0m\u001b[0m\n\u001b[1;32m    239\u001b[0m         \u001b[0;32mif\u001b[0m \u001b[0mself\u001b[0m\u001b[0;34m.\u001b[0m\u001b[0m_final_estimator\u001b[0m \u001b[0;34m!=\u001b[0m \u001b[0;34m'passthrough'\u001b[0m\u001b[0;34m:\u001b[0m\u001b[0;34m\u001b[0m\u001b[0;34m\u001b[0m\u001b[0m\n\u001b[0;32m--> 240\u001b[0;31m             \u001b[0mself\u001b[0m\u001b[0;34m.\u001b[0m\u001b[0m_final_estimator\u001b[0m\u001b[0;34m.\u001b[0m\u001b[0mfit\u001b[0m\u001b[0;34m(\u001b[0m\u001b[0mXt\u001b[0m\u001b[0;34m,\u001b[0m \u001b[0myt\u001b[0m\u001b[0;34m,\u001b[0m \u001b[0;34m**\u001b[0m\u001b[0mfit_params\u001b[0m\u001b[0;34m)\u001b[0m\u001b[0;34m\u001b[0m\u001b[0;34m\u001b[0m\u001b[0m\n\u001b[0m\u001b[1;32m    241\u001b[0m         \u001b[0;32mreturn\u001b[0m \u001b[0mself\u001b[0m\u001b[0;34m\u001b[0m\u001b[0;34m\u001b[0m\u001b[0m\n\u001b[1;32m    242\u001b[0m \u001b[0;34m\u001b[0m\u001b[0m\n",
      "\u001b[0;32m~/anaconda3/envs/metis/lib/python3.7/site-packages/sklearn/linear_model/logistic.py\u001b[0m in \u001b[0;36mfit\u001b[0;34m(self, X, y, sample_weight)\u001b[0m\n\u001b[1;32m   1547\u001b[0m                 \u001b[0mself\u001b[0m\u001b[0;34m.\u001b[0m\u001b[0mclass_weight\u001b[0m\u001b[0;34m,\u001b[0m \u001b[0mself\u001b[0m\u001b[0;34m.\u001b[0m\u001b[0mpenalty\u001b[0m\u001b[0;34m,\u001b[0m \u001b[0mself\u001b[0m\u001b[0;34m.\u001b[0m\u001b[0mdual\u001b[0m\u001b[0;34m,\u001b[0m \u001b[0mself\u001b[0m\u001b[0;34m.\u001b[0m\u001b[0mverbose\u001b[0m\u001b[0;34m,\u001b[0m\u001b[0;34m\u001b[0m\u001b[0;34m\u001b[0m\u001b[0m\n\u001b[1;32m   1548\u001b[0m                 \u001b[0mself\u001b[0m\u001b[0;34m.\u001b[0m\u001b[0mmax_iter\u001b[0m\u001b[0;34m,\u001b[0m \u001b[0mself\u001b[0m\u001b[0;34m.\u001b[0m\u001b[0mtol\u001b[0m\u001b[0;34m,\u001b[0m \u001b[0mself\u001b[0m\u001b[0;34m.\u001b[0m\u001b[0mrandom_state\u001b[0m\u001b[0;34m,\u001b[0m\u001b[0;34m\u001b[0m\u001b[0;34m\u001b[0m\u001b[0m\n\u001b[0;32m-> 1549\u001b[0;31m                 sample_weight=sample_weight)\n\u001b[0m\u001b[1;32m   1550\u001b[0m             \u001b[0mself\u001b[0m\u001b[0;34m.\u001b[0m\u001b[0mn_iter_\u001b[0m \u001b[0;34m=\u001b[0m \u001b[0mnp\u001b[0m\u001b[0;34m.\u001b[0m\u001b[0marray\u001b[0m\u001b[0;34m(\u001b[0m\u001b[0;34m[\u001b[0m\u001b[0mn_iter_\u001b[0m\u001b[0;34m]\u001b[0m\u001b[0;34m)\u001b[0m\u001b[0;34m\u001b[0m\u001b[0;34m\u001b[0m\u001b[0m\n\u001b[1;32m   1551\u001b[0m             \u001b[0;32mreturn\u001b[0m \u001b[0mself\u001b[0m\u001b[0;34m\u001b[0m\u001b[0;34m\u001b[0m\u001b[0m\n",
      "\u001b[0;32m~/anaconda3/envs/metis/lib/python3.7/site-packages/sklearn/svm/base.py\u001b[0m in \u001b[0;36m_fit_liblinear\u001b[0;34m(X, y, C, fit_intercept, intercept_scaling, class_weight, penalty, dual, verbose, max_iter, tol, random_state, multi_class, loss, epsilon, sample_weight)\u001b[0m\n\u001b[1;32m    919\u001b[0m         \u001b[0mX\u001b[0m\u001b[0;34m,\u001b[0m \u001b[0my_ind\u001b[0m\u001b[0;34m,\u001b[0m \u001b[0msp\u001b[0m\u001b[0;34m.\u001b[0m\u001b[0misspmatrix\u001b[0m\u001b[0;34m(\u001b[0m\u001b[0mX\u001b[0m\u001b[0;34m)\u001b[0m\u001b[0;34m,\u001b[0m \u001b[0msolver_type\u001b[0m\u001b[0;34m,\u001b[0m \u001b[0mtol\u001b[0m\u001b[0;34m,\u001b[0m \u001b[0mbias\u001b[0m\u001b[0;34m,\u001b[0m \u001b[0mC\u001b[0m\u001b[0;34m,\u001b[0m\u001b[0;34m\u001b[0m\u001b[0;34m\u001b[0m\u001b[0m\n\u001b[1;32m    920\u001b[0m         \u001b[0mclass_weight_\u001b[0m\u001b[0;34m,\u001b[0m \u001b[0mmax_iter\u001b[0m\u001b[0;34m,\u001b[0m \u001b[0mrnd\u001b[0m\u001b[0;34m.\u001b[0m\u001b[0mrandint\u001b[0m\u001b[0;34m(\u001b[0m\u001b[0mnp\u001b[0m\u001b[0;34m.\u001b[0m\u001b[0miinfo\u001b[0m\u001b[0;34m(\u001b[0m\u001b[0;34m'i'\u001b[0m\u001b[0;34m)\u001b[0m\u001b[0;34m.\u001b[0m\u001b[0mmax\u001b[0m\u001b[0;34m)\u001b[0m\u001b[0;34m,\u001b[0m\u001b[0;34m\u001b[0m\u001b[0;34m\u001b[0m\u001b[0m\n\u001b[0;32m--> 921\u001b[0;31m         epsilon, sample_weight)\n\u001b[0m\u001b[1;32m    922\u001b[0m     \u001b[0;31m# Regarding rnd.randint(..) in the above signature:\u001b[0m\u001b[0;34m\u001b[0m\u001b[0;34m\u001b[0m\u001b[0;34m\u001b[0m\u001b[0m\n\u001b[1;32m    923\u001b[0m     \u001b[0;31m# seed for srand in range [0..INT_MAX); due to limitations in Numpy\u001b[0m\u001b[0;34m\u001b[0m\u001b[0;34m\u001b[0m\u001b[0;34m\u001b[0m\u001b[0m\n",
      "\u001b[0;31mKeyboardInterrupt\u001b[0m: "
     ]
    }
   ],
   "source": [
    "time_best_fit()"
   ]
  },
  {
   "cell_type": "markdown",
   "metadata": {},
   "source": [
    "## Build and evaluate models"
   ]
  },
  {
   "cell_type": "markdown",
   "metadata": {
    "ExecuteTime": {
     "end_time": "2019-10-19T17:35:29.887767Z",
     "start_time": "2019-10-19T17:35:29.883261Z"
    }
   },
   "source": [
    "### Logistic regression"
   ]
  },
  {
   "cell_type": "code",
   "execution_count": 54,
   "metadata": {
    "ExecuteTime": {
     "end_time": "2019-10-20T03:52:09.780896Z",
     "start_time": "2019-10-20T03:51:23.510014Z"
    },
    "scrolled": true
   },
   "outputs": [
    {
     "name": "stderr",
     "output_type": "stream",
     "text": [
      "/Users/greenapple/anaconda3/envs/metis/lib/python3.7/site-packages/sklearn/linear_model/logistic.py:432: FutureWarning: Default solver will be changed to 'lbfgs' in 0.22. Specify a solver to silence this warning.\n",
      "  FutureWarning)\n",
      "/Users/greenapple/anaconda3/envs/metis/lib/python3.7/site-packages/sklearn/linear_model/logistic.py:469: FutureWarning: Default multi_class will be changed to 'auto' in 0.22. Specify the multi_class option to silence this warning.\n",
      "  \"this warning.\", FutureWarning)\n"
     ]
    }
   ],
   "source": [
    "# Train and fit logistic regression\n",
    "from train_fit import train_fit \n",
    "\n",
    "# Function arguments:\n",
    "model = LogisticRegression(random_state=3)\n",
    "transformer = RandomOverSampler(random_state=3, sampling_strategy='minority')\n",
    "CV = 5\n",
    "\n",
    "# Function arguments: classifier params\n",
    "penalty = ['l1', 'l2']\n",
    "C = np.logspace(0, 4, 10)\n",
    "\n",
    "param_grid = dict(\n",
    "        model__C = C, \n",
    "        model__penalty = penalty)\n",
    "\n",
    "# Call fitting function\n",
    "logreg_5_cls_scores_params, logreg_5_cls_models = train_fit(model, \n",
    "                                                            param_grid, \n",
    "                                                            transformer, \n",
    "                                                            X_train, \n",
    "                                                            y_train, \n",
    "                                                            X_test, \n",
    "                                                            y_test, \n",
    "                                                            CV)\n",
    "\n",
    "# Pickle results\n",
    "with open('/Users/greenapple/project3/models/logreg_5_cls_scores_params.pkl', 'wb') as f:\n",
    "    pickle.dump(logreg_5_cls_scores_params, f)\n",
    "    \n",
    "# Pickle model\n",
    "with open('/Users/greenapple/project3/models/logreg_5_cls_models.pkl', 'wb') as f:\n",
    "    pickle.dump(logreg_5_cls_models, f)"
   ]
  },
  {
   "cell_type": "code",
   "execution_count": 71,
   "metadata": {},
   "outputs": [
    {
     "data": {
      "text/plain": [
       "{'best_train_score': 0.763161910575309,\n",
       " 'best_test_score': 0.7748627211714461,\n",
       " 'time': '0:48:35.585361',\n",
       " 'best_params': {'model__C': 1.0, 'model__penalty': 'l1'},\n",
       " 'best_estimator': Pipeline(memory=None,\n",
       "          steps=[('transformer',\n",
       "                  RandomOverSampler(random_state=3, ratio=None,\n",
       "                                    return_indices=False,\n",
       "                                    sampling_strategy='minority')),\n",
       "                 ('model',\n",
       "                  LogisticRegression(C=1.0, class_weight=None, dual=False,\n",
       "                                     fit_intercept=True, intercept_scaling=1,\n",
       "                                     l1_ratio=None, max_iter=100,\n",
       "                                     multi_class='warn', n_jobs=None,\n",
       "                                     penalty='l1', random_state=3, solver='warn',\n",
       "                                     tol=0.0001, verbose=0, warm_start=False))],\n",
       "          verbose=False),\n",
       " 'best_test_proba': array([[1.87410914e-28, 3.82400388e-05, 8.92908041e-11, 9.99961582e-01,\n",
       "         1.77435725e-07],\n",
       "        [3.55620995e-17, 9.66669978e-01, 5.79759111e-09, 3.33174327e-02,\n",
       "         1.25837777e-05],\n",
       "        [7.23882982e-12, 2.19094139e-04, 4.12164709e-20, 1.08975972e-03,\n",
       "         9.98691146e-01],\n",
       "        ...,\n",
       "        [1.14129431e-19, 4.13579851e-03, 3.43452033e-18, 3.20451104e-05,\n",
       "         9.95832156e-01],\n",
       "        [1.67549979e-17, 8.99180337e-05, 4.45589217e-19, 9.99908762e-01,\n",
       "         1.31969495e-06],\n",
       "        [6.11932963e-01, 2.94069005e-07, 2.12213297e-26, 6.15619674e-02,\n",
       "         3.26504775e-01]]),\n",
       " 'best_y_hat': array(['speech', 'footsteps', 'toilet_flush', ..., 'toilet_flush',\n",
       "        'speech', 'bathtab'], dtype=object),\n",
       " 'all_scores': {'mean_fit_time': array([150.55857458,  60.02930017, 155.79407086,  66.24775968,\n",
       "         155.87772765,  50.29022117, 155.7963203 ,  51.49886045,\n",
       "         159.49123178,  70.17502522, 171.3969768 ,  54.02123699,\n",
       "         155.84508786,  53.80982761, 155.77028704,  64.94211178,\n",
       "         155.72310519,  61.05604458, 150.52131987,  42.46745138]),\n",
       "  'std_fit_time': array([19.1726879 , 15.32106666, 18.39636965, 31.35695721, 19.8389313 ,\n",
       "         10.87563853, 20.52294603, 11.24842477, 24.12307649, 31.37056743,\n",
       "         24.28093232, 20.28063336, 20.81324199, 17.16596615, 20.63015982,\n",
       "         23.36611412, 20.89954099, 14.99347546, 20.90031478,  4.83374769]),\n",
       "  'mean_score_time': array([0.04254808, 0.03265367, 0.03596292, 0.03689256, 0.03364987,\n",
       "         0.03266292, 0.03454485, 0.03585792, 0.03492222, 0.03572779,\n",
       "         0.0348454 , 0.03193865, 0.03407187, 0.03352995, 0.03352022,\n",
       "         0.03498683, 0.03453326, 0.03484769, 0.03199058, 0.02815537]),\n",
       "  'std_score_time': array([0.00743816, 0.00536793, 0.0025622 , 0.00431697, 0.00333921,\n",
       "         0.00529699, 0.00610529, 0.00105246, 0.00271427, 0.00290919,\n",
       "         0.00222106, 0.00366197, 0.00205766, 0.00542853, 0.00469041,\n",
       "         0.00185082, 0.00493061, 0.0041132 , 0.00977109, 0.00677392]),\n",
       "  'param_model__C': masked_array(data=[1.0, 1.0, 2.7825594022071245, 2.7825594022071245,\n",
       "                     7.742636826811269, 7.742636826811269,\n",
       "                     21.544346900318832, 21.544346900318832,\n",
       "                     59.94842503189409, 59.94842503189409,\n",
       "                     166.81005372000593, 166.81005372000593,\n",
       "                     464.15888336127773, 464.15888336127773,\n",
       "                     1291.5496650148827, 1291.5496650148827,\n",
       "                     3593.813663804626, 3593.813663804626, 10000.0, 10000.0],\n",
       "               mask=[False, False, False, False, False, False, False, False,\n",
       "                     False, False, False, False, False, False, False, False,\n",
       "                     False, False, False, False],\n",
       "         fill_value='?',\n",
       "              dtype=object),\n",
       "  'param_model__penalty': masked_array(data=['l1', 'l2', 'l1', 'l2', 'l1', 'l2', 'l1', 'l2', 'l1',\n",
       "                     'l2', 'l1', 'l2', 'l1', 'l2', 'l1', 'l2', 'l1', 'l2',\n",
       "                     'l1', 'l2'],\n",
       "               mask=[False, False, False, False, False, False, False, False,\n",
       "                     False, False, False, False, False, False, False, False,\n",
       "                     False, False, False, False],\n",
       "         fill_value='?',\n",
       "              dtype=object),\n",
       "  'params': [{'model__C': 1.0, 'model__penalty': 'l1'},\n",
       "   {'model__C': 1.0, 'model__penalty': 'l2'},\n",
       "   {'model__C': 2.7825594022071245, 'model__penalty': 'l1'},\n",
       "   {'model__C': 2.7825594022071245, 'model__penalty': 'l2'},\n",
       "   {'model__C': 7.742636826811269, 'model__penalty': 'l1'},\n",
       "   {'model__C': 7.742636826811269, 'model__penalty': 'l2'},\n",
       "   {'model__C': 21.544346900318832, 'model__penalty': 'l1'},\n",
       "   {'model__C': 21.544346900318832, 'model__penalty': 'l2'},\n",
       "   {'model__C': 59.94842503189409, 'model__penalty': 'l1'},\n",
       "   {'model__C': 59.94842503189409, 'model__penalty': 'l2'},\n",
       "   {'model__C': 166.81005372000593, 'model__penalty': 'l1'},\n",
       "   {'model__C': 166.81005372000593, 'model__penalty': 'l2'},\n",
       "   {'model__C': 464.15888336127773, 'model__penalty': 'l1'},\n",
       "   {'model__C': 464.15888336127773, 'model__penalty': 'l2'},\n",
       "   {'model__C': 1291.5496650148827, 'model__penalty': 'l1'},\n",
       "   {'model__C': 1291.5496650148827, 'model__penalty': 'l2'},\n",
       "   {'model__C': 3593.813663804626, 'model__penalty': 'l1'},\n",
       "   {'model__C': 3593.813663804626, 'model__penalty': 'l2'},\n",
       "   {'model__C': 10000.0, 'model__penalty': 'l1'},\n",
       "   {'model__C': 10000.0, 'model__penalty': 'l2'}],\n",
       "  'split0_test_score': array([0.75780655, 0.7501904 , 0.76009139, 0.75171363, 0.75856816,\n",
       "         0.7501904 , 0.76009139, 0.7501904 , 0.76009139, 0.7501904 ,\n",
       "         0.75932978, 0.74942879, 0.76161462, 0.74790556, 0.76161462,\n",
       "         0.7501904 , 0.76161462, 0.75247525, 0.76161462, 0.7501904 ]),\n",
       "  'split1_test_score': array([0.75914634, 0.74314024, 0.75685976, 0.74314024, 0.75304878,\n",
       "         0.74390244, 0.75304878, 0.74314024, 0.75304878, 0.74314024,\n",
       "         0.75304878, 0.74237805, 0.75228659, 0.74390244, 0.75228659,\n",
       "         0.74390244, 0.75228659, 0.74314024, 0.75228659, 0.74314024]),\n",
       "  'split2_test_score': array([0.76887872, 0.75667429, 0.76735317, 0.76048818, 0.76582761,\n",
       "         0.76048818, 0.76430206, 0.76048818, 0.76430206, 0.75743707,\n",
       "         0.76430206, 0.75896262, 0.76430206, 0.75667429, 0.76430206,\n",
       "         0.75896262, 0.76430206, 0.7597254 , 0.76430206, 0.75743707]),\n",
       "  'split3_test_score': array([0.78380443, 0.77463713, 0.78151261, 0.77616501, 0.77998472,\n",
       "         0.77158136, 0.78074866, 0.77692895, 0.78074866, 0.77692895,\n",
       "         0.78074866, 0.77540107, 0.78074866, 0.77540107, 0.78074866,\n",
       "         0.77540107, 0.78074866, 0.77540107, 0.78074866, 0.77463713]),\n",
       "  'split4_test_score': array([0.74617737, 0.74082569, 0.74923547, 0.74006116, 0.74847095,\n",
       "         0.74082569, 0.74847095, 0.74006116, 0.74847095, 0.73853211,\n",
       "         0.74770642, 0.74235474, 0.74770642, 0.74082569, 0.74770642,\n",
       "         0.73929664, 0.74770642, 0.73776758, 0.74770642, 0.74006116]),\n",
       "  'mean_test_score': array([0.76316191, 0.75309019, 0.76300931, 0.754311  , 0.76117809,\n",
       "         0.75339539, 0.76133069, 0.7541584 , 0.76133069, 0.75324279,\n",
       "         0.76102548, 0.7537006 , 0.76133069, 0.75293759, 0.76133069,\n",
       "         0.75354799, 0.76133069, 0.7537006 , 0.76133069, 0.75309019]),\n",
       "  'std_test_score': array([0.01257825, 0.01211779, 0.01092299, 0.0130347 , 0.01103643,\n",
       "         0.01130341, 0.0111416 , 0.0133685 , 0.0111416 , 0.01345679,\n",
       "         0.01133922, 0.01243483, 0.01142493, 0.01242139, 0.01142493,\n",
       "         0.01275484, 0.01142493, 0.01321474, 0.01142493, 0.01232522]),\n",
       "  'rank_test_score': array([ 1, 18,  2, 11,  9, 16,  3, 12,  3, 17, 10, 13,  3, 20,  3, 15,  3,\n",
       "         13,  3, 18], dtype=int32)}}"
      ]
     },
     "execution_count": 71,
     "metadata": {},
     "output_type": "execute_result"
    }
   ],
   "source": [
    "logreg_5_cls_scores_params"
   ]
  },
  {
   "cell_type": "markdown",
   "metadata": {
    "ExecuteTime": {
     "end_time": "2019-10-19T04:08:58.711750Z",
     "start_time": "2019-10-19T04:08:58.704570Z"
    }
   },
   "source": [
    "### K-Nearest Neighbors"
   ]
  },
  {
   "cell_type": "code",
   "execution_count": 57,
   "metadata": {
    "ExecuteTime": {
     "start_time": "2019-10-20T03:54:26.496Z"
    }
   },
   "outputs": [],
   "source": [
    "# Train and fit KNN\n",
    "\n",
    "# Function arguments:\n",
    "model = KNeighborsClassifier()\n",
    "transformer = RandomOverSampler(random_state=3, sampling_strategy='minority')\n",
    "CV = 5\n",
    "\n",
    "# Function arguments: classifier params\n",
    "k_range = range(1, 31)\n",
    "\n",
    "param_grid = dict(model__n_neighbors=k_range)\n",
    "\n",
    "# Call fitting function\n",
    "KNN_5_cls_scores_params, KNN_5_cls_models = train_fit(model, \n",
    "                                                            param_grid, \n",
    "                                                            transformer, \n",
    "                                                            X_train, \n",
    "                                                            y_train, \n",
    "                                                            X_test, \n",
    "                                                            y_test, \n",
    "                                                            CV)\n",
    "\n",
    "# Pickle results\n",
    "with open('/Users/greenapple/project3/models/KNN_5_cls_scores_params.pkl', 'wb') as f:\n",
    "    pickle.dump(KNN_5_cls_scores_params, f)\n",
    "    \n",
    "# Pickle model\n",
    "with open('/Users/greenapple/project3/models/KNN_5_cls_models.pkl', 'wb') as f:\n",
    "    pickle.dump(KNN_5_cls_models, f)"
   ]
  },
  {
   "cell_type": "code",
   "execution_count": 58,
   "metadata": {},
   "outputs": [
    {
     "data": {
      "text/plain": [
       "{'best_train_score': 0.694491072791088,\n",
       " 'best_test_score': 0.7211714460036608,\n",
       " 'time': '0:14:20.597792',\n",
       " 'best_params': {'model__n_neighbors': 1},\n",
       " 'best_estimator': Pipeline(memory=None,\n",
       "          steps=[('transformer',\n",
       "                  RandomOverSampler(random_state=3, ratio=None,\n",
       "                                    return_indices=False,\n",
       "                                    sampling_strategy='minority')),\n",
       "                 ('model',\n",
       "                  KNeighborsClassifier(algorithm='auto', leaf_size=30,\n",
       "                                       metric='minkowski', metric_params=None,\n",
       "                                       n_jobs=None, n_neighbors=1, p=2,\n",
       "                                       weights='uniform'))],\n",
       "          verbose=False),\n",
       " 'best_test_proba': array([[0., 0., 0., 1., 0.],\n",
       "        [0., 1., 0., 0., 0.],\n",
       "        [0., 0., 0., 0., 1.],\n",
       "        ...,\n",
       "        [0., 0., 0., 0., 1.],\n",
       "        [0., 0., 0., 1., 0.],\n",
       "        [0., 0., 0., 0., 1.]]),\n",
       " 'best_y_hat': array(['speech', 'footsteps', 'toilet_flush', ..., 'toilet_flush',\n",
       "        'speech', 'toilet_flush'], dtype=object),\n",
       " 'all_scores': {'mean_fit_time': array([0.73211775, 0.64291797, 0.62423253, 0.62582374, 0.65093026,\n",
       "         0.62783279, 0.62232356, 0.63698797, 0.62987685, 0.60732279,\n",
       "         0.60162096, 0.60059223, 0.58974638, 0.58959942, 0.56372418,\n",
       "         0.5628324 , 0.5844429 , 0.59319491, 0.58769612, 0.59141569,\n",
       "         0.58407378, 0.58323207, 0.57620487, 0.56025243, 0.59750404,\n",
       "         0.58958321, 0.54392586, 0.53793635, 0.54793482, 0.52376714]),\n",
       "  'std_fit_time': array([0.02898867, 0.01576479, 0.0132583 , 0.02187051, 0.02362668,\n",
       "         0.01883342, 0.01118481, 0.02133797, 0.01655583, 0.02203604,\n",
       "         0.01436156, 0.02161859, 0.01109006, 0.01975641, 0.03882167,\n",
       "         0.01651051, 0.02074559, 0.01205979, 0.0141435 , 0.0580815 ,\n",
       "         0.01687629, 0.01917124, 0.02258506, 0.01478457, 0.01584831,\n",
       "         0.02945019, 0.01691629, 0.00903347, 0.02671599, 0.08806787]),\n",
       "  'mean_score_time': array([23.21515369, 22.5158    , 21.91771641, 21.83229532, 21.74777803,\n",
       "         21.90715961, 21.98296614, 21.80834417, 21.78793397, 21.85890846,\n",
       "         21.92114239, 21.87295237, 22.00026097, 21.97948694, 22.04057364,\n",
       "         22.02193403, 21.98375134, 22.04777594, 22.01210909, 22.03457642,\n",
       "         22.00280299, 22.01289115, 22.0317122 , 22.01437554, 21.99002419,\n",
       "         22.04259906, 22.07266636, 22.01506853, 22.08191819, 19.51065683]),\n",
       "  'std_score_time': array([0.20195933, 0.38409283, 0.15436226, 0.01471363, 0.03584889,\n",
       "         0.19226042, 0.14550876, 0.06467388, 0.0372246 , 0.03530393,\n",
       "         0.02973404, 0.07487448, 0.02347881, 0.06275655, 0.06932257,\n",
       "         0.06986946, 0.07222607, 0.0711254 , 0.06513341, 0.02774096,\n",
       "         0.01691054, 0.00929332, 0.04498232, 0.04630275, 0.04952491,\n",
       "         0.03507612, 0.02676077, 0.03531839, 0.05277251, 3.1078002 ]),\n",
       "  'param_model__n_neighbors': masked_array(data=[1, 2, 3, 4, 5, 6, 7, 8, 9, 10, 11, 12, 13, 14, 15, 16,\n",
       "                     17, 18, 19, 20, 21, 22, 23, 24, 25, 26, 27, 28, 29, 30],\n",
       "               mask=[False, False, False, False, False, False, False, False,\n",
       "                     False, False, False, False, False, False, False, False,\n",
       "                     False, False, False, False, False, False, False, False,\n",
       "                     False, False, False, False, False, False],\n",
       "         fill_value='?',\n",
       "              dtype=object),\n",
       "  'params': [{'model__n_neighbors': 1},\n",
       "   {'model__n_neighbors': 2},\n",
       "   {'model__n_neighbors': 3},\n",
       "   {'model__n_neighbors': 4},\n",
       "   {'model__n_neighbors': 5},\n",
       "   {'model__n_neighbors': 6},\n",
       "   {'model__n_neighbors': 7},\n",
       "   {'model__n_neighbors': 8},\n",
       "   {'model__n_neighbors': 9},\n",
       "   {'model__n_neighbors': 10},\n",
       "   {'model__n_neighbors': 11},\n",
       "   {'model__n_neighbors': 12},\n",
       "   {'model__n_neighbors': 13},\n",
       "   {'model__n_neighbors': 14},\n",
       "   {'model__n_neighbors': 15},\n",
       "   {'model__n_neighbors': 16},\n",
       "   {'model__n_neighbors': 17},\n",
       "   {'model__n_neighbors': 18},\n",
       "   {'model__n_neighbors': 19},\n",
       "   {'model__n_neighbors': 20},\n",
       "   {'model__n_neighbors': 21},\n",
       "   {'model__n_neighbors': 22},\n",
       "   {'model__n_neighbors': 23},\n",
       "   {'model__n_neighbors': 24},\n",
       "   {'model__n_neighbors': 25},\n",
       "   {'model__n_neighbors': 26},\n",
       "   {'model__n_neighbors': 27},\n",
       "   {'model__n_neighbors': 28},\n",
       "   {'model__n_neighbors': 29},\n",
       "   {'model__n_neighbors': 30}],\n",
       "  'split0_test_score': array([0.70677837, 0.57425743, 0.59786748, 0.54760091, 0.51332826,\n",
       "         0.49428789, 0.48743336, 0.46001523, 0.42650419, 0.41584158,\n",
       "         0.39756283, 0.38309216, 0.37014471, 0.36100533, 0.3541508 ,\n",
       "         0.34044174, 0.33434882, 0.32444783, 0.31683168, 0.30464585,\n",
       "         0.30236101, 0.30388423, 0.30464585, 0.34044174, 0.39756283,\n",
       "         0.44021325, 0.50952018, 0.5521706 , 0.59101295, 0.60015232]),\n",
       "  'split1_test_score': array([0.61280488, 0.50685976, 0.52362805, 0.5       , 0.51143293,\n",
       "         0.49009146, 0.45807927, 0.44283537, 0.42606707, 0.40929878,\n",
       "         0.39405488, 0.38643293, 0.37728659, 0.36890244, 0.35746951,\n",
       "         0.34832317, 0.33993902, 0.33079268, 0.3277439 , 0.32469512,\n",
       "         0.31935976, 0.31783537, 0.31402439, 0.34756098, 0.38871951,\n",
       "         0.43597561, 0.47332317, 0.50914634, 0.5464939 , 0.57240854]),\n",
       "  'split2_test_score': array([0.71777269, 0.57894737, 0.60945843, 0.54767353, 0.70022883,\n",
       "         0.69107551, 0.74523265, 0.74294432, 0.74904653, 0.74828375,\n",
       "         0.74752098, 0.73226545, 0.73760488, 0.73836766, 0.74218154,\n",
       "         0.73302822, 0.72921434, 0.72311213, 0.72006102, 0.7078566 ,\n",
       "         0.70022883, 0.70022883, 0.69107551, 0.67963387, 0.68039664,\n",
       "         0.67581998, 0.67124333, 0.66209001, 0.66285278, 0.65675057]),\n",
       "  'split3_test_score': array([0.71734148, 0.55767762, 0.60886173, 0.55156608, 0.54698243,\n",
       "         0.51489687, 0.50572956, 0.49121467, 0.47593583, 0.45683728,\n",
       "         0.42780749, 0.41023682, 0.39266616, 0.37280367, 0.36669213,\n",
       "         0.35294118, 0.34835752, 0.33231474, 0.32696715, 0.31245225,\n",
       "         0.31398014, 0.31168831, 0.31398014, 0.37585943, 0.41405653,\n",
       "         0.44537815, 0.47746371, 0.52711994, 0.55156608, 0.57219251]),\n",
       "  'split4_test_score': array([0.71788991, 0.56345566, 0.58868502, 0.54740061, 0.52828746,\n",
       "         0.50688073, 0.50229358, 0.47018349, 0.44877676, 0.43425076,\n",
       "         0.41437309, 0.39373089, 0.382263  , 0.37155963, 0.36009174,\n",
       "         0.35397554, 0.34097859, 0.33333333, 0.32721713, 0.32033639,\n",
       "         0.31498471, 0.31804281, 0.31651376, 0.36009174, 0.41284404,\n",
       "         0.46406728, 0.52217125, 0.58639144, 0.61391437, 0.63302752]),\n",
       "  'mean_test_score': array([0.69449107, 0.55623379, 0.58568595, 0.53883717, 0.56004883,\n",
       "         0.53944758, 0.53975278, 0.52144056, 0.50526476, 0.49290401,\n",
       "         0.47627041, 0.46116283, 0.45200671, 0.4425454 , 0.43613612,\n",
       "         0.42575919, 0.41858691, 0.40882039, 0.40378453, 0.39401801,\n",
       "         0.39020296, 0.39035556, 0.38806653, 0.42072333, 0.4587212 ,\n",
       "         0.49229361, 0.53074928, 0.56737372, 0.59316344, 0.6068976 ]),\n",
       "  'std_test_score': array([0.04108805, 0.02583038, 0.03198343, 0.01949359, 0.07125528,\n",
       "         0.07634174, 0.10412633, 0.11187387, 0.12327607, 0.12877741,\n",
       "         0.13619224, 0.13590005, 0.14301431, 0.14799629, 0.15310728,\n",
       "         0.15373801, 0.15540736, 0.15720623, 0.15822072, 0.15709907,\n",
       "         0.15514459, 0.15505242, 0.15158763, 0.13003824, 0.11126608,\n",
       "         0.09228019, 0.07267283, 0.0539979 , 0.04289771, 0.03348676]),\n",
       "  'rank_test_score': array([ 1,  7,  4, 10,  6,  9,  8, 12, 13, 14, 16, 17, 19, 20, 21, 22, 24,\n",
       "         25, 26, 27, 29, 28, 30, 23, 18, 15, 11,  5,  3,  2], dtype=int32)}}"
      ]
     },
     "execution_count": 58,
     "metadata": {},
     "output_type": "execute_result"
    }
   ],
   "source": [
    "KNN_5_cls_scores_params"
   ]
  },
  {
   "cell_type": "markdown",
   "metadata": {},
   "source": [
    "### Naive Bayes MultiNomial ?? alpha"
   ]
  },
  {
   "cell_type": "code",
   "execution_count": 67,
   "metadata": {
    "ExecuteTime": {
     "start_time": "2019-10-20T03:54:29.396Z"
    }
   },
   "outputs": [],
   "source": [
    "# Train and fit naive Bayes MultiNomial\n",
    "\n",
    "# Function arguments:\n",
    "model = MultinomialNB()\n",
    "transformer = RandomOverSampler(random_state=3, sampling_strategy='minority')\n",
    "CV = 5\n",
    "\n",
    "# Function arguments: classifier params\n",
    "alphas = [1e-10, 1e-09, 1e-08, 1e-07, 1e-06, 1e-05]\n",
    "# selects the min alpha!!!\n",
    "\n",
    "param_grid = dict(model__alpha=alphas)\n",
    "\n",
    "# Call fitting function\n",
    "NBmultinomial_5_cls_scores_params, NBmultinomial_5_cls_models = train_fit(model, \n",
    "                                                            param_grid, \n",
    "                                                            transformer, \n",
    "                                                            X_train, \n",
    "                                                            y_train, \n",
    "                                                            X_test, \n",
    "                                                            y_test, \n",
    "                                                            CV)\n",
    "\n",
    "# Pickle results\n",
    "with open('/Users/greenapple/project3/models/NBmultinomial_5_cls_scores_params.pkl', 'wb') as f:\n",
    "    pickle.dump(NBmultinomial_5_cls_scores_params, f)\n",
    "    \n",
    "# Pickle model\n",
    "with open('/Users/greenapple/project3/models/NBmultinomial_5_cls_models.pkl', 'wb') as f:\n",
    "    pickle.dump(NBmultinomial_5_cls_models, f)"
   ]
  },
  {
   "cell_type": "code",
   "execution_count": 68,
   "metadata": {},
   "outputs": [
    {
     "data": {
      "text/plain": [
       "{'best_train_score': 0.770639401800702,\n",
       " 'best_test_score': 0.7754728492983527,\n",
       " 'time': '0:00:02.396811',\n",
       " 'best_params': {'model__alpha': 1e-10},\n",
       " 'best_estimator': Pipeline(memory=None,\n",
       "          steps=[('transformer',\n",
       "                  RandomOverSampler(random_state=3, ratio=None,\n",
       "                                    return_indices=False,\n",
       "                                    sampling_strategy='minority')),\n",
       "                 ('model',\n",
       "                  MultinomialNB(alpha=1e-10, class_prior=None, fit_prior=True))],\n",
       "          verbose=False),\n",
       " 'best_test_proba': array([[0.00000000e+000, 0.00000000e+000, 0.00000000e+000,\n",
       "         1.00000000e+000, 0.00000000e+000],\n",
       "        [0.00000000e+000, 1.00000000e+000, 0.00000000e+000,\n",
       "         0.00000000e+000, 0.00000000e+000],\n",
       "        [0.00000000e+000, 0.00000000e+000, 0.00000000e+000,\n",
       "         0.00000000e+000, 1.00000000e+000],\n",
       "        ...,\n",
       "        [0.00000000e+000, 0.00000000e+000, 0.00000000e+000,\n",
       "         0.00000000e+000, 1.00000000e+000],\n",
       "        [0.00000000e+000, 5.25941168e-286, 0.00000000e+000,\n",
       "         1.00000000e+000, 0.00000000e+000],\n",
       "        [5.77682894e-133, 0.00000000e+000, 0.00000000e+000,\n",
       "         0.00000000e+000, 1.00000000e+000]]),\n",
       " 'best_y_hat': array(['speech', 'footsteps', 'toilet_flush', ..., 'toilet_flush',\n",
       "        'speech', 'toilet_flush'], dtype='<U12'),\n",
       " 'all_scores': {'mean_fit_time': array([0.18166423, 0.25432682, 0.32786508, 0.21474805, 0.2449543 ,\n",
       "         0.20528522]),\n",
       "  'std_fit_time': array([0.0109423 , 0.06128645, 0.0370074 , 0.02620289, 0.05298041,\n",
       "         0.04703516]),\n",
       "  'mean_score_time': array([0.02369537, 0.03267279, 0.02716637, 0.02294221, 0.02633824,\n",
       "         0.02135167]),\n",
       "  'std_score_time': array([0.00305714, 0.00715463, 0.00408696, 0.00271212, 0.00736169,\n",
       "         0.00265226]),\n",
       "  'param_model__alpha': masked_array(data=[1e-10, 1e-09, 1e-08, 1e-07, 1e-06, 1e-05],\n",
       "               mask=[False, False, False, False, False, False],\n",
       "         fill_value='?',\n",
       "              dtype=object),\n",
       "  'params': [{'model__alpha': 1e-10},\n",
       "   {'model__alpha': 1e-09},\n",
       "   {'model__alpha': 1e-08},\n",
       "   {'model__alpha': 1e-07},\n",
       "   {'model__alpha': 1e-06},\n",
       "   {'model__alpha': 1e-05}],\n",
       "  'split0_test_score': array([0.76389947, 0.76389947, 0.76389947, 0.76389947, 0.76389947,\n",
       "         0.76389947]),\n",
       "  'split1_test_score': array([0.77972561, 0.77972561, 0.77972561, 0.77972561, 0.77972561,\n",
       "         0.77972561]),\n",
       "  'split2_test_score': array([0.76735317, 0.76735317, 0.76735317, 0.76735317, 0.76735317,\n",
       "         0.76735317]),\n",
       "  'split3_test_score': array([0.7776929, 0.7776929, 0.7776929, 0.7776929, 0.7776929, 0.7776929]),\n",
       "  'split4_test_score': array([0.76452599, 0.76452599, 0.76452599, 0.76452599, 0.76452599,\n",
       "         0.76452599]),\n",
       "  'mean_test_score': array([0.7706394, 0.7706394, 0.7706394, 0.7706394, 0.7706394, 0.7706394]),\n",
       "  'std_test_score': array([0.00672236, 0.00672236, 0.00672236, 0.00672236, 0.00672236,\n",
       "         0.00672236]),\n",
       "  'rank_test_score': array([1, 1, 1, 1, 1, 1], dtype=int32)}}"
      ]
     },
     "execution_count": 68,
     "metadata": {},
     "output_type": "execute_result"
    }
   ],
   "source": [
    "NBmultinomial_5_cls_scores_params"
   ]
  },
  {
   "cell_type": "markdown",
   "metadata": {},
   "source": [
    "### Support Vector Machines"
   ]
  },
  {
   "cell_type": "code",
   "execution_count": 70,
   "metadata": {
    "ExecuteTime": {
     "start_time": "2019-10-20T03:54:37.861Z"
    },
    "scrolled": false
   },
   "outputs": [
    {
     "name": "stderr",
     "output_type": "stream",
     "text": [
      "/Users/greenapple/anaconda3/envs/metis/lib/python3.7/site-packages/joblib/externals/loky/process_executor.py:706: UserWarning: A worker stopped while some jobs were given to the executor. This can be caused by a too short worker timeout or by a memory leak.\n",
      "  \"timeout or by a memory leak.\", UserWarning\n"
     ]
    },
    {
     "ename": "KeyboardInterrupt",
     "evalue": "",
     "output_type": "error",
     "traceback": [
      "\u001b[0;31m---------------------------------------------------------------------------\u001b[0m",
      "\u001b[0;31mKeyboardInterrupt\u001b[0m                         Traceback (most recent call last)",
      "\u001b[0;32m<ipython-input-70-18d126e7234e>\u001b[0m in \u001b[0;36m<module>\u001b[0;34m\u001b[0m\n\u001b[1;32m     26\u001b[0m                                                             \u001b[0mX_test\u001b[0m\u001b[0;34m,\u001b[0m\u001b[0;34m\u001b[0m\u001b[0;34m\u001b[0m\u001b[0m\n\u001b[1;32m     27\u001b[0m                                                             \u001b[0my_test\u001b[0m\u001b[0;34m,\u001b[0m\u001b[0;34m\u001b[0m\u001b[0;34m\u001b[0m\u001b[0m\n\u001b[0;32m---> 28\u001b[0;31m                                                             CV)\n\u001b[0m\u001b[1;32m     29\u001b[0m \u001b[0;34m\u001b[0m\u001b[0m\n\u001b[1;32m     30\u001b[0m \u001b[0;31m# Pickle results\u001b[0m\u001b[0;34m\u001b[0m\u001b[0;34m\u001b[0m\u001b[0;34m\u001b[0m\u001b[0m\n",
      "\u001b[0;32m~/project3/notebooks/train_fit.py\u001b[0m in \u001b[0;36mtrain_fit\u001b[0;34m(model, param_grid, transformer, X_train, y_train, X_test, y_test, CV)\u001b[0m\n",
      "\u001b[0;32m~/anaconda3/envs/metis/lib/python3.7/site-packages/sklearn/model_selection/_search.py\u001b[0m in \u001b[0;36mfit\u001b[0;34m(self, X, y, groups, **fit_params)\u001b[0m\n\u001b[1;32m    686\u001b[0m                 \u001b[0;32mreturn\u001b[0m \u001b[0mresults\u001b[0m\u001b[0;34m\u001b[0m\u001b[0;34m\u001b[0m\u001b[0m\n\u001b[1;32m    687\u001b[0m \u001b[0;34m\u001b[0m\u001b[0m\n\u001b[0;32m--> 688\u001b[0;31m             \u001b[0mself\u001b[0m\u001b[0;34m.\u001b[0m\u001b[0m_run_search\u001b[0m\u001b[0;34m(\u001b[0m\u001b[0mevaluate_candidates\u001b[0m\u001b[0;34m)\u001b[0m\u001b[0;34m\u001b[0m\u001b[0;34m\u001b[0m\u001b[0m\n\u001b[0m\u001b[1;32m    689\u001b[0m \u001b[0;34m\u001b[0m\u001b[0m\n\u001b[1;32m    690\u001b[0m         \u001b[0;31m# For multi-metric evaluation, store the best_index_, best_params_ and\u001b[0m\u001b[0;34m\u001b[0m\u001b[0;34m\u001b[0m\u001b[0;34m\u001b[0m\u001b[0m\n",
      "\u001b[0;32m~/anaconda3/envs/metis/lib/python3.7/site-packages/sklearn/model_selection/_search.py\u001b[0m in \u001b[0;36m_run_search\u001b[0;34m(self, evaluate_candidates)\u001b[0m\n\u001b[1;32m   1147\u001b[0m     \u001b[0;32mdef\u001b[0m \u001b[0m_run_search\u001b[0m\u001b[0;34m(\u001b[0m\u001b[0mself\u001b[0m\u001b[0;34m,\u001b[0m \u001b[0mevaluate_candidates\u001b[0m\u001b[0;34m)\u001b[0m\u001b[0;34m:\u001b[0m\u001b[0;34m\u001b[0m\u001b[0;34m\u001b[0m\u001b[0m\n\u001b[1;32m   1148\u001b[0m         \u001b[0;34m\"\"\"Search all candidates in param_grid\"\"\"\u001b[0m\u001b[0;34m\u001b[0m\u001b[0;34m\u001b[0m\u001b[0m\n\u001b[0;32m-> 1149\u001b[0;31m         \u001b[0mevaluate_candidates\u001b[0m\u001b[0;34m(\u001b[0m\u001b[0mParameterGrid\u001b[0m\u001b[0;34m(\u001b[0m\u001b[0mself\u001b[0m\u001b[0;34m.\u001b[0m\u001b[0mparam_grid\u001b[0m\u001b[0;34m)\u001b[0m\u001b[0;34m)\u001b[0m\u001b[0;34m\u001b[0m\u001b[0;34m\u001b[0m\u001b[0m\n\u001b[0m\u001b[1;32m   1150\u001b[0m \u001b[0;34m\u001b[0m\u001b[0m\n\u001b[1;32m   1151\u001b[0m \u001b[0;34m\u001b[0m\u001b[0m\n",
      "\u001b[0;32m~/anaconda3/envs/metis/lib/python3.7/site-packages/sklearn/model_selection/_search.py\u001b[0m in \u001b[0;36mevaluate_candidates\u001b[0;34m(candidate_params)\u001b[0m\n\u001b[1;32m    665\u001b[0m                                \u001b[0;32mfor\u001b[0m \u001b[0mparameters\u001b[0m\u001b[0;34m,\u001b[0m \u001b[0;34m(\u001b[0m\u001b[0mtrain\u001b[0m\u001b[0;34m,\u001b[0m \u001b[0mtest\u001b[0m\u001b[0;34m)\u001b[0m\u001b[0;34m\u001b[0m\u001b[0;34m\u001b[0m\u001b[0m\n\u001b[1;32m    666\u001b[0m                                in product(candidate_params,\n\u001b[0;32m--> 667\u001b[0;31m                                           cv.split(X, y, groups)))\n\u001b[0m\u001b[1;32m    668\u001b[0m \u001b[0;34m\u001b[0m\u001b[0m\n\u001b[1;32m    669\u001b[0m                 \u001b[0;32mif\u001b[0m \u001b[0mlen\u001b[0m\u001b[0;34m(\u001b[0m\u001b[0mout\u001b[0m\u001b[0;34m)\u001b[0m \u001b[0;34m<\u001b[0m \u001b[0;36m1\u001b[0m\u001b[0;34m:\u001b[0m\u001b[0;34m\u001b[0m\u001b[0;34m\u001b[0m\u001b[0m\n",
      "\u001b[0;32m~/anaconda3/envs/metis/lib/python3.7/site-packages/joblib/parallel.py\u001b[0m in \u001b[0;36m__call__\u001b[0;34m(self, iterable)\u001b[0m\n\u001b[1;32m    932\u001b[0m \u001b[0;34m\u001b[0m\u001b[0m\n\u001b[1;32m    933\u001b[0m             \u001b[0;32mwith\u001b[0m \u001b[0mself\u001b[0m\u001b[0;34m.\u001b[0m\u001b[0m_backend\u001b[0m\u001b[0;34m.\u001b[0m\u001b[0mretrieval_context\u001b[0m\u001b[0;34m(\u001b[0m\u001b[0;34m)\u001b[0m\u001b[0;34m:\u001b[0m\u001b[0;34m\u001b[0m\u001b[0;34m\u001b[0m\u001b[0m\n\u001b[0;32m--> 934\u001b[0;31m                 \u001b[0mself\u001b[0m\u001b[0;34m.\u001b[0m\u001b[0mretrieve\u001b[0m\u001b[0;34m(\u001b[0m\u001b[0;34m)\u001b[0m\u001b[0;34m\u001b[0m\u001b[0;34m\u001b[0m\u001b[0m\n\u001b[0m\u001b[1;32m    935\u001b[0m             \u001b[0;31m# Make sure that we get a last message telling us we are done\u001b[0m\u001b[0;34m\u001b[0m\u001b[0;34m\u001b[0m\u001b[0;34m\u001b[0m\u001b[0m\n\u001b[1;32m    936\u001b[0m             \u001b[0melapsed_time\u001b[0m \u001b[0;34m=\u001b[0m \u001b[0mtime\u001b[0m\u001b[0;34m.\u001b[0m\u001b[0mtime\u001b[0m\u001b[0;34m(\u001b[0m\u001b[0;34m)\u001b[0m \u001b[0;34m-\u001b[0m \u001b[0mself\u001b[0m\u001b[0;34m.\u001b[0m\u001b[0m_start_time\u001b[0m\u001b[0;34m\u001b[0m\u001b[0;34m\u001b[0m\u001b[0m\n",
      "\u001b[0;32m~/anaconda3/envs/metis/lib/python3.7/site-packages/joblib/parallel.py\u001b[0m in \u001b[0;36mretrieve\u001b[0;34m(self)\u001b[0m\n\u001b[1;32m    831\u001b[0m             \u001b[0;32mtry\u001b[0m\u001b[0;34m:\u001b[0m\u001b[0;34m\u001b[0m\u001b[0;34m\u001b[0m\u001b[0m\n\u001b[1;32m    832\u001b[0m                 \u001b[0;32mif\u001b[0m \u001b[0mgetattr\u001b[0m\u001b[0;34m(\u001b[0m\u001b[0mself\u001b[0m\u001b[0;34m.\u001b[0m\u001b[0m_backend\u001b[0m\u001b[0;34m,\u001b[0m \u001b[0;34m'supports_timeout'\u001b[0m\u001b[0;34m,\u001b[0m \u001b[0;32mFalse\u001b[0m\u001b[0;34m)\u001b[0m\u001b[0;34m:\u001b[0m\u001b[0;34m\u001b[0m\u001b[0;34m\u001b[0m\u001b[0m\n\u001b[0;32m--> 833\u001b[0;31m                     \u001b[0mself\u001b[0m\u001b[0;34m.\u001b[0m\u001b[0m_output\u001b[0m\u001b[0;34m.\u001b[0m\u001b[0mextend\u001b[0m\u001b[0;34m(\u001b[0m\u001b[0mjob\u001b[0m\u001b[0;34m.\u001b[0m\u001b[0mget\u001b[0m\u001b[0;34m(\u001b[0m\u001b[0mtimeout\u001b[0m\u001b[0;34m=\u001b[0m\u001b[0mself\u001b[0m\u001b[0;34m.\u001b[0m\u001b[0mtimeout\u001b[0m\u001b[0;34m)\u001b[0m\u001b[0;34m)\u001b[0m\u001b[0;34m\u001b[0m\u001b[0;34m\u001b[0m\u001b[0m\n\u001b[0m\u001b[1;32m    834\u001b[0m                 \u001b[0;32melse\u001b[0m\u001b[0;34m:\u001b[0m\u001b[0;34m\u001b[0m\u001b[0;34m\u001b[0m\u001b[0m\n\u001b[1;32m    835\u001b[0m                     \u001b[0mself\u001b[0m\u001b[0;34m.\u001b[0m\u001b[0m_output\u001b[0m\u001b[0;34m.\u001b[0m\u001b[0mextend\u001b[0m\u001b[0;34m(\u001b[0m\u001b[0mjob\u001b[0m\u001b[0;34m.\u001b[0m\u001b[0mget\u001b[0m\u001b[0;34m(\u001b[0m\u001b[0;34m)\u001b[0m\u001b[0;34m)\u001b[0m\u001b[0;34m\u001b[0m\u001b[0;34m\u001b[0m\u001b[0m\n",
      "\u001b[0;32m~/anaconda3/envs/metis/lib/python3.7/site-packages/joblib/_parallel_backends.py\u001b[0m in \u001b[0;36mwrap_future_result\u001b[0;34m(future, timeout)\u001b[0m\n\u001b[1;32m    519\u001b[0m         AsyncResults.get from multiprocessing.\"\"\"\n\u001b[1;32m    520\u001b[0m         \u001b[0;32mtry\u001b[0m\u001b[0;34m:\u001b[0m\u001b[0;34m\u001b[0m\u001b[0;34m\u001b[0m\u001b[0m\n\u001b[0;32m--> 521\u001b[0;31m             \u001b[0;32mreturn\u001b[0m \u001b[0mfuture\u001b[0m\u001b[0;34m.\u001b[0m\u001b[0mresult\u001b[0m\u001b[0;34m(\u001b[0m\u001b[0mtimeout\u001b[0m\u001b[0;34m=\u001b[0m\u001b[0mtimeout\u001b[0m\u001b[0;34m)\u001b[0m\u001b[0;34m\u001b[0m\u001b[0;34m\u001b[0m\u001b[0m\n\u001b[0m\u001b[1;32m    522\u001b[0m         \u001b[0;32mexcept\u001b[0m \u001b[0mLokyTimeoutError\u001b[0m\u001b[0;34m:\u001b[0m\u001b[0;34m\u001b[0m\u001b[0;34m\u001b[0m\u001b[0m\n\u001b[1;32m    523\u001b[0m             \u001b[0;32mraise\u001b[0m \u001b[0mTimeoutError\u001b[0m\u001b[0;34m(\u001b[0m\u001b[0;34m)\u001b[0m\u001b[0;34m\u001b[0m\u001b[0;34m\u001b[0m\u001b[0m\n",
      "\u001b[0;32m~/anaconda3/envs/metis/lib/python3.7/concurrent/futures/_base.py\u001b[0m in \u001b[0;36mresult\u001b[0;34m(self, timeout)\u001b[0m\n\u001b[1;32m    425\u001b[0m                 \u001b[0;32mreturn\u001b[0m \u001b[0mself\u001b[0m\u001b[0;34m.\u001b[0m\u001b[0m__get_result\u001b[0m\u001b[0;34m(\u001b[0m\u001b[0;34m)\u001b[0m\u001b[0;34m\u001b[0m\u001b[0;34m\u001b[0m\u001b[0m\n\u001b[1;32m    426\u001b[0m \u001b[0;34m\u001b[0m\u001b[0m\n\u001b[0;32m--> 427\u001b[0;31m             \u001b[0mself\u001b[0m\u001b[0;34m.\u001b[0m\u001b[0m_condition\u001b[0m\u001b[0;34m.\u001b[0m\u001b[0mwait\u001b[0m\u001b[0;34m(\u001b[0m\u001b[0mtimeout\u001b[0m\u001b[0;34m)\u001b[0m\u001b[0;34m\u001b[0m\u001b[0;34m\u001b[0m\u001b[0m\n\u001b[0m\u001b[1;32m    428\u001b[0m \u001b[0;34m\u001b[0m\u001b[0m\n\u001b[1;32m    429\u001b[0m             \u001b[0;32mif\u001b[0m \u001b[0mself\u001b[0m\u001b[0;34m.\u001b[0m\u001b[0m_state\u001b[0m \u001b[0;32min\u001b[0m \u001b[0;34m[\u001b[0m\u001b[0mCANCELLED\u001b[0m\u001b[0;34m,\u001b[0m \u001b[0mCANCELLED_AND_NOTIFIED\u001b[0m\u001b[0;34m]\u001b[0m\u001b[0;34m:\u001b[0m\u001b[0;34m\u001b[0m\u001b[0;34m\u001b[0m\u001b[0m\n",
      "\u001b[0;32m~/anaconda3/envs/metis/lib/python3.7/threading.py\u001b[0m in \u001b[0;36mwait\u001b[0;34m(self, timeout)\u001b[0m\n\u001b[1;32m    294\u001b[0m         \u001b[0;32mtry\u001b[0m\u001b[0;34m:\u001b[0m    \u001b[0;31m# restore state no matter what (e.g., KeyboardInterrupt)\u001b[0m\u001b[0;34m\u001b[0m\u001b[0;34m\u001b[0m\u001b[0m\n\u001b[1;32m    295\u001b[0m             \u001b[0;32mif\u001b[0m \u001b[0mtimeout\u001b[0m \u001b[0;32mis\u001b[0m \u001b[0;32mNone\u001b[0m\u001b[0;34m:\u001b[0m\u001b[0;34m\u001b[0m\u001b[0;34m\u001b[0m\u001b[0m\n\u001b[0;32m--> 296\u001b[0;31m                 \u001b[0mwaiter\u001b[0m\u001b[0;34m.\u001b[0m\u001b[0macquire\u001b[0m\u001b[0;34m(\u001b[0m\u001b[0;34m)\u001b[0m\u001b[0;34m\u001b[0m\u001b[0;34m\u001b[0m\u001b[0m\n\u001b[0m\u001b[1;32m    297\u001b[0m                 \u001b[0mgotit\u001b[0m \u001b[0;34m=\u001b[0m \u001b[0;32mTrue\u001b[0m\u001b[0;34m\u001b[0m\u001b[0;34m\u001b[0m\u001b[0m\n\u001b[1;32m    298\u001b[0m             \u001b[0;32melse\u001b[0m\u001b[0;34m:\u001b[0m\u001b[0;34m\u001b[0m\u001b[0;34m\u001b[0m\u001b[0m\n",
      "\u001b[0;31mKeyboardInterrupt\u001b[0m: "
     ]
    }
   ],
   "source": [
    "# Train and fit SVC\n",
    "\n",
    "# Function arguments:\n",
    "model = svm.SVC(probability=True)\n",
    "transformer = RandomOverSampler(random_state=3, sampling_strategy='minority')\n",
    "CV = 5\n",
    "\n",
    "# Function arguments: classifier params\n",
    "kernel = ['linear', 'poly', 'rbf', 'sigmoid']\n",
    "C = [0.001, 0.01, 0.1, 1, 10]\n",
    "gamma = [0.001, 0.01, 0.1, 1]\n",
    "degree = [2, 3]\n",
    "\n",
    "param_grid = dict(model__C=C,\n",
    "                 model__kernel=kernel,\n",
    "                 model__gamma=gamma,\n",
    "                 model__degree=degree\n",
    "                 )\n",
    "\n",
    "# Call fitting function\n",
    "SVC_5_cls_scores_params, SVC_5_cls_models = train_fit(model, \n",
    "                                                            param_grid, \n",
    "                                                            transformer, \n",
    "                                                            X_train, \n",
    "                                                            y_train, \n",
    "                                                            X_test, \n",
    "                                                            y_test, \n",
    "                                                            CV)\n",
    "\n",
    "# Pickle results\n",
    "with open('/Users/greenapple/project3/models/SVC_5_cls_scores_params.pkl', 'wb') as f:\n",
    "    pickle.dump(SVC_5_cls_scores_params, f)\n",
    "    \n",
    "# Pickle model\n",
    "with open('/Users/greenapple/project3/models/SVC_5_cls_models.pkl', 'wb') as f:\n",
    "    pickle.dump(SVC_5_cls_models, f)"
   ]
  },
  {
   "cell_type": "markdown",
   "metadata": {},
   "source": [
    "### Decision  trees"
   ]
  },
  {
   "cell_type": "code",
   "execution_count": null,
   "metadata": {},
   "outputs": [],
   "source": []
  },
  {
   "cell_type": "code",
   "execution_count": null,
   "metadata": {},
   "outputs": [],
   "source": []
  },
  {
   "cell_type": "markdown",
   "metadata": {},
   "source": [
    "### Dummy classifier ??????"
   ]
  },
  {
   "cell_type": "code",
   "execution_count": 72,
   "metadata": {},
   "outputs": [
    {
     "ename": "SyntaxError",
     "evalue": "invalid syntax (<ipython-input-72-9dc13dc8f68a>, line 4)",
     "output_type": "error",
     "traceback": [
      "\u001b[0;36m  File \u001b[0;32m\"<ipython-input-72-9dc13dc8f68a>\"\u001b[0;36m, line \u001b[0;32m4\u001b[0m\n\u001b[0;31m    model = DummyClassifier(random_state=3, strategy=?????????????)\u001b[0m\n\u001b[0m                                                     ^\u001b[0m\n\u001b[0;31mSyntaxError\u001b[0m\u001b[0;31m:\u001b[0m invalid syntax\n"
     ]
    }
   ],
   "source": [
    "# Train and fit Dummy classifier\n",
    "\n",
    "# Function arguments:\n",
    "model = DummyClassifier(random_state=3, strategy='stratified')\n",
    "transformer = RandomOverSampler(random_state=3, sampling_strategy='minority')\n",
    "CV = 5\n",
    "\n",
    "# Function arguments: classifier params\n",
    "k_range = range(1, 31)\n",
    "\n",
    "param_grid = dict(model__n_neighbors=k_range)\n",
    "\n",
    "\n",
    "\n",
    "\n",
    "\n",
    "# Call fitting function\n",
    "Dummy_5_classes = train_fit(model, param_grid, tranformer, X_train, y_train, X_test, y_test, CV)\n",
    "\n",
    "# Pickle results\n",
    "with open('/Users/greenapple/project3/models/Dummy_5_classes.pkl', 'wb') as f:\n",
    "    pickle.dump(Dummy_5_classes, f)"
   ]
  },
  {
   "cell_type": "code",
   "execution_count": 73,
   "metadata": {
    "ExecuteTime": {
     "end_time": "2019-10-19T18:14:27.803735Z",
     "start_time": "2019-10-19T18:14:27.777730Z"
    }
   },
   "outputs": [],
   "source": [
    "# Dummy classifier\n",
    "dummy = DummyClassifier()\n",
    "dummy.fit(X_train, y_train)\n",
    "f1_dummy = f1_score(y_test, dummy.predict(X_test), average='micro')\n",
    "accuracy_dummy = accuracy_score(y_test, dummy.predict(X_test))"
   ]
  },
  {
   "cell_type": "code",
   "execution_count": 74,
   "metadata": {
    "ExecuteTime": {
     "end_time": "2019-10-19T18:16:49.022821Z",
     "start_time": "2019-10-19T18:16:49.010173Z"
    }
   },
   "outputs": [
    {
     "name": "stdout",
     "output_type": "stream",
     "text": [
      "Dummy classifier F1 score:  0.3447223917022575\n",
      "Dummy classifier accuracy score:  0.32397803538743136\n"
     ]
    }
   ],
   "source": [
    "print('Dummy classifier F1 score: ', f1_dummy)\n",
    "print('Dummy classifier accuracy score: ', accuracy_dummy)"
   ]
  },
  {
   "cell_type": "markdown",
   "metadata": {},
   "source": [
    "### Null accuracy"
   ]
  },
  {
   "cell_type": "code",
   "execution_count": 75,
   "metadata": {
    "ExecuteTime": {
     "end_time": "2019-10-19T18:09:54.980086Z",
     "start_time": "2019-10-19T18:09:54.959575Z"
    }
   },
   "outputs": [
    {
     "data": {
      "text/plain": [
       "speech          809\n",
       "toilet_flush    379\n",
       "footsteps       295\n",
       "bathtab         101\n",
       "purr             55\n",
       "Name: y_name, dtype: int64"
      ]
     },
     "execution_count": 75,
     "metadata": {},
     "output_type": "execute_result"
    }
   ],
   "source": [
    "y_test.value_counts()"
   ]
  },
  {
   "cell_type": "code",
   "execution_count": 76,
   "metadata": {
    "ExecuteTime": {
     "end_time": "2019-10-19T18:17:26.002412Z",
     "start_time": "2019-10-19T18:17:25.987166Z"
    }
   },
   "outputs": [
    {
     "name": "stdout",
     "output_type": "stream",
     "text": [
      "Null accuracy:  speech    0.493594\n",
      "Name: y_name, dtype: float64\n"
     ]
    }
   ],
   "source": [
    "# The best estimation (for the most frequent class)\n",
    "null_accuracy = y_test.value_counts().head(1) / len(y_test)\n",
    "print('Null accuracy: ', null_accuracy)"
   ]
  },
  {
   "cell_type": "code",
   "execution_count": null,
   "metadata": {},
   "outputs": [],
   "source": []
  },
  {
   "cell_type": "code",
   "execution_count": null,
   "metadata": {},
   "outputs": [],
   "source": []
  },
  {
   "cell_type": "code",
   "execution_count": null,
   "metadata": {},
   "outputs": [],
   "source": []
  },
  {
   "cell_type": "code",
   "execution_count": null,
   "metadata": {},
   "outputs": [],
   "source": []
  },
  {
   "cell_type": "code",
   "execution_count": null,
   "metadata": {},
   "outputs": [],
   "source": []
  },
  {
   "cell_type": "code",
   "execution_count": null,
   "metadata": {},
   "outputs": [],
   "source": [
    "# Save the model for later\n",
    "filename = /Users/greenapple/project3/models/logreg.sav'\n",
    "joblib.dump(logreg, filename)"
   ]
  }
 ],
 "metadata": {
  "kernelspec": {
   "display_name": "metis",
   "language": "python",
   "name": "metis"
  },
  "language_info": {
   "codemirror_mode": {
    "name": "ipython",
    "version": 3
   },
   "file_extension": ".py",
   "mimetype": "text/x-python",
   "name": "python",
   "nbconvert_exporter": "python",
   "pygments_lexer": "ipython3",
   "version": "3.7.3"
  },
  "toc": {
   "base_numbering": 1,
   "nav_menu": {},
   "number_sections": true,
   "sideBar": true,
   "skip_h1_title": false,
   "title_cell": "Table of Contents",
   "title_sidebar": "Contents",
   "toc_cell": false,
   "toc_position": {
    "height": "calc(100% - 180px)",
    "left": "10px",
    "top": "150px",
    "width": "288px"
   },
   "toc_section_display": true,
   "toc_window_display": true
  }
 },
 "nbformat": 4,
 "nbformat_minor": 2
}
