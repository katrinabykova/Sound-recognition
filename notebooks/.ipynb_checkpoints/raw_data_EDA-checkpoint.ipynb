{
 "cells": [
  {
   "cell_type": "code",
   "execution_count": 1,
   "metadata": {},
   "outputs": [],
   "source": [
    "import numpy as np\n",
    "import pandas as pd\n",
    "import pickle"
   ]
  },
  {
   "cell_type": "code",
   "execution_count": 2,
   "metadata": {},
   "outputs": [],
   "source": [
    "# Unpickle data \n",
    "with open('/Users/greenapple/project3/data/processed/df_bal.pkl', 'rb') as f:\n",
    "    df_bal = pickle.load(f)\n",
    "    \n",
    "with open('/Users/greenapple/project3/data/processed/df_eval.pkl', 'rb') as f:\n",
    "    df_eval = pickle.load(f)\n",
    "    \n",
    "with open('/Users/greenapple/project3/data/processed/df_unbal.pkl', 'rb') as f:\n",
    "    df_unbal = pickle.load(f)"
   ]
  },
  {
   "cell_type": "code",
   "execution_count": 3,
   "metadata": {},
   "outputs": [],
   "source": [
    "# Concatinate dataframes\n",
    "raw = pd.concat([df_bal, df_eval, df_unbal], axis=0)"
   ]
  },
  {
   "cell_type": "code",
   "execution_count": 4,
   "metadata": {},
   "outputs": [
    {
     "data": {
      "text/plain": [
       "(2084320, 1283)"
      ]
     },
     "execution_count": 4,
     "metadata": {},
     "output_type": "execute_result"
    }
   ],
   "source": [
    "raw.shape"
   ]
  },
  {
   "cell_type": "code",
   "execution_count": 5,
   "metadata": {},
   "outputs": [
    {
     "data": {
      "text/html": [
       "<div>\n",
       "<style scoped>\n",
       "    .dataframe tbody tr th:only-of-type {\n",
       "        vertical-align: middle;\n",
       "    }\n",
       "\n",
       "    .dataframe tbody tr th {\n",
       "        vertical-align: top;\n",
       "    }\n",
       "\n",
       "    .dataframe thead th {\n",
       "        text-align: right;\n",
       "    }\n",
       "</style>\n",
       "<table border=\"1\" class=\"dataframe\">\n",
       "  <thead>\n",
       "    <tr style=\"text-align: right;\">\n",
       "      <th></th>\n",
       "      <th>video_id_list</th>\n",
       "      <th>y</th>\n",
       "      <th>y_name</th>\n",
       "      <th>0</th>\n",
       "      <th>1</th>\n",
       "      <th>2</th>\n",
       "      <th>3</th>\n",
       "      <th>4</th>\n",
       "      <th>5</th>\n",
       "      <th>6</th>\n",
       "      <th>...</th>\n",
       "      <th>1270</th>\n",
       "      <th>1271</th>\n",
       "      <th>1272</th>\n",
       "      <th>1273</th>\n",
       "      <th>1274</th>\n",
       "      <th>1275</th>\n",
       "      <th>1276</th>\n",
       "      <th>1277</th>\n",
       "      <th>1278</th>\n",
       "      <th>1279</th>\n",
       "    </tr>\n",
       "  </thead>\n",
       "  <tbody>\n",
       "    <tr>\n",
       "      <td>0</td>\n",
       "      <td>b'--cB2ZVjpnA'</td>\n",
       "      <td>399</td>\n",
       "      <td>Smoke detector, smoke alarm</td>\n",
       "      <td>95</td>\n",
       "      <td>122</td>\n",
       "      <td>147</td>\n",
       "      <td>14</td>\n",
       "      <td>101</td>\n",
       "      <td>48</td>\n",
       "      <td>157</td>\n",
       "      <td>...</td>\n",
       "      <td>0</td>\n",
       "      <td>17</td>\n",
       "      <td>255</td>\n",
       "      <td>0</td>\n",
       "      <td>255</td>\n",
       "      <td>255</td>\n",
       "      <td>160</td>\n",
       "      <td>97</td>\n",
       "      <td>212</td>\n",
       "      <td>0</td>\n",
       "    </tr>\n",
       "    <tr>\n",
       "      <td>1</td>\n",
       "      <td>b'--PJHxphWEs'</td>\n",
       "      <td>0</td>\n",
       "      <td>Speech</td>\n",
       "      <td>80</td>\n",
       "      <td>181</td>\n",
       "      <td>216</td>\n",
       "      <td>164</td>\n",
       "      <td>218</td>\n",
       "      <td>123</td>\n",
       "      <td>76</td>\n",
       "      <td>...</td>\n",
       "      <td>205</td>\n",
       "      <td>151</td>\n",
       "      <td>157</td>\n",
       "      <td>137</td>\n",
       "      <td>178</td>\n",
       "      <td>151</td>\n",
       "      <td>25</td>\n",
       "      <td>136</td>\n",
       "      <td>181</td>\n",
       "      <td>235</td>\n",
       "    </tr>\n",
       "    <tr>\n",
       "      <td>2</td>\n",
       "      <td>b'--ekDLDTUXA'</td>\n",
       "      <td>27</td>\n",
       "      <td>Singing</td>\n",
       "      <td>107</td>\n",
       "      <td>150</td>\n",
       "      <td>89</td>\n",
       "      <td>138</td>\n",
       "      <td>132</td>\n",
       "      <td>0</td>\n",
       "      <td>138</td>\n",
       "      <td>...</td>\n",
       "      <td>247</td>\n",
       "      <td>102</td>\n",
       "      <td>135</td>\n",
       "      <td>127</td>\n",
       "      <td>222</td>\n",
       "      <td>204</td>\n",
       "      <td>228</td>\n",
       "      <td>174</td>\n",
       "      <td>147</td>\n",
       "      <td>188</td>\n",
       "    </tr>\n",
       "    <tr>\n",
       "      <td>3</td>\n",
       "      <td>b'--aE2O5G5WE'</td>\n",
       "      <td>0</td>\n",
       "      <td>Speech</td>\n",
       "      <td>141</td>\n",
       "      <td>83</td>\n",
       "      <td>110</td>\n",
       "      <td>177</td>\n",
       "      <td>169</td>\n",
       "      <td>71</td>\n",
       "      <td>64</td>\n",
       "      <td>...</td>\n",
       "      <td>193</td>\n",
       "      <td>255</td>\n",
       "      <td>65</td>\n",
       "      <td>158</td>\n",
       "      <td>174</td>\n",
       "      <td>0</td>\n",
       "      <td>199</td>\n",
       "      <td>140</td>\n",
       "      <td>167</td>\n",
       "      <td>102</td>\n",
       "    </tr>\n",
       "    <tr>\n",
       "      <td>4</td>\n",
       "      <td>b'--aaILOrkII'</td>\n",
       "      <td>427</td>\n",
       "      <td>Gunshot, gunfire</td>\n",
       "      <td>102</td>\n",
       "      <td>47</td>\n",
       "      <td>170</td>\n",
       "      <td>59</td>\n",
       "      <td>136</td>\n",
       "      <td>154</td>\n",
       "      <td>53</td>\n",
       "      <td>...</td>\n",
       "      <td>44</td>\n",
       "      <td>125</td>\n",
       "      <td>144</td>\n",
       "      <td>121</td>\n",
       "      <td>255</td>\n",
       "      <td>131</td>\n",
       "      <td>182</td>\n",
       "      <td>74</td>\n",
       "      <td>81</td>\n",
       "      <td>98</td>\n",
       "    </tr>\n",
       "    <tr>\n",
       "      <td>...</td>\n",
       "      <td>...</td>\n",
       "      <td>...</td>\n",
       "      <td>...</td>\n",
       "      <td>...</td>\n",
       "      <td>...</td>\n",
       "      <td>...</td>\n",
       "      <td>...</td>\n",
       "      <td>...</td>\n",
       "      <td>...</td>\n",
       "      <td>...</td>\n",
       "      <td>...</td>\n",
       "      <td>...</td>\n",
       "      <td>...</td>\n",
       "      <td>...</td>\n",
       "      <td>...</td>\n",
       "      <td>...</td>\n",
       "      <td>...</td>\n",
       "      <td>...</td>\n",
       "      <td>...</td>\n",
       "      <td>...</td>\n",
       "      <td>...</td>\n",
       "    </tr>\n",
       "    <tr>\n",
       "      <td>2041784</td>\n",
       "      <td>b'zzSuwklObyQ'</td>\n",
       "      <td>27</td>\n",
       "      <td>Singing</td>\n",
       "      <td>210</td>\n",
       "      <td>140</td>\n",
       "      <td>156</td>\n",
       "      <td>181</td>\n",
       "      <td>135</td>\n",
       "      <td>149</td>\n",
       "      <td>169</td>\n",
       "      <td>...</td>\n",
       "      <td>98</td>\n",
       "      <td>238</td>\n",
       "      <td>130</td>\n",
       "      <td>0</td>\n",
       "      <td>77</td>\n",
       "      <td>111</td>\n",
       "      <td>255</td>\n",
       "      <td>190</td>\n",
       "      <td>0</td>\n",
       "      <td>255</td>\n",
       "    </tr>\n",
       "    <tr>\n",
       "      <td>2041785</td>\n",
       "      <td>b'zz-ecEuWiCQ'</td>\n",
       "      <td>0</td>\n",
       "      <td>Speech</td>\n",
       "      <td>20</td>\n",
       "      <td>208</td>\n",
       "      <td>52</td>\n",
       "      <td>0</td>\n",
       "      <td>255</td>\n",
       "      <td>183</td>\n",
       "      <td>230</td>\n",
       "      <td>...</td>\n",
       "      <td>255</td>\n",
       "      <td>177</td>\n",
       "      <td>255</td>\n",
       "      <td>145</td>\n",
       "      <td>173</td>\n",
       "      <td>0</td>\n",
       "      <td>174</td>\n",
       "      <td>255</td>\n",
       "      <td>255</td>\n",
       "      <td>0</td>\n",
       "    </tr>\n",
       "    <tr>\n",
       "      <td>2041786</td>\n",
       "      <td>b'zzvOEksj2V0'</td>\n",
       "      <td>0</td>\n",
       "      <td>Speech</td>\n",
       "      <td>131</td>\n",
       "      <td>122</td>\n",
       "      <td>216</td>\n",
       "      <td>117</td>\n",
       "      <td>171</td>\n",
       "      <td>141</td>\n",
       "      <td>77</td>\n",
       "      <td>...</td>\n",
       "      <td>202</td>\n",
       "      <td>82</td>\n",
       "      <td>0</td>\n",
       "      <td>182</td>\n",
       "      <td>119</td>\n",
       "      <td>221</td>\n",
       "      <td>97</td>\n",
       "      <td>181</td>\n",
       "      <td>99</td>\n",
       "      <td>230</td>\n",
       "    </tr>\n",
       "    <tr>\n",
       "      <td>2041787</td>\n",
       "      <td>b'zzLl8g4g91I'</td>\n",
       "      <td>189</td>\n",
       "      <td>Bowed string instrument</td>\n",
       "      <td>203</td>\n",
       "      <td>102</td>\n",
       "      <td>137</td>\n",
       "      <td>66</td>\n",
       "      <td>126</td>\n",
       "      <td>132</td>\n",
       "      <td>211</td>\n",
       "      <td>...</td>\n",
       "      <td>64</td>\n",
       "      <td>0</td>\n",
       "      <td>132</td>\n",
       "      <td>86</td>\n",
       "      <td>235</td>\n",
       "      <td>0</td>\n",
       "      <td>123</td>\n",
       "      <td>144</td>\n",
       "      <td>0</td>\n",
       "      <td>0</td>\n",
       "    </tr>\n",
       "    <tr>\n",
       "      <td>2041788</td>\n",
       "      <td>b'zzwsSOcZVTs'</td>\n",
       "      <td>300</td>\n",
       "      <td>Vehicle</td>\n",
       "      <td>21</td>\n",
       "      <td>193</td>\n",
       "      <td>4</td>\n",
       "      <td>6</td>\n",
       "      <td>239</td>\n",
       "      <td>150</td>\n",
       "      <td>217</td>\n",
       "      <td>...</td>\n",
       "      <td>97</td>\n",
       "      <td>0</td>\n",
       "      <td>108</td>\n",
       "      <td>152</td>\n",
       "      <td>128</td>\n",
       "      <td>255</td>\n",
       "      <td>169</td>\n",
       "      <td>0</td>\n",
       "      <td>250</td>\n",
       "      <td>30</td>\n",
       "    </tr>\n",
       "  </tbody>\n",
       "</table>\n",
       "<p>2084320 rows × 1283 columns</p>\n",
       "</div>"
      ],
      "text/plain": [
       "          video_id_list    y                       y_name    0    1    2    3  \\\n",
       "0        b'--cB2ZVjpnA'  399  Smoke detector, smoke alarm   95  122  147   14   \n",
       "1        b'--PJHxphWEs'    0                       Speech   80  181  216  164   \n",
       "2        b'--ekDLDTUXA'   27                      Singing  107  150   89  138   \n",
       "3        b'--aE2O5G5WE'    0                       Speech  141   83  110  177   \n",
       "4        b'--aaILOrkII'  427             Gunshot, gunfire  102   47  170   59   \n",
       "...                 ...  ...                          ...  ...  ...  ...  ...   \n",
       "2041784  b'zzSuwklObyQ'   27                      Singing  210  140  156  181   \n",
       "2041785  b'zz-ecEuWiCQ'    0                       Speech   20  208   52    0   \n",
       "2041786  b'zzvOEksj2V0'    0                       Speech  131  122  216  117   \n",
       "2041787  b'zzLl8g4g91I'  189      Bowed string instrument  203  102  137   66   \n",
       "2041788  b'zzwsSOcZVTs'  300                      Vehicle   21  193    4    6   \n",
       "\n",
       "           4    5    6  ...  1270  1271  1272  1273  1274  1275  1276  1277  \\\n",
       "0        101   48  157  ...     0    17   255     0   255   255   160    97   \n",
       "1        218  123   76  ...   205   151   157   137   178   151    25   136   \n",
       "2        132    0  138  ...   247   102   135   127   222   204   228   174   \n",
       "3        169   71   64  ...   193   255    65   158   174     0   199   140   \n",
       "4        136  154   53  ...    44   125   144   121   255   131   182    74   \n",
       "...      ...  ...  ...  ...   ...   ...   ...   ...   ...   ...   ...   ...   \n",
       "2041784  135  149  169  ...    98   238   130     0    77   111   255   190   \n",
       "2041785  255  183  230  ...   255   177   255   145   173     0   174   255   \n",
       "2041786  171  141   77  ...   202    82     0   182   119   221    97   181   \n",
       "2041787  126  132  211  ...    64     0   132    86   235     0   123   144   \n",
       "2041788  239  150  217  ...    97     0   108   152   128   255   169     0   \n",
       "\n",
       "         1278  1279  \n",
       "0         212     0  \n",
       "1         181   235  \n",
       "2         147   188  \n",
       "3         167   102  \n",
       "4          81    98  \n",
       "...       ...   ...  \n",
       "2041784     0   255  \n",
       "2041785   255     0  \n",
       "2041786    99   230  \n",
       "2041787     0     0  \n",
       "2041788   250    30  \n",
       "\n",
       "[2084320 rows x 1283 columns]"
      ]
     },
     "execution_count": 5,
     "metadata": {},
     "output_type": "execute_result"
    }
   ],
   "source": [
    "raw"
   ]
  },
  {
   "cell_type": "markdown",
   "metadata": {},
   "source": [
    "# Cat sound labeles\n",
    "cat = labels.loc[labels['display_name'] == 'Cat']['mid']\n",
    "purr = labels.loc[labels['display_name'] == 'Purr']['mid']\n",
    "meow = labels.loc[labels['display_name'] == 'Meow']['mid']\n",
    "hiss = labels.loc[labels['display_name'] == 'Hiss']['mid']\n",
    "cat_communication = labels.loc[labels['display_name'] == 'Cat communication']['mid']\n",
    "caterwaul = labels.loc[labels['display_name'] == 'Caterwaul']['mid']\n",
    "growling = labels.loc[labels['display_name'] == 'Growling']['mid']"
   ]
  },
  {
   "cell_type": "code",
   "execution_count": 6,
   "metadata": {},
   "outputs": [
    {
     "data": {
      "text/plain": [
       "(941, 1283)"
      ]
     },
     "execution_count": 6,
     "metadata": {},
     "output_type": "execute_result"
    }
   ],
   "source": [
    "raw.loc[raw['y_name']=='Toilet flush'].shape"
   ]
  },
  {
   "cell_type": "code",
   "execution_count": 7,
   "metadata": {},
   "outputs": [
    {
     "data": {
      "text/plain": [
       "Speech                                      1010480\n",
       "Music                                        630174\n",
       "Vehicle                                       78013\n",
       "Singing                                       38453\n",
       "Animal                                        20587\n",
       "Bird                                          13212\n",
       "Percussion                                     6879\n",
       "Wind                                           6259\n",
       "Water                                          5963\n",
       "Fowl                                           5563\n",
       "Female singing                                 5467\n",
       "Inside, small room                             5382\n",
       "Engine                                         4838\n",
       "Male singing                                   4811\n",
       "Tools                                          4644\n",
       "Mantra                                         4329\n",
       "Rail transport                                 4046\n",
       "Rapping                                        3954\n",
       "Brass instrument                               3949\n",
       "Silence                                        3779\n",
       "Outside, rural or natural                      3777\n",
       "Gunshot, gunfire                               3690\n",
       "Wind instrument, woodwind instrument           3574\n",
       "Emergency vehicle                              3478\n",
       "Bowed string instrument                        3385\n",
       "Siren                                          3379\n",
       "Crowd                                          3370\n",
       "Keyboard (musical)                             3267\n",
       "Mallet percussion                              3109\n",
       "Choir                                          2986\n",
       "Sound effect                                   2830\n",
       "Cheering                                       2736\n",
       "Insect                                         2549\n",
       "Hiss                                           2319\n",
       "Livestock, farm animals, working animals       2236\n",
       "Printer                                        2092\n",
       "Musical instrument                             2080\n",
       "Rain                                           2058\n",
       "Boat, Water vehicle                            2014\n",
       "Domestic animals, pets                         1931\n",
       "Laughter                                       1886\n",
       "Outside, urban or manmade                      1835\n",
       "Child speech, kid speaking                     1804\n",
       "Organ                                          1784\n",
       "Mechanisms                                     1781\n",
       "Whistling                                      1705\n",
       "Snoring                                        1685\n",
       "Fireworks                                      1567\n",
       "Inside, large room or hall                     1546\n",
       "Vacuum cleaner                                 1527\n",
       "Pizzicato                                      1500\n",
       "Stream                                         1468\n",
       "Whack, thwack                                  1459\n",
       "Typing                                         1322\n",
       "Chainsaw                                       1317\n",
       "Chant                                          1296\n",
       "Dishes, pots, and pans                         1280\n",
       "Car passing by                                 1271\n",
       "Child singing                                  1263\n",
       "Heavy engine (low frequency)                   1211\n",
       "Name: y_name, dtype: int64"
      ]
     },
     "execution_count": 7,
     "metadata": {},
     "output_type": "execute_result"
    }
   ],
   "source": [
    "raw['y_name'].value_counts().head(60)"
   ]
  },
  {
   "cell_type": "code",
   "execution_count": 8,
   "metadata": {},
   "outputs": [],
   "source": [
    "# Classes for house sounds\n",
    "house_list = [\n",
    "    'Speech',\n",
    "    'Music',\n",
    "    'Laughter',\n",
    "    'Snoring',\n",
    "    'Vacuum cleaner',\n",
    "    'Typing',\n",
    "    'Dishes, pots, and pans'\n",
    "    'Cat',\n",
    "    'Meow',\n",
    "    'Purr',\n",
    "    'Toothbrush',\n",
    "    'Television',\n",
    "    'Microwave oven',\n",
    "    'Bathtub (filling or washing)',\n",
    "    'Water tap, faucet',\n",
    "    'Sink (filling or washing)', \n",
    "    'Toilet flush'   \n",
    "]"
   ]
  },
  {
   "cell_type": "code",
   "execution_count": 9,
   "metadata": {},
   "outputs": [
    {
     "data": {
      "text/plain": [
       "16"
      ]
     },
     "execution_count": 9,
     "metadata": {},
     "output_type": "execute_result"
    }
   ],
   "source": [
    "len(house_list)"
   ]
  },
  {
   "cell_type": "code",
   "execution_count": 10,
   "metadata": {},
   "outputs": [],
   "source": [
    "house_10 = raw.loc[raw['y_name'].isin(house_list)]"
   ]
  },
  {
   "cell_type": "code",
   "execution_count": 11,
   "metadata": {},
   "outputs": [
    {
     "data": {
      "text/plain": [
       "(1649844, 1283)"
      ]
     },
     "execution_count": 11,
     "metadata": {},
     "output_type": "execute_result"
    }
   ],
   "source": [
    "house_10.shape"
   ]
  },
  {
   "cell_type": "code",
   "execution_count": 13,
   "metadata": {},
   "outputs": [
    {
     "data": {
      "text/plain": [
       "((1649844, 643), (1649844, 643))"
      ]
     },
     "execution_count": 13,
     "metadata": {},
     "output_type": "execute_result"
    }
   ],
   "source": [
    "# Split features in half - take first 5 vectors (1-640 columns) and add the remained 6-10 vectors as new observations.\n",
    "# Based on literature 5 vectors (5 sec audio) should be sufficient for classification.\n",
    "house_5_first_vectors = house_10[house_10.columns[0:643]]\n",
    "house_5_last_vectors = house_10.drop(house_10.columns[3:643], axis=1)\n",
    "house_5_first_vectors.shape, house_5_last_vectors.shape"
   ]
  },
  {
   "cell_type": "code",
   "execution_count": 14,
   "metadata": {},
   "outputs": [],
   "source": [
    "# Rename the last 5 vector columns to match the first 5. Make new dataframe.\n",
    "keys = [x for x in range(640, 1280)]\n",
    "values = [x for x in range(0, 640)]\n",
    "rename_dict = dict(zip(keys, values))\n",
    "house_5_last_vectors.rename(columns=rename_dict, inplace=True)"
   ]
  },
  {
   "cell_type": "code",
   "execution_count": 15,
   "metadata": {},
   "outputs": [],
   "source": [
    "house = pd.concat([house_5_first_vectors, house_5_last_vectors], axis=0)"
   ]
  },
  {
   "cell_type": "code",
   "execution_count": 16,
   "metadata": {},
   "outputs": [
    {
     "data": {
      "text/plain": [
       "(3299688, 643)"
      ]
     },
     "execution_count": 16,
     "metadata": {},
     "output_type": "execute_result"
    }
   ],
   "source": [
    "house.shape"
   ]
  },
  {
   "cell_type": "code",
   "execution_count": 18,
   "metadata": {},
   "outputs": [],
   "source": [
    "# Pickle dataframe\n",
    "\n",
    "with open('/Users/greenapple/project3/data/processed/house.pkl', 'wb') as f:\n",
    "    pickle.dump(house, f)"
   ]
  }
 ],
 "metadata": {
  "kernelspec": {
   "display_name": "metis",
   "language": "python",
   "name": "metis"
  },
  "language_info": {
   "codemirror_mode": {
    "name": "ipython",
    "version": 3
   },
   "file_extension": ".py",
   "mimetype": "text/x-python",
   "name": "python",
   "nbconvert_exporter": "python",
   "pygments_lexer": "ipython3",
   "version": "3.7.3"
  }
 },
 "nbformat": 4,
 "nbformat_minor": 2
}
