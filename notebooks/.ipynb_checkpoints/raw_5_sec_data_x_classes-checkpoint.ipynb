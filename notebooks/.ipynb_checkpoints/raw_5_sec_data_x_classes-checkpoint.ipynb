{
 "cells": [
  {
   "cell_type": "code",
   "execution_count": 1,
   "metadata": {},
   "outputs": [],
   "source": [
    "import numpy as np\n",
    "import pandas as pd\n",
    "import pickle"
   ]
  },
  {
   "cell_type": "code",
   "execution_count": 2,
   "metadata": {},
   "outputs": [],
   "source": [
    "# Unpickle data \n",
    "with open('/Users/greenapple/project3/data/processed/raw_5_sec.pkl', 'rb') as f:\n",
    "    raw_5_sec = pickle.load(f)"
   ]
  },
  {
   "cell_type": "code",
   "execution_count": 3,
   "metadata": {},
   "outputs": [
    {
     "data": {
      "text/plain": [
       "(4168640, 643)"
      ]
     },
     "execution_count": 3,
     "metadata": {},
     "output_type": "execute_result"
    }
   ],
   "source": [
    "raw_5_sec.shape"
   ]
  },
  {
   "cell_type": "code",
   "execution_count": 4,
   "metadata": {},
   "outputs": [
    {
     "data": {
      "text/html": [
       "<div>\n",
       "<style scoped>\n",
       "    .dataframe tbody tr th:only-of-type {\n",
       "        vertical-align: middle;\n",
       "    }\n",
       "\n",
       "    .dataframe tbody tr th {\n",
       "        vertical-align: top;\n",
       "    }\n",
       "\n",
       "    .dataframe thead th {\n",
       "        text-align: right;\n",
       "    }\n",
       "</style>\n",
       "<table border=\"1\" class=\"dataframe\">\n",
       "  <thead>\n",
       "    <tr style=\"text-align: right;\">\n",
       "      <th></th>\n",
       "      <th>video_id_list</th>\n",
       "      <th>y</th>\n",
       "      <th>y_name</th>\n",
       "      <th>0</th>\n",
       "      <th>1</th>\n",
       "      <th>2</th>\n",
       "      <th>3</th>\n",
       "      <th>4</th>\n",
       "      <th>5</th>\n",
       "      <th>6</th>\n",
       "      <th>...</th>\n",
       "      <th>630</th>\n",
       "      <th>631</th>\n",
       "      <th>632</th>\n",
       "      <th>633</th>\n",
       "      <th>634</th>\n",
       "      <th>635</th>\n",
       "      <th>636</th>\n",
       "      <th>637</th>\n",
       "      <th>638</th>\n",
       "      <th>639</th>\n",
       "    </tr>\n",
       "  </thead>\n",
       "  <tbody>\n",
       "    <tr>\n",
       "      <td>0</td>\n",
       "      <td>b'--cB2ZVjpnA'</td>\n",
       "      <td>399</td>\n",
       "      <td>Smoke detector, smoke alarm</td>\n",
       "      <td>95</td>\n",
       "      <td>122</td>\n",
       "      <td>147</td>\n",
       "      <td>14</td>\n",
       "      <td>101</td>\n",
       "      <td>48</td>\n",
       "      <td>157</td>\n",
       "      <td>...</td>\n",
       "      <td>255</td>\n",
       "      <td>0</td>\n",
       "      <td>178</td>\n",
       "      <td>0</td>\n",
       "      <td>22</td>\n",
       "      <td>255</td>\n",
       "      <td>255</td>\n",
       "      <td>255</td>\n",
       "      <td>180</td>\n",
       "      <td>0</td>\n",
       "    </tr>\n",
       "    <tr>\n",
       "      <td>1</td>\n",
       "      <td>b'--PJHxphWEs'</td>\n",
       "      <td>0</td>\n",
       "      <td>Speech</td>\n",
       "      <td>80</td>\n",
       "      <td>181</td>\n",
       "      <td>216</td>\n",
       "      <td>164</td>\n",
       "      <td>218</td>\n",
       "      <td>123</td>\n",
       "      <td>76</td>\n",
       "      <td>...</td>\n",
       "      <td>157</td>\n",
       "      <td>255</td>\n",
       "      <td>93</td>\n",
       "      <td>143</td>\n",
       "      <td>86</td>\n",
       "      <td>220</td>\n",
       "      <td>255</td>\n",
       "      <td>117</td>\n",
       "      <td>255</td>\n",
       "      <td>96</td>\n",
       "    </tr>\n",
       "    <tr>\n",
       "      <td>2</td>\n",
       "      <td>b'--ekDLDTUXA'</td>\n",
       "      <td>27</td>\n",
       "      <td>Singing</td>\n",
       "      <td>107</td>\n",
       "      <td>150</td>\n",
       "      <td>89</td>\n",
       "      <td>138</td>\n",
       "      <td>132</td>\n",
       "      <td>0</td>\n",
       "      <td>138</td>\n",
       "      <td>...</td>\n",
       "      <td>134</td>\n",
       "      <td>98</td>\n",
       "      <td>152</td>\n",
       "      <td>119</td>\n",
       "      <td>65</td>\n",
       "      <td>132</td>\n",
       "      <td>113</td>\n",
       "      <td>186</td>\n",
       "      <td>161</td>\n",
       "      <td>81</td>\n",
       "    </tr>\n",
       "    <tr>\n",
       "      <td>3</td>\n",
       "      <td>b'--aE2O5G5WE'</td>\n",
       "      <td>0</td>\n",
       "      <td>Speech</td>\n",
       "      <td>141</td>\n",
       "      <td>83</td>\n",
       "      <td>110</td>\n",
       "      <td>177</td>\n",
       "      <td>169</td>\n",
       "      <td>71</td>\n",
       "      <td>64</td>\n",
       "      <td>...</td>\n",
       "      <td>208</td>\n",
       "      <td>196</td>\n",
       "      <td>33</td>\n",
       "      <td>233</td>\n",
       "      <td>0</td>\n",
       "      <td>34</td>\n",
       "      <td>189</td>\n",
       "      <td>160</td>\n",
       "      <td>0</td>\n",
       "      <td>153</td>\n",
       "    </tr>\n",
       "    <tr>\n",
       "      <td>4</td>\n",
       "      <td>b'--aaILOrkII'</td>\n",
       "      <td>427</td>\n",
       "      <td>Gunshot, gunfire</td>\n",
       "      <td>102</td>\n",
       "      <td>47</td>\n",
       "      <td>170</td>\n",
       "      <td>59</td>\n",
       "      <td>136</td>\n",
       "      <td>154</td>\n",
       "      <td>53</td>\n",
       "      <td>...</td>\n",
       "      <td>148</td>\n",
       "      <td>152</td>\n",
       "      <td>191</td>\n",
       "      <td>255</td>\n",
       "      <td>255</td>\n",
       "      <td>124</td>\n",
       "      <td>209</td>\n",
       "      <td>85</td>\n",
       "      <td>110</td>\n",
       "      <td>0</td>\n",
       "    </tr>\n",
       "  </tbody>\n",
       "</table>\n",
       "<p>5 rows × 643 columns</p>\n",
       "</div>"
      ],
      "text/plain": [
       "    video_id_list    y                       y_name    0    1    2    3    4  \\\n",
       "0  b'--cB2ZVjpnA'  399  Smoke detector, smoke alarm   95  122  147   14  101   \n",
       "1  b'--PJHxphWEs'    0                       Speech   80  181  216  164  218   \n",
       "2  b'--ekDLDTUXA'   27                      Singing  107  150   89  138  132   \n",
       "3  b'--aE2O5G5WE'    0                       Speech  141   83  110  177  169   \n",
       "4  b'--aaILOrkII'  427             Gunshot, gunfire  102   47  170   59  136   \n",
       "\n",
       "     5    6  ...  630  631  632  633  634  635  636  637  638  639  \n",
       "0   48  157  ...  255    0  178    0   22  255  255  255  180    0  \n",
       "1  123   76  ...  157  255   93  143   86  220  255  117  255   96  \n",
       "2    0  138  ...  134   98  152  119   65  132  113  186  161   81  \n",
       "3   71   64  ...  208  196   33  233    0   34  189  160    0  153  \n",
       "4  154   53  ...  148  152  191  255  255  124  209   85  110    0  \n",
       "\n",
       "[5 rows x 643 columns]"
      ]
     },
     "execution_count": 4,
     "metadata": {},
     "output_type": "execute_result"
    }
   ],
   "source": [
    "raw_5_sec.head()"
   ]
  },
  {
   "cell_type": "code",
   "execution_count": 5,
   "metadata": {},
   "outputs": [
    {
     "data": {
      "text/plain": [
       "(388, 643)"
      ]
     },
     "execution_count": 5,
     "metadata": {},
     "output_type": "execute_result"
    }
   ],
   "source": [
    "raw_5_sec.loc[raw_5_sec['y_name']=='Meow'].shape"
   ]
  },
  {
   "cell_type": "code",
   "execution_count": 6,
   "metadata": {},
   "outputs": [
    {
     "data": {
      "text/plain": [
       "Speech                                      2020960\n",
       "Music                                       1260348\n",
       "Vehicle                                      156026\n",
       "Singing                                       76906\n",
       "Animal                                        41174\n",
       "Bird                                          26424\n",
       "Percussion                                    13758\n",
       "Wind                                          12518\n",
       "Water                                         11926\n",
       "Fowl                                          11126\n",
       "Female singing                                10934\n",
       "Inside, small room                            10764\n",
       "Engine                                         9676\n",
       "Male singing                                   9622\n",
       "Tools                                          9288\n",
       "Mantra                                         8658\n",
       "Rail transport                                 8092\n",
       "Rapping                                        7908\n",
       "Brass instrument                               7898\n",
       "Silence                                        7558\n",
       "Outside, rural or natural                      7554\n",
       "Gunshot, gunfire                               7380\n",
       "Wind instrument, woodwind instrument           7148\n",
       "Emergency vehicle                              6956\n",
       "Bowed string instrument                        6770\n",
       "Siren                                          6758\n",
       "Crowd                                          6740\n",
       "Keyboard (musical)                             6534\n",
       "Mallet percussion                              6218\n",
       "Choir                                          5972\n",
       "Sound effect                                   5660\n",
       "Cheering                                       5472\n",
       "Insect                                         5098\n",
       "Hiss                                           4638\n",
       "Livestock, farm animals, working animals       4472\n",
       "Printer                                        4184\n",
       "Musical instrument                             4160\n",
       "Rain                                           4116\n",
       "Boat, Water vehicle                            4028\n",
       "Domestic animals, pets                         3862\n",
       "Laughter                                       3772\n",
       "Outside, urban or manmade                      3670\n",
       "Child speech, kid speaking                     3608\n",
       "Organ                                          3568\n",
       "Mechanisms                                     3562\n",
       "Whistling                                      3410\n",
       "Snoring                                        3370\n",
       "Fireworks                                      3134\n",
       "Inside, large room or hall                     3092\n",
       "Vacuum cleaner                                 3054\n",
       "Pizzicato                                      3000\n",
       "Stream                                         2936\n",
       "Whack, thwack                                  2918\n",
       "Typing                                         2644\n",
       "Chainsaw                                       2634\n",
       "Chant                                          2592\n",
       "Dishes, pots, and pans                         2560\n",
       "Car passing by                                 2542\n",
       "Child singing                                  2526\n",
       "Heavy engine (low frequency)                   2422\n",
       "Name: y_name, dtype: int64"
      ]
     },
     "execution_count": 6,
     "metadata": {},
     "output_type": "execute_result"
    }
   ],
   "source": [
    "raw_5_sec['y_name'].value_counts().head(60)"
   ]
  },
  {
   "cell_type": "code",
   "execution_count": 7,
   "metadata": {},
   "outputs": [],
   "source": [
    "# Classes for house sounds\n",
    "house_list = [\n",
    "    'Speech',\n",
    "    'Music',\n",
    "    'Laughter',\n",
    "    'Snoring',\n",
    "    'Vacuum cleaner',\n",
    "    'Typing',\n",
    "    'Dishes, pots, and pans',\n",
    "    'Meow',\n",
    "    'Purr',\n",
    "    'Toothbrush',\n",
    "    'Television',\n",
    "    'Microwave oven',\n",
    "    'Bathtub (filling or washing)',\n",
    "    'Water tap, faucet',\n",
    "    'Sink (filling or washing)', \n",
    "    'Toilet flush',\n",
    "    'Baby cry, infant cry',\n",
    "    'Dog',\n",
    "    'Frying (food)',\n",
    "    'Whoop',\n",
    "    'Walk, footsteps',\n",
    "    'Whispering',\n",
    "    'Crying, sobbing',\n",
    "    'Clarinet',\n",
    "    'Blender',\n",
    "    'Screaming',\n",
    "    'Electric shaver, electric razor',\n",
    "    'Door',\n",
    "    'Chopping (food)'\n",
    "]"
   ]
  },
  {
   "cell_type": "code",
   "execution_count": 8,
   "metadata": {},
   "outputs": [
    {
     "data": {
      "text/plain": [
       "29"
      ]
     },
     "execution_count": 8,
     "metadata": {},
     "output_type": "execute_result"
    }
   ],
   "source": [
    "len(house_list)"
   ]
  },
  {
   "cell_type": "code",
   "execution_count": 11,
   "metadata": {},
   "outputs": [],
   "source": [
    "# Class selection\n",
    "house = raw_5_sec.loc[raw_5_sec['y_name'].isin(house_list)]"
   ]
  },
  {
   "cell_type": "code",
   "execution_count": 12,
   "metadata": {},
   "outputs": [
    {
     "data": {
      "text/plain": [
       "(3318030, 643)"
      ]
     },
     "execution_count": 12,
     "metadata": {},
     "output_type": "execute_result"
    }
   ],
   "source": [
    "house.shape"
   ]
  },
  {
   "cell_type": "code",
   "execution_count": 13,
   "metadata": {},
   "outputs": [
    {
     "data": {
      "text/plain": [
       "array(['Speech', 'Toothbrush', 'Music', 'Walk, footsteps', 'Clarinet',\n",
       "       'Chopping (food)', 'Snoring', 'Dishes, pots, and pans',\n",
       "       'Screaming', 'Whoop', 'Vacuum cleaner', 'Whispering', 'Door',\n",
       "       'Blender', 'Meow', 'Typing', 'Microwave oven',\n",
       "       'Electric shaver, electric razor', 'Television', 'Laughter',\n",
       "       'Frying (food)', 'Purr', 'Sink (filling or washing)', 'Dog',\n",
       "       'Crying, sobbing', 'Baby cry, infant cry', 'Toilet flush',\n",
       "       'Water tap, faucet', 'Bathtub (filling or washing)'], dtype=object)"
      ]
     },
     "execution_count": 13,
     "metadata": {},
     "output_type": "execute_result"
    }
   ],
   "source": [
    "house.y_name.unique()"
   ]
  },
  {
   "cell_type": "code",
   "execution_count": 14,
   "metadata": {},
   "outputs": [],
   "source": [
    "# Rename y_name variables\n",
    "house.replace({'y_name': {\n",
    "    'Sink (filling or washing)':'Sink', \n",
    "    'Bathtub (filling or washing)':'Bathtub',\n",
    "    'Vacuum cleaner':'Vacuum_cleaner',\n",
    "    'Microwave oven':'Microwave_oven',\n",
    "    'Toilet flush':'Toilet_flush',\n",
    "    'Water tap, faucet':'Water',\n",
    "    'Dishes, pots, and pans':'Dishes_pans',\n",
    "    'Baby cry, infant cry':'Baby_cry',\n",
    "    'Frying (food)':'Frying_food',\n",
    "    'Walk, footsteps':'Footsteps',\n",
    "    'Crying, sobbing':'Crying',\n",
    "    'Electric shaver, electric razor':'Shaving',\n",
    "    'Chopping (food)':'Chopping_food'\n",
    "    \n",
    "}}, inplace=True)"
   ]
  },
  {
   "cell_type": "code",
   "execution_count": 15,
   "metadata": {},
   "outputs": [
    {
     "data": {
      "text/plain": [
       "array(['Speech', 'Toothbrush', 'Music', 'Footsteps', 'Clarinet',\n",
       "       'Chopping_food', 'Snoring', 'Dishes_pans', 'Screaming', 'Whoop',\n",
       "       'Vacuum_cleaner', 'Whispering', 'Door', 'Blender', 'Meow',\n",
       "       'Typing', 'Microwave_oven', 'Shaving', 'Television', 'Laughter',\n",
       "       'Frying_food', 'Purr', 'Sink', 'Dog', 'Crying', 'Baby_cry',\n",
       "       'Toilet_flush', 'Water', 'Bathtub'], dtype=object)"
      ]
     },
     "execution_count": 15,
     "metadata": {},
     "output_type": "execute_result"
    }
   ],
   "source": [
    "house.y_name.unique()"
   ]
  },
  {
   "cell_type": "code",
   "execution_count": 16,
   "metadata": {},
   "outputs": [
    {
     "data": {
      "text/plain": [
       "29"
      ]
     },
     "execution_count": 16,
     "metadata": {},
     "output_type": "execute_result"
    }
   ],
   "source": [
    "len(house.y_name.unique())"
   ]
  },
  {
   "cell_type": "code",
   "execution_count": 17,
   "metadata": {},
   "outputs": [],
   "source": [
    "# Pickle dataframe\n",
    "\n",
    "with open('/Users/greenapple/project3/data/processed/house.pkl', 'wb') as f:\n",
    "    pickle.dump(house, f)"
   ]
  },
  {
   "cell_type": "code",
   "execution_count": null,
   "metadata": {},
   "outputs": [],
   "source": []
  }
 ],
 "metadata": {
  "kernelspec": {
   "display_name": "metis",
   "language": "python",
   "name": "metis"
  },
  "language_info": {
   "codemirror_mode": {
    "name": "ipython",
    "version": 3
   },
   "file_extension": ".py",
   "mimetype": "text/x-python",
   "name": "python",
   "nbconvert_exporter": "python",
   "pygments_lexer": "ipython3",
   "version": "3.7.3"
  }
 },
 "nbformat": 4,
 "nbformat_minor": 2
}
