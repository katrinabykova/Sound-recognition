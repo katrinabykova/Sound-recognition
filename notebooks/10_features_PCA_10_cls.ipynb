{
 "cells": [
  {
   "cell_type": "code",
   "execution_count": 37,
   "metadata": {
    "ExecuteTime": {
     "end_time": "2019-10-24T23:31:43.277137Z",
     "start_time": "2019-10-24T23:31:43.205067Z"
    }
   },
   "outputs": [],
   "source": [
    "import numpy as np\n",
    "import pandas as pd\n",
    "import os\n",
    "import pickle\n",
    "from sklearn.decomposition import PCA\n",
    "from sklearn.preprocessing import StandardScaler\n",
    "from sklearn.model_selection import train_test_split\n",
    "from sklearn.linear_model import LogisticRegression\n",
    "from sklearn.metrics import f1_score, accuracy_score\n",
    "from imblearn.under_sampling import RandomUnderSampler\n",
    "from imblearn.over_sampling import RandomOverSampler\n",
    "from sklearn.pipeline import make_pipeline\n",
    "from sklearn import preprocessing\n",
    "from sklearn.model_selection import cross_val_score\n",
    "from sklearn.dummy import DummyClassifier\n",
    "from sklearn.neighbors import KNeighborsClassifier\n",
    "from sklearn.naive_bayes import MultinomialNB\n",
    "from sklearn.ensemble import RandomForestClassifier\n",
    "from sklearn.ensemble import GradientBoostingClassifier\n",
    "from sklearn.model_selection import RandomizedSearchCV\n",
    "from datetime import datetime"
   ]
  },
  {
   "cell_type": "code",
   "execution_count": 2,
   "metadata": {
    "ExecuteTime": {
     "end_time": "2019-10-24T22:13:20.944198Z",
     "start_time": "2019-10-24T22:13:20.515794Z"
    }
   },
   "outputs": [],
   "source": [
    "%load_ext autoreload\n",
    "%autoreload 2"
   ]
  },
  {
   "cell_type": "code",
   "execution_count": null,
   "metadata": {},
   "outputs": [],
   "source": [
    "pip install --editable .."
   ]
  },
  {
   "cell_type": "markdown",
   "metadata": {},
   "source": [
    "## Data formatting for classification"
   ]
  },
  {
   "cell_type": "code",
   "execution_count": 3,
   "metadata": {
    "ExecuteTime": {
     "end_time": "2019-10-24T22:13:21.562319Z",
     "start_time": "2019-10-24T22:13:20.965731Z"
    }
   },
   "outputs": [],
   "source": [
    "# Unpickle data \n",
    "with open('/Users/greenapple/project3/data/processed/house_bal.pkl', 'rb') as f:\n",
    "    house_bal = pickle.load(f)"
   ]
  },
  {
   "cell_type": "code",
   "execution_count": 4,
   "metadata": {
    "ExecuteTime": {
     "end_time": "2019-10-24T22:13:22.189396Z",
     "start_time": "2019-10-24T22:13:21.603590Z"
    }
   },
   "outputs": [
    {
     "data": {
      "text/html": [
       "<div>\n",
       "<style scoped>\n",
       "    .dataframe tbody tr th:only-of-type {\n",
       "        vertical-align: middle;\n",
       "    }\n",
       "\n",
       "    .dataframe tbody tr th {\n",
       "        vertical-align: top;\n",
       "    }\n",
       "\n",
       "    .dataframe thead th {\n",
       "        text-align: right;\n",
       "    }\n",
       "</style>\n",
       "<table border=\"1\" class=\"dataframe\">\n",
       "  <thead>\n",
       "    <tr style=\"text-align: right;\">\n",
       "      <th></th>\n",
       "      <th>video_id_list</th>\n",
       "      <th>y</th>\n",
       "      <th>y_name</th>\n",
       "      <th>0</th>\n",
       "      <th>1</th>\n",
       "      <th>2</th>\n",
       "      <th>3</th>\n",
       "      <th>4</th>\n",
       "      <th>5</th>\n",
       "      <th>6</th>\n",
       "      <th>...</th>\n",
       "      <th>630</th>\n",
       "      <th>631</th>\n",
       "      <th>632</th>\n",
       "      <th>633</th>\n",
       "      <th>634</th>\n",
       "      <th>635</th>\n",
       "      <th>636</th>\n",
       "      <th>637</th>\n",
       "      <th>638</th>\n",
       "      <th>639</th>\n",
       "    </tr>\n",
       "  </thead>\n",
       "  <tbody>\n",
       "    <tr>\n",
       "      <td>5</td>\n",
       "      <td>b'--ZhevVpy1s'</td>\n",
       "      <td>375</td>\n",
       "      <td>toothbrush</td>\n",
       "      <td>117</td>\n",
       "      <td>35</td>\n",
       "      <td>163</td>\n",
       "      <td>90</td>\n",
       "      <td>198</td>\n",
       "      <td>103</td>\n",
       "      <td>63</td>\n",
       "      <td>...</td>\n",
       "      <td>0</td>\n",
       "      <td>1</td>\n",
       "      <td>202</td>\n",
       "      <td>9</td>\n",
       "      <td>116</td>\n",
       "      <td>0</td>\n",
       "      <td>247</td>\n",
       "      <td>72</td>\n",
       "      <td>44</td>\n",
       "      <td>166</td>\n",
       "    </tr>\n",
       "    <tr>\n",
       "      <td>20</td>\n",
       "      <td>b'-2hQKCE-oTI'</td>\n",
       "      <td>53</td>\n",
       "      <td>footsteps</td>\n",
       "      <td>30</td>\n",
       "      <td>162</td>\n",
       "      <td>44</td>\n",
       "      <td>7</td>\n",
       "      <td>216</td>\n",
       "      <td>116</td>\n",
       "      <td>206</td>\n",
       "      <td>...</td>\n",
       "      <td>213</td>\n",
       "      <td>109</td>\n",
       "      <td>50</td>\n",
       "      <td>88</td>\n",
       "      <td>19</td>\n",
       "      <td>46</td>\n",
       "      <td>54</td>\n",
       "      <td>154</td>\n",
       "      <td>42</td>\n",
       "      <td>211</td>\n",
       "    </tr>\n",
       "    <tr>\n",
       "      <td>28</td>\n",
       "      <td>b'-3pPrlCm6gg'</td>\n",
       "      <td>198</td>\n",
       "      <td>clarinet</td>\n",
       "      <td>179</td>\n",
       "      <td>190</td>\n",
       "      <td>122</td>\n",
       "      <td>19</td>\n",
       "      <td>0</td>\n",
       "      <td>114</td>\n",
       "      <td>255</td>\n",
       "      <td>...</td>\n",
       "      <td>58</td>\n",
       "      <td>15</td>\n",
       "      <td>207</td>\n",
       "      <td>0</td>\n",
       "      <td>108</td>\n",
       "      <td>43</td>\n",
       "      <td>97</td>\n",
       "      <td>57</td>\n",
       "      <td>42</td>\n",
       "      <td>0</td>\n",
       "    </tr>\n",
       "    <tr>\n",
       "      <td>63</td>\n",
       "      <td>b'-70wVF5u-gg'</td>\n",
       "      <td>366</td>\n",
       "      <td>chopping_food</td>\n",
       "      <td>0</td>\n",
       "      <td>114</td>\n",
       "      <td>186</td>\n",
       "      <td>34</td>\n",
       "      <td>87</td>\n",
       "      <td>250</td>\n",
       "      <td>58</td>\n",
       "      <td>...</td>\n",
       "      <td>0</td>\n",
       "      <td>122</td>\n",
       "      <td>144</td>\n",
       "      <td>63</td>\n",
       "      <td>110</td>\n",
       "      <td>255</td>\n",
       "      <td>139</td>\n",
       "      <td>138</td>\n",
       "      <td>59</td>\n",
       "      <td>154</td>\n",
       "    </tr>\n",
       "    <tr>\n",
       "      <td>82</td>\n",
       "      <td>b'-ASYwidRD7M'</td>\n",
       "      <td>43</td>\n",
       "      <td>snoring</td>\n",
       "      <td>53</td>\n",
       "      <td>100</td>\n",
       "      <td>144</td>\n",
       "      <td>84</td>\n",
       "      <td>223</td>\n",
       "      <td>68</td>\n",
       "      <td>95</td>\n",
       "      <td>...</td>\n",
       "      <td>56</td>\n",
       "      <td>78</td>\n",
       "      <td>153</td>\n",
       "      <td>65</td>\n",
       "      <td>208</td>\n",
       "      <td>207</td>\n",
       "      <td>200</td>\n",
       "      <td>255</td>\n",
       "      <td>255</td>\n",
       "      <td>66</td>\n",
       "    </tr>\n",
       "  </tbody>\n",
       "</table>\n",
       "<p>5 rows × 643 columns</p>\n",
       "</div>"
      ],
      "text/plain": [
       "     video_id_list    y         y_name    0    1    2   3    4    5    6  ...  \\\n",
       "5   b'--ZhevVpy1s'  375     toothbrush  117   35  163  90  198  103   63  ...   \n",
       "20  b'-2hQKCE-oTI'   53      footsteps   30  162   44   7  216  116  206  ...   \n",
       "28  b'-3pPrlCm6gg'  198       clarinet  179  190  122  19    0  114  255  ...   \n",
       "63  b'-70wVF5u-gg'  366  chopping_food    0  114  186  34   87  250   58  ...   \n",
       "82  b'-ASYwidRD7M'   43        snoring   53  100  144  84  223   68   95  ...   \n",
       "\n",
       "    630  631  632  633  634  635  636  637  638  639  \n",
       "5     0    1  202    9  116    0  247   72   44  166  \n",
       "20  213  109   50   88   19   46   54  154   42  211  \n",
       "28   58   15  207    0  108   43   97   57   42    0  \n",
       "63    0  122  144   63  110  255  139  138   59  154  \n",
       "82   56   78  153   65  208  207  200  255  255   66  \n",
       "\n",
       "[5 rows x 643 columns]"
      ]
     },
     "execution_count": 4,
     "metadata": {},
     "output_type": "execute_result"
    }
   ],
   "source": [
    "house_bal.head()"
   ]
  },
  {
   "cell_type": "code",
   "execution_count": 5,
   "metadata": {
    "ExecuteTime": {
     "end_time": "2019-10-24T22:13:22.536929Z",
     "start_time": "2019-10-24T22:13:22.195750Z"
    }
   },
   "outputs": [
    {
     "data": {
      "text/plain": [
       "(45717, 643)"
      ]
     },
     "execution_count": 5,
     "metadata": {},
     "output_type": "execute_result"
    }
   ],
   "source": [
    "house_bal.shape"
   ]
  },
  {
   "cell_type": "code",
   "execution_count": 6,
   "metadata": {
    "ExecuteTime": {
     "end_time": "2019-10-24T22:13:23.014076Z",
     "start_time": "2019-10-24T22:13:22.554848Z"
    }
   },
   "outputs": [
    {
     "data": {
      "text/plain": [
       "30"
      ]
     },
     "execution_count": 6,
     "metadata": {},
     "output_type": "execute_result"
    }
   ],
   "source": [
    "len(house_bal.y_name.value_counts())"
   ]
  },
  {
   "cell_type": "code",
   "execution_count": 7,
   "metadata": {
    "ExecuteTime": {
     "end_time": "2019-10-24T22:13:23.397345Z",
     "start_time": "2019-10-24T22:13:23.028598Z"
    }
   },
   "outputs": [
    {
     "data": {
      "text/plain": [
       "speech            4042\n",
       "music             3781\n",
       "laughter          3772\n",
       "snoring           3370\n",
       "vacuum_cleaner    3054\n",
       "typing            2644\n",
       "dishes_pots       2560\n",
       "frying_food       2102\n",
       "blender           1884\n",
       "toilet_flush      1882\n",
       "door              1868\n",
       "whoop             1736\n",
       "footsteps         1492\n",
       "baby_cry          1414\n",
       "screeming         1116\n",
       "whispering         972\n",
       "clarinet           960\n",
       "crying             918\n",
       "microwave          894\n",
       "television         866\n",
       "hair_dryer         772\n",
       "video_games        592\n",
       "shaving            552\n",
       "bathtab            472\n",
       "water_tap          458\n",
       "chopping_food      410\n",
       "meow               388\n",
       "dog                358\n",
       "purr               304\n",
       "toothbrush          84\n",
       "Name: y_name, dtype: int64"
      ]
     },
     "execution_count": 7,
     "metadata": {},
     "output_type": "execute_result"
    }
   ],
   "source": [
    "house_bal.y_name.value_counts()"
   ]
  },
  {
   "cell_type": "code",
   "execution_count": 8,
   "metadata": {
    "ExecuteTime": {
     "end_time": "2019-10-24T22:15:10.023755Z",
     "start_time": "2019-10-24T22:15:09.886121Z"
    }
   },
   "outputs": [],
   "source": [
    "ten_class_list = [\n",
    "    'speech',\n",
    "    'music',\n",
    "    'clarinet',\n",
    "    'water_tap',\n",
    "    'footsteps',\n",
    "    'microwave',\n",
    "    'door',\n",
    "    'blender',\n",
    "    'vacuum_cleaner',\n",
    "    'meow'\n",
    "]"
   ]
  },
  {
   "cell_type": "code",
   "execution_count": 9,
   "metadata": {
    "ExecuteTime": {
     "end_time": "2019-10-24T22:15:11.442979Z",
     "start_time": "2019-10-24T22:15:11.185327Z"
    }
   },
   "outputs": [],
   "source": [
    "house_10_classes = house_bal.loc[house_bal.y_name.isin(ten_class_list)]"
   ]
  },
  {
   "cell_type": "code",
   "execution_count": 10,
   "metadata": {
    "ExecuteTime": {
     "end_time": "2019-10-24T22:15:27.808594Z",
     "start_time": "2019-10-24T22:15:27.703806Z"
    }
   },
   "outputs": [
    {
     "data": {
      "text/plain": [
       "(18821, 643)"
      ]
     },
     "execution_count": 10,
     "metadata": {},
     "output_type": "execute_result"
    }
   ],
   "source": [
    "house_10_classes.shape"
   ]
  },
  {
   "cell_type": "code",
   "execution_count": 11,
   "metadata": {
    "ExecuteTime": {
     "end_time": "2019-10-24T22:15:47.236815Z",
     "start_time": "2019-10-24T22:15:47.092210Z"
    }
   },
   "outputs": [
    {
     "data": {
      "text/html": [
       "<div>\n",
       "<style scoped>\n",
       "    .dataframe tbody tr th:only-of-type {\n",
       "        vertical-align: middle;\n",
       "    }\n",
       "\n",
       "    .dataframe tbody tr th {\n",
       "        vertical-align: top;\n",
       "    }\n",
       "\n",
       "    .dataframe thead th {\n",
       "        text-align: right;\n",
       "    }\n",
       "</style>\n",
       "<table border=\"1\" class=\"dataframe\">\n",
       "  <thead>\n",
       "    <tr style=\"text-align: right;\">\n",
       "      <th></th>\n",
       "      <th>video_id_list</th>\n",
       "      <th>y</th>\n",
       "      <th>y_name</th>\n",
       "      <th>0</th>\n",
       "      <th>1</th>\n",
       "      <th>2</th>\n",
       "      <th>3</th>\n",
       "      <th>4</th>\n",
       "      <th>5</th>\n",
       "      <th>6</th>\n",
       "      <th>...</th>\n",
       "      <th>630</th>\n",
       "      <th>631</th>\n",
       "      <th>632</th>\n",
       "      <th>633</th>\n",
       "      <th>634</th>\n",
       "      <th>635</th>\n",
       "      <th>636</th>\n",
       "      <th>637</th>\n",
       "      <th>638</th>\n",
       "      <th>639</th>\n",
       "    </tr>\n",
       "  </thead>\n",
       "  <tbody>\n",
       "    <tr>\n",
       "      <td>20</td>\n",
       "      <td>b'-2hQKCE-oTI'</td>\n",
       "      <td>53</td>\n",
       "      <td>footsteps</td>\n",
       "      <td>30</td>\n",
       "      <td>162</td>\n",
       "      <td>44</td>\n",
       "      <td>7</td>\n",
       "      <td>216</td>\n",
       "      <td>116</td>\n",
       "      <td>206</td>\n",
       "      <td>...</td>\n",
       "      <td>213</td>\n",
       "      <td>109</td>\n",
       "      <td>50</td>\n",
       "      <td>88</td>\n",
       "      <td>19</td>\n",
       "      <td>46</td>\n",
       "      <td>54</td>\n",
       "      <td>154</td>\n",
       "      <td>42</td>\n",
       "      <td>211</td>\n",
       "    </tr>\n",
       "    <tr>\n",
       "      <td>28</td>\n",
       "      <td>b'-3pPrlCm6gg'</td>\n",
       "      <td>198</td>\n",
       "      <td>clarinet</td>\n",
       "      <td>179</td>\n",
       "      <td>190</td>\n",
       "      <td>122</td>\n",
       "      <td>19</td>\n",
       "      <td>0</td>\n",
       "      <td>114</td>\n",
       "      <td>255</td>\n",
       "      <td>...</td>\n",
       "      <td>58</td>\n",
       "      <td>15</td>\n",
       "      <td>207</td>\n",
       "      <td>0</td>\n",
       "      <td>108</td>\n",
       "      <td>43</td>\n",
       "      <td>97</td>\n",
       "      <td>57</td>\n",
       "      <td>42</td>\n",
       "      <td>0</td>\n",
       "    </tr>\n",
       "    <tr>\n",
       "      <td>112</td>\n",
       "      <td>b'-Dtir74TiUM'</td>\n",
       "      <td>137</td>\n",
       "      <td>music</td>\n",
       "      <td>171</td>\n",
       "      <td>99</td>\n",
       "      <td>67</td>\n",
       "      <td>170</td>\n",
       "      <td>122</td>\n",
       "      <td>148</td>\n",
       "      <td>53</td>\n",
       "      <td>...</td>\n",
       "      <td>2</td>\n",
       "      <td>214</td>\n",
       "      <td>45</td>\n",
       "      <td>0</td>\n",
       "      <td>0</td>\n",
       "      <td>54</td>\n",
       "      <td>160</td>\n",
       "      <td>255</td>\n",
       "      <td>109</td>\n",
       "      <td>66</td>\n",
       "    </tr>\n",
       "    <tr>\n",
       "      <td>138</td>\n",
       "      <td>b'-G_hnfp4a0M'</td>\n",
       "      <td>53</td>\n",
       "      <td>footsteps</td>\n",
       "      <td>141</td>\n",
       "      <td>93</td>\n",
       "      <td>96</td>\n",
       "      <td>107</td>\n",
       "      <td>139</td>\n",
       "      <td>0</td>\n",
       "      <td>220</td>\n",
       "      <td>...</td>\n",
       "      <td>250</td>\n",
       "      <td>104</td>\n",
       "      <td>46</td>\n",
       "      <td>0</td>\n",
       "      <td>98</td>\n",
       "      <td>12</td>\n",
       "      <td>234</td>\n",
       "      <td>61</td>\n",
       "      <td>81</td>\n",
       "      <td>133</td>\n",
       "    </tr>\n",
       "    <tr>\n",
       "      <td>150</td>\n",
       "      <td>b'-IWlQN6cfe4'</td>\n",
       "      <td>53</td>\n",
       "      <td>footsteps</td>\n",
       "      <td>78</td>\n",
       "      <td>146</td>\n",
       "      <td>188</td>\n",
       "      <td>30</td>\n",
       "      <td>200</td>\n",
       "      <td>44</td>\n",
       "      <td>120</td>\n",
       "      <td>...</td>\n",
       "      <td>130</td>\n",
       "      <td>96</td>\n",
       "      <td>33</td>\n",
       "      <td>255</td>\n",
       "      <td>83</td>\n",
       "      <td>228</td>\n",
       "      <td>123</td>\n",
       "      <td>120</td>\n",
       "      <td>58</td>\n",
       "      <td>236</td>\n",
       "    </tr>\n",
       "  </tbody>\n",
       "</table>\n",
       "<p>5 rows × 643 columns</p>\n",
       "</div>"
      ],
      "text/plain": [
       "      video_id_list    y     y_name    0    1    2    3    4    5    6  ...  \\\n",
       "20   b'-2hQKCE-oTI'   53  footsteps   30  162   44    7  216  116  206  ...   \n",
       "28   b'-3pPrlCm6gg'  198   clarinet  179  190  122   19    0  114  255  ...   \n",
       "112  b'-Dtir74TiUM'  137      music  171   99   67  170  122  148   53  ...   \n",
       "138  b'-G_hnfp4a0M'   53  footsteps  141   93   96  107  139    0  220  ...   \n",
       "150  b'-IWlQN6cfe4'   53  footsteps   78  146  188   30  200   44  120  ...   \n",
       "\n",
       "     630  631  632  633  634  635  636  637  638  639  \n",
       "20   213  109   50   88   19   46   54  154   42  211  \n",
       "28    58   15  207    0  108   43   97   57   42    0  \n",
       "112    2  214   45    0    0   54  160  255  109   66  \n",
       "138  250  104   46    0   98   12  234   61   81  133  \n",
       "150  130   96   33  255   83  228  123  120   58  236  \n",
       "\n",
       "[5 rows x 643 columns]"
      ]
     },
     "execution_count": 11,
     "metadata": {},
     "output_type": "execute_result"
    }
   ],
   "source": [
    "house_10_classes.head()"
   ]
  },
  {
   "cell_type": "code",
   "execution_count": 75,
   "metadata": {
    "ExecuteTime": {
     "end_time": "2019-10-25T04:53:42.424933Z",
     "start_time": "2019-10-25T04:53:42.333206Z"
    }
   },
   "outputs": [],
   "source": [
    "# Assign features X and target y\n",
    "X = house_10_classes[house_10_classes.columns[3:643]]\n",
    "y = house_10_classes.y_name"
   ]
  },
  {
   "cell_type": "code",
   "execution_count": 76,
   "metadata": {
    "ExecuteTime": {
     "end_time": "2019-10-25T04:53:43.035128Z",
     "start_time": "2019-10-25T04:53:42.972493Z"
    }
   },
   "outputs": [
    {
     "data": {
      "text/plain": [
       "(18821, 640)"
      ]
     },
     "execution_count": 76,
     "metadata": {},
     "output_type": "execute_result"
    }
   ],
   "source": [
    "X.shape"
   ]
  },
  {
   "cell_type": "markdown",
   "metadata": {},
   "source": [
    "## Model functions"
   ]
  },
  {
   "cell_type": "code",
   "execution_count": null,
   "metadata": {
    "ExecuteTime": {
     "end_time": "2019-10-24T21:34:51.945515Z",
     "start_time": "2019-10-24T21:34:51.852828Z"
    }
   },
   "outputs": [],
   "source": [
    "import numpy as np\n",
    "import pandas as pd\n",
    "import pickle\n",
    "import joblib\n",
    "from sklearn.linear_model import LogisticRegression\n",
    "from sklearn.neighbors import KNeighborsClassifier\n",
    "from sklearn.naive_bayes import MultinomialNB\n",
    "from sklearn import svm\n",
    "from sklearn.svm import SVC\n",
    "\n",
    "from sklearn.metrics import f1_score\n",
    "from imblearn.under_sampling import RandomUnderSampler\n",
    "from imblearn.over_sampling import RandomOverSampler\n",
    "\n",
    "from imblearn.pipeline import Pipeline\n",
    "from sklearn import preprocessing\n",
    "from sklearn.model_selection import cross_val_score, GridSearchCV\n",
    "from sklearn.model_selection import RandomizedSearchCV\n",
    "import sklearn\n",
    "from datetime import datetime\n",
    "\n",
    "# Function for finding the best parameters\n",
    "def train_transform_fit_time(model,\n",
    "                   param_distributions,\n",
    "                   sampler,          \n",
    "                   transformer,\n",
    "                   X_train,\n",
    "                   X_test,\n",
    "                   y_train,\n",
    "                   y_test,\n",
    "                   CV):\n",
    "\n",
    "    '''Function searches for the best model paramenters through a cross-validation on the train set\n",
    "    and returns results of test set fit.\n",
    "\n",
    "    Args:\n",
    "        model - supervised learning classifier\n",
    "        param_grid (dict) - set of model specific parameters\n",
    "        transformer - data transformer\n",
    "        X_train (DataFrame) - training data set\n",
    "        y_train (DataFrame) - training target set\n",
    "        X_test (DataFrame) - test data set\n",
    "        y_test (DataFrame) - test traget set\n",
    "        CV (int) - number of cross-validation folds\n",
    "\n",
    "    Returns:\n",
    "        dictionary with the following keys:\n",
    "            train_score\n",
    "            test_score\n",
    "            time (sec) - how long this function runs for\n",
    "            time_best_fit (sec)\n",
    "            params\n",
    "            estimator\n",
    "            test_proba\n",
    "            y_hat\n",
    "            all_scores\n",
    "        model\n",
    "    '''\n",
    "    # Time the function: record start time\n",
    "    start_time = datetime.now()\n",
    "\n",
    "    pipe = Pipeline([('sampler', sampler), ('transformer', transformer), ('model', model)])\n",
    "\n",
    "    # Parameter grid\n",
    "    grid = RandomizedSearchCV(pipe, param_distributions, cv=CV, scoring='f1_micro', refit=True, n_jobs=-1)\n",
    "    grid.fit(X_train, y_train)\n",
    "\n",
    "    # Time the function: record end time\n",
    "    end_time = datetime.now()\n",
    "    time = (end_time - start_time).total_seconds()\n",
    "\n",
    "    # Parameters and scores\n",
    "    params_scores_pred = {\n",
    "        'best_train_score':grid.best_score_,\n",
    "        'best_test_score': grid.score(X_test, y_test),\n",
    "        'time_sec': time,\n",
    "        'time_best_fit_sec': time_best_fit(grid, X_train, y_train),\n",
    "        'best_params':grid.best_params_,\n",
    "        'best_estimator':grid.best_estimator_,\n",
    "        'best_test_proba': grid.predict_proba(X_test),\n",
    "        'best_y_hat': grid.predict(X_test),\n",
    "        'all_scores': grid.cv_results_\n",
    "\n",
    "    }\n",
    "\n",
    "    return params_scores_pred, grid\n",
    "\n",
    "\n",
    "# Function for estimating the run time for the best fit\n",
    "def time_best_fit(grid, X_train, y_train):\n",
    "\n",
    "    '''Function returns the time of fit for the best parameters found by GridSearchCV.\n",
    "\n",
    "    Args:\n",
    "       best model from train_fit_time() - grid.\n",
    "\n",
    "    Returns:\n",
    "       time of fit in seconds.\n",
    "    '''\n",
    "\n",
    "    # Time the function: record start time\n",
    "    start_time = datetime.now()\n",
    "\n",
    "    pipe = grid.best_estimator_\n",
    "\n",
    "    # Time the function: record start time\n",
    "    start_time = datetime.now()\n",
    "\n",
    "    # Fit\n",
    "    pipe.fit(X_train, y_train)\n",
    "\n",
    "    # Time the function: record end time\n",
    "    end_time = datetime.now()\n",
    "    fit_time = (end_time - start_time).total_seconds()\n",
    "\n",
    "    if int(fit_time) < 5.0:\n",
    "        time = 0\n",
    "        for i in range(4):\n",
    "            start_time_ = datetime.now()\n",
    "            pipe.fit(X_train, y_train)\n",
    "            start_time_ = datetime.now()\n",
    "            time = (end_time - start_time).total_seconds()\n",
    "            time += time\n",
    "        fit_time = (time + fit_time)/5\n",
    "\n",
    "    return fit_time\n"
   ]
  },
  {
   "cell_type": "markdown",
   "metadata": {},
   "source": [
    "## PCA to reduce the number of features"
   ]
  },
  {
   "cell_type": "code",
   "execution_count": 61,
   "metadata": {
    "ExecuteTime": {
     "end_time": "2019-10-25T00:04:45.107614Z",
     "start_time": "2019-10-25T00:04:45.039286Z"
    }
   },
   "outputs": [],
   "source": [
    "# Function to make train/test sets for different number of features\n",
    "def feature_pca(X, n_features_to_keep):\n",
    "    # Reduce the number of features\n",
    "    pca = PCA(n_components=n_features_to_keep)\n",
    "    X_pca_array = pca.fit_transform(X)\n",
    "    X_pca = pd.DataFrame(X_pca_array)\n",
    "    X_pca.reset_index(drop=True, inplace=True)\n",
    "    \n",
    "    # Split data into train and test sets\n",
    "    X_train, X_test, y_train, y_test = train_test_split(X_pca, y, test_size=0.2, random_state=3) \n",
    "    \n",
    "    return X_train, X_test, y_train, y_test"
   ]
  },
  {
   "cell_type": "code",
   "execution_count": 83,
   "metadata": {
    "ExecuteTime": {
     "end_time": "2019-10-25T05:49:49.913583Z",
     "start_time": "2019-10-25T05:49:48.088228Z"
    }
   },
   "outputs": [
    {
     "data": {
      "text/html": [
       "<div>\n",
       "<style scoped>\n",
       "    .dataframe tbody tr th:only-of-type {\n",
       "        vertical-align: middle;\n",
       "    }\n",
       "\n",
       "    .dataframe tbody tr th {\n",
       "        vertical-align: top;\n",
       "    }\n",
       "\n",
       "    .dataframe thead th {\n",
       "        text-align: right;\n",
       "    }\n",
       "</style>\n",
       "<table border=\"1\" class=\"dataframe\">\n",
       "  <thead>\n",
       "    <tr style=\"text-align: right;\">\n",
       "      <th></th>\n",
       "      <th>0</th>\n",
       "      <th>1</th>\n",
       "      <th>2</th>\n",
       "      <th>3</th>\n",
       "      <th>4</th>\n",
       "      <th>5</th>\n",
       "      <th>6</th>\n",
       "      <th>7</th>\n",
       "      <th>8</th>\n",
       "      <th>9</th>\n",
       "      <th>...</th>\n",
       "      <th>630</th>\n",
       "      <th>631</th>\n",
       "      <th>632</th>\n",
       "      <th>633</th>\n",
       "      <th>634</th>\n",
       "      <th>635</th>\n",
       "      <th>636</th>\n",
       "      <th>637</th>\n",
       "      <th>638</th>\n",
       "      <th>639</th>\n",
       "    </tr>\n",
       "  </thead>\n",
       "  <tbody>\n",
       "    <tr>\n",
       "      <td>0</td>\n",
       "      <td>-216.390736</td>\n",
       "      <td>151.485092</td>\n",
       "      <td>147.345767</td>\n",
       "      <td>104.474544</td>\n",
       "      <td>-342.600308</td>\n",
       "      <td>-391.360295</td>\n",
       "      <td>312.139218</td>\n",
       "      <td>-130.488243</td>\n",
       "      <td>119.761742</td>\n",
       "      <td>-124.492763</td>\n",
       "      <td>...</td>\n",
       "      <td>-10.374244</td>\n",
       "      <td>0.696315</td>\n",
       "      <td>6.183557</td>\n",
       "      <td>-18.470741</td>\n",
       "      <td>16.830933</td>\n",
       "      <td>4.710431</td>\n",
       "      <td>7.356244</td>\n",
       "      <td>3.600197</td>\n",
       "      <td>13.083149</td>\n",
       "      <td>8.662261</td>\n",
       "    </tr>\n",
       "    <tr>\n",
       "      <td>1</td>\n",
       "      <td>-282.459831</td>\n",
       "      <td>-727.340211</td>\n",
       "      <td>-372.113901</td>\n",
       "      <td>-244.315453</td>\n",
       "      <td>585.862596</td>\n",
       "      <td>-1.749334</td>\n",
       "      <td>306.471520</td>\n",
       "      <td>-29.291852</td>\n",
       "      <td>4.067889</td>\n",
       "      <td>143.517473</td>\n",
       "      <td>...</td>\n",
       "      <td>-2.956251</td>\n",
       "      <td>-28.249026</td>\n",
       "      <td>13.016194</td>\n",
       "      <td>13.677100</td>\n",
       "      <td>26.312044</td>\n",
       "      <td>2.967112</td>\n",
       "      <td>0.803673</td>\n",
       "      <td>8.173672</td>\n",
       "      <td>-22.091548</td>\n",
       "      <td>17.835097</td>\n",
       "    </tr>\n",
       "    <tr>\n",
       "      <td>2</td>\n",
       "      <td>-350.770959</td>\n",
       "      <td>-26.848373</td>\n",
       "      <td>-145.423025</td>\n",
       "      <td>-73.494471</td>\n",
       "      <td>-124.445394</td>\n",
       "      <td>90.895195</td>\n",
       "      <td>94.124605</td>\n",
       "      <td>-123.658668</td>\n",
       "      <td>127.845924</td>\n",
       "      <td>-106.528014</td>\n",
       "      <td>...</td>\n",
       "      <td>-7.289957</td>\n",
       "      <td>10.834340</td>\n",
       "      <td>7.761291</td>\n",
       "      <td>-22.941221</td>\n",
       "      <td>9.673474</td>\n",
       "      <td>5.618488</td>\n",
       "      <td>5.172538</td>\n",
       "      <td>-3.619531</td>\n",
       "      <td>20.935131</td>\n",
       "      <td>1.791905</td>\n",
       "    </tr>\n",
       "    <tr>\n",
       "      <td>3</td>\n",
       "      <td>-349.792098</td>\n",
       "      <td>46.444614</td>\n",
       "      <td>17.613245</td>\n",
       "      <td>-147.349085</td>\n",
       "      <td>-80.769972</td>\n",
       "      <td>105.384332</td>\n",
       "      <td>7.734681</td>\n",
       "      <td>22.069538</td>\n",
       "      <td>15.855357</td>\n",
       "      <td>240.826117</td>\n",
       "      <td>...</td>\n",
       "      <td>-12.461335</td>\n",
       "      <td>-0.231591</td>\n",
       "      <td>-15.641041</td>\n",
       "      <td>-28.650872</td>\n",
       "      <td>-7.165625</td>\n",
       "      <td>4.854420</td>\n",
       "      <td>16.927042</td>\n",
       "      <td>13.724127</td>\n",
       "      <td>13.658602</td>\n",
       "      <td>-9.519648</td>\n",
       "    </tr>\n",
       "    <tr>\n",
       "      <td>4</td>\n",
       "      <td>-59.982535</td>\n",
       "      <td>-69.612600</td>\n",
       "      <td>77.240508</td>\n",
       "      <td>159.980557</td>\n",
       "      <td>-188.163116</td>\n",
       "      <td>-383.267173</td>\n",
       "      <td>-45.910100</td>\n",
       "      <td>-43.300374</td>\n",
       "      <td>-234.053120</td>\n",
       "      <td>59.314028</td>\n",
       "      <td>...</td>\n",
       "      <td>-11.649428</td>\n",
       "      <td>11.193187</td>\n",
       "      <td>39.378961</td>\n",
       "      <td>-20.013109</td>\n",
       "      <td>23.820985</td>\n",
       "      <td>-26.138539</td>\n",
       "      <td>-3.225318</td>\n",
       "      <td>1.903101</td>\n",
       "      <td>-1.054513</td>\n",
       "      <td>0.496201</td>\n",
       "    </tr>\n",
       "    <tr>\n",
       "      <td>...</td>\n",
       "      <td>...</td>\n",
       "      <td>...</td>\n",
       "      <td>...</td>\n",
       "      <td>...</td>\n",
       "      <td>...</td>\n",
       "      <td>...</td>\n",
       "      <td>...</td>\n",
       "      <td>...</td>\n",
       "      <td>...</td>\n",
       "      <td>...</td>\n",
       "      <td>...</td>\n",
       "      <td>...</td>\n",
       "      <td>...</td>\n",
       "      <td>...</td>\n",
       "      <td>...</td>\n",
       "      <td>...</td>\n",
       "      <td>...</td>\n",
       "      <td>...</td>\n",
       "      <td>...</td>\n",
       "      <td>...</td>\n",
       "      <td>...</td>\n",
       "    </tr>\n",
       "    <tr>\n",
       "      <td>18816</td>\n",
       "      <td>-184.888781</td>\n",
       "      <td>-494.414589</td>\n",
       "      <td>-181.743016</td>\n",
       "      <td>-109.231470</td>\n",
       "      <td>232.313158</td>\n",
       "      <td>136.166615</td>\n",
       "      <td>86.374646</td>\n",
       "      <td>24.618947</td>\n",
       "      <td>23.699911</td>\n",
       "      <td>-138.821079</td>\n",
       "      <td>...</td>\n",
       "      <td>-31.574214</td>\n",
       "      <td>-39.267436</td>\n",
       "      <td>-9.649099</td>\n",
       "      <td>12.701127</td>\n",
       "      <td>-9.580996</td>\n",
       "      <td>22.236308</td>\n",
       "      <td>-33.334869</td>\n",
       "      <td>1.861903</td>\n",
       "      <td>6.548398</td>\n",
       "      <td>-17.600323</td>\n",
       "    </tr>\n",
       "    <tr>\n",
       "      <td>18817</td>\n",
       "      <td>792.548230</td>\n",
       "      <td>191.903215</td>\n",
       "      <td>-62.758092</td>\n",
       "      <td>-617.006182</td>\n",
       "      <td>-29.457242</td>\n",
       "      <td>206.150293</td>\n",
       "      <td>280.795195</td>\n",
       "      <td>-485.428548</td>\n",
       "      <td>-12.758854</td>\n",
       "      <td>-146.128822</td>\n",
       "      <td>...</td>\n",
       "      <td>-0.079245</td>\n",
       "      <td>1.475288</td>\n",
       "      <td>2.173309</td>\n",
       "      <td>-3.565749</td>\n",
       "      <td>-6.451635</td>\n",
       "      <td>-9.079809</td>\n",
       "      <td>-8.821101</td>\n",
       "      <td>6.982047</td>\n",
       "      <td>-6.271389</td>\n",
       "      <td>14.004828</td>\n",
       "    </tr>\n",
       "    <tr>\n",
       "      <td>18818</td>\n",
       "      <td>-517.448188</td>\n",
       "      <td>-965.371829</td>\n",
       "      <td>-552.548039</td>\n",
       "      <td>-286.082296</td>\n",
       "      <td>663.275875</td>\n",
       "      <td>-256.024653</td>\n",
       "      <td>211.058585</td>\n",
       "      <td>46.495779</td>\n",
       "      <td>161.879459</td>\n",
       "      <td>-288.185975</td>\n",
       "      <td>...</td>\n",
       "      <td>-3.746359</td>\n",
       "      <td>9.326492</td>\n",
       "      <td>-16.331444</td>\n",
       "      <td>20.339983</td>\n",
       "      <td>37.945731</td>\n",
       "      <td>-4.857753</td>\n",
       "      <td>-25.930918</td>\n",
       "      <td>6.985149</td>\n",
       "      <td>-17.684437</td>\n",
       "      <td>-27.133329</td>\n",
       "    </tr>\n",
       "    <tr>\n",
       "      <td>18819</td>\n",
       "      <td>-342.210246</td>\n",
       "      <td>154.148629</td>\n",
       "      <td>-206.866981</td>\n",
       "      <td>-74.439436</td>\n",
       "      <td>-150.670894</td>\n",
       "      <td>-24.381451</td>\n",
       "      <td>-77.557270</td>\n",
       "      <td>-161.241740</td>\n",
       "      <td>98.432099</td>\n",
       "      <td>301.179625</td>\n",
       "      <td>...</td>\n",
       "      <td>1.693250</td>\n",
       "      <td>-0.259967</td>\n",
       "      <td>2.345910</td>\n",
       "      <td>1.146922</td>\n",
       "      <td>11.202428</td>\n",
       "      <td>12.075994</td>\n",
       "      <td>-2.555898</td>\n",
       "      <td>4.399251</td>\n",
       "      <td>2.079172</td>\n",
       "      <td>2.010926</td>\n",
       "    </tr>\n",
       "    <tr>\n",
       "      <td>18820</td>\n",
       "      <td>145.474683</td>\n",
       "      <td>35.051842</td>\n",
       "      <td>244.205530</td>\n",
       "      <td>331.911515</td>\n",
       "      <td>218.492201</td>\n",
       "      <td>-824.030113</td>\n",
       "      <td>-231.757819</td>\n",
       "      <td>-86.262406</td>\n",
       "      <td>-23.316019</td>\n",
       "      <td>114.358045</td>\n",
       "      <td>...</td>\n",
       "      <td>7.517762</td>\n",
       "      <td>-12.702446</td>\n",
       "      <td>-10.412447</td>\n",
       "      <td>12.330123</td>\n",
       "      <td>-9.060134</td>\n",
       "      <td>8.567308</td>\n",
       "      <td>-10.133743</td>\n",
       "      <td>15.394196</td>\n",
       "      <td>-1.297231</td>\n",
       "      <td>2.839124</td>\n",
       "    </tr>\n",
       "  </tbody>\n",
       "</table>\n",
       "<p>18821 rows × 640 columns</p>\n",
       "</div>"
      ],
      "text/plain": [
       "              0           1           2           3           4           5    \\\n",
       "0     -216.390736  151.485092  147.345767  104.474544 -342.600308 -391.360295   \n",
       "1     -282.459831 -727.340211 -372.113901 -244.315453  585.862596   -1.749334   \n",
       "2     -350.770959  -26.848373 -145.423025  -73.494471 -124.445394   90.895195   \n",
       "3     -349.792098   46.444614   17.613245 -147.349085  -80.769972  105.384332   \n",
       "4      -59.982535  -69.612600   77.240508  159.980557 -188.163116 -383.267173   \n",
       "...           ...         ...         ...         ...         ...         ...   \n",
       "18816 -184.888781 -494.414589 -181.743016 -109.231470  232.313158  136.166615   \n",
       "18817  792.548230  191.903215  -62.758092 -617.006182  -29.457242  206.150293   \n",
       "18818 -517.448188 -965.371829 -552.548039 -286.082296  663.275875 -256.024653   \n",
       "18819 -342.210246  154.148629 -206.866981  -74.439436 -150.670894  -24.381451   \n",
       "18820  145.474683   35.051842  244.205530  331.911515  218.492201 -824.030113   \n",
       "\n",
       "              6           7           8           9    ...        630  \\\n",
       "0      312.139218 -130.488243  119.761742 -124.492763  ... -10.374244   \n",
       "1      306.471520  -29.291852    4.067889  143.517473  ...  -2.956251   \n",
       "2       94.124605 -123.658668  127.845924 -106.528014  ...  -7.289957   \n",
       "3        7.734681   22.069538   15.855357  240.826117  ... -12.461335   \n",
       "4      -45.910100  -43.300374 -234.053120   59.314028  ... -11.649428   \n",
       "...           ...         ...         ...         ...  ...        ...   \n",
       "18816   86.374646   24.618947   23.699911 -138.821079  ... -31.574214   \n",
       "18817  280.795195 -485.428548  -12.758854 -146.128822  ...  -0.079245   \n",
       "18818  211.058585   46.495779  161.879459 -288.185975  ...  -3.746359   \n",
       "18819  -77.557270 -161.241740   98.432099  301.179625  ...   1.693250   \n",
       "18820 -231.757819  -86.262406  -23.316019  114.358045  ...   7.517762   \n",
       "\n",
       "             631        632        633        634        635        636  \\\n",
       "0       0.696315   6.183557 -18.470741  16.830933   4.710431   7.356244   \n",
       "1     -28.249026  13.016194  13.677100  26.312044   2.967112   0.803673   \n",
       "2      10.834340   7.761291 -22.941221   9.673474   5.618488   5.172538   \n",
       "3      -0.231591 -15.641041 -28.650872  -7.165625   4.854420  16.927042   \n",
       "4      11.193187  39.378961 -20.013109  23.820985 -26.138539  -3.225318   \n",
       "...          ...        ...        ...        ...        ...        ...   \n",
       "18816 -39.267436  -9.649099  12.701127  -9.580996  22.236308 -33.334869   \n",
       "18817   1.475288   2.173309  -3.565749  -6.451635  -9.079809  -8.821101   \n",
       "18818   9.326492 -16.331444  20.339983  37.945731  -4.857753 -25.930918   \n",
       "18819  -0.259967   2.345910   1.146922  11.202428  12.075994  -2.555898   \n",
       "18820 -12.702446 -10.412447  12.330123  -9.060134   8.567308 -10.133743   \n",
       "\n",
       "             637        638        639  \n",
       "0       3.600197  13.083149   8.662261  \n",
       "1       8.173672 -22.091548  17.835097  \n",
       "2      -3.619531  20.935131   1.791905  \n",
       "3      13.724127  13.658602  -9.519648  \n",
       "4       1.903101  -1.054513   0.496201  \n",
       "...          ...        ...        ...  \n",
       "18816   1.861903   6.548398 -17.600323  \n",
       "18817   6.982047  -6.271389  14.004828  \n",
       "18818   6.985149 -17.684437 -27.133329  \n",
       "18819   4.399251   2.079172   2.010926  \n",
       "18820  15.394196  -1.297231   2.839124  \n",
       "\n",
       "[18821 rows x 640 columns]"
      ]
     },
     "execution_count": 83,
     "metadata": {},
     "output_type": "execute_result"
    }
   ],
   "source": [
    "# MAke PCA features\n",
    "pca = PCA(n_components=640)\n",
    "X_pca_array = pca.fit_transform(X)\n",
    "X_pca = pd.DataFrame(X_pca_array)\n",
    "X_pca.reset_index(drop=True, inplace=True)\n",
    "X_pca"
   ]
  },
  {
   "cell_type": "code",
   "execution_count": 98,
   "metadata": {
    "ExecuteTime": {
     "end_time": "2019-10-25T15:57:26.446011Z",
     "start_time": "2019-10-25T15:57:26.383469Z"
    }
   },
   "outputs": [],
   "source": [
    "# Function returns F1 score for a given model and X/y set\n",
    "def model_score(model):\n",
    "    model.fit(X_train, y_train)\n",
    "    \n",
    "    y_hat = model.predict(X_test)\n",
    "    f1_test = f1_score(y_test, y_hat, average='micro')\n",
    "    \n",
    "    \n",
    "    y_hat_train = model.predict(X_train)\n",
    "    f1_train = f1_score(y_train, y_hat_train, average='micro')\n",
    "    return f1_test, f1_train"
   ]
  },
  {
   "cell_type": "code",
   "execution_count": 107,
   "metadata": {
    "ExecuteTime": {
     "end_time": "2019-10-25T17:19:40.284829Z",
     "start_time": "2019-10-25T17:19:40.186965Z"
    }
   },
   "outputs": [],
   "source": [
    "# Reassign features X and target y\n",
    "X = house_10_classes[house_10_classes.columns[3:643]]\n",
    "y = house_10_classes.y_name"
   ]
  },
  {
   "cell_type": "code",
   "execution_count": 108,
   "metadata": {
    "ExecuteTime": {
     "end_time": "2019-10-25T17:29:32.332683Z",
     "start_time": "2019-10-25T17:19:41.762817Z"
    }
   },
   "outputs": [],
   "source": [
    "# Compare F1 scores for different number of features no PCA\n",
    "model = RandomForestClassifier(n_estimators=100)\n",
    "f1_test_ = {}\n",
    "f1_train_ = {}\n",
    "\n",
    "for i in list(range(20, 641, 20)):\n",
    "    X_ = X[X.columns[:i]]\n",
    "    \n",
    "    # Split data into train and test sets\n",
    "    X_train, X_test, y_train, y_test = train_test_split(X_, y, test_size=0.2, random_state=3) \n",
    "    \n",
    "    # oversample\n",
    "    transformer = RandomOverSampler(random_state=3, sampling_strategy='minority')\n",
    "    X_train, y_train = transformer.fit_resample(X_train, y_train)\n",
    "    \n",
    "    # return test f1 score\n",
    "    f1_test, f1_train = model_score(model)\n",
    "    \n",
    "    f1_test_[i] = f1_test\n",
    "    f1_train_[i] = f1_train"
   ]
  },
  {
   "cell_type": "code",
   "execution_count": 109,
   "metadata": {
    "ExecuteTime": {
     "end_time": "2019-10-25T17:29:32.601474Z",
     "start_time": "2019-10-25T17:29:32.336261Z"
    }
   },
   "outputs": [
    {
     "data": {
      "text/plain": [
       "<matplotlib.axes._subplots.AxesSubplot at 0x127cc0588>"
      ]
     },
     "execution_count": 109,
     "metadata": {},
     "output_type": "execute_result"
    },
    {
     "data": {
      "image/png": "[encoded data removed]",
      "text/plain": [
       "<Figure size 432x288 with 1 Axes>"
      ]
     },
     "metadata": {
      "needs_background": "light"
     },
     "output_type": "display_data"
    }
   ],
   "source": [
    "pd.Series(f1_test_).plot()"
   ]
  },
  {
   "cell_type": "code",
   "execution_count": 110,
   "metadata": {
    "ExecuteTime": {
     "end_time": "2019-10-25T17:29:33.001968Z",
     "start_time": "2019-10-25T17:29:32.605047Z"
    }
   },
   "outputs": [
    {
     "data": {
      "text/plain": [
       "<matplotlib.axes._subplots.AxesSubplot at 0x113278320>"
      ]
     },
     "execution_count": 110,
     "metadata": {},
     "output_type": "execute_result"
    },
    {
     "data": {
      "image/png": "[encoded data removed]",
      "text/plain": [
       "<Figure size 432x288 with 1 Axes>"
      ]
     },
     "metadata": {
      "needs_background": "light"
     },
     "output_type": "display_data"
    }
   ],
   "source": [
    "pd.Series(f1_train_).plot()"
   ]
  },
  {
   "cell_type": "code",
   "execution_count": 100,
   "metadata": {
    "ExecuteTime": {
     "end_time": "2019-10-25T16:25:05.779121Z",
     "start_time": "2019-10-25T16:08:35.053384Z"
    }
   },
   "outputs": [],
   "source": [
    "# Compare F1 scores for different number of features after PCA\n",
    "model = RandomForestClassifier(n_estimators=100)\n",
    "f1_test_psa_ = {}\n",
    "f1_train_psa_ = {}\n",
    "\n",
    "for i in list(range(20, 641, 20)):\n",
    "    X = X_pca[X_pca.columns[:i]]\n",
    "    \n",
    "    # Split data into train and test sets\n",
    "    X_train, X_test, y_train, y_test = train_test_split(X, y, test_size=0.2, random_state=3) \n",
    "    \n",
    "    # oversample\n",
    "    transformer = RandomOverSampler(random_state=3, sampling_strategy='minority')\n",
    "    X_train, y_train = transformer.fit_resample(X_train, y_train)\n",
    "    \n",
    "    # return test f1 score\n",
    "    f1_test, f1_train = model_score(model)\n",
    "    \n",
    "    f1_test_psa_[i] = f1_test\n",
    "    f1_train_psa_[i] = f1_train"
   ]
  },
  {
   "cell_type": "code",
   "execution_count": 102,
   "metadata": {
    "ExecuteTime": {
     "end_time": "2019-10-25T16:55:03.340170Z",
     "start_time": "2019-10-25T16:55:03.063286Z"
    }
   },
   "outputs": [
    {
     "data": {
      "text/plain": [
       "<matplotlib.axes._subplots.AxesSubplot at 0x152585c18>"
      ]
     },
     "execution_count": 102,
     "metadata": {},
     "output_type": "execute_result"
    },
    {
     "data": {
      "image/png": "[encoded data removed]",
      "text/plain": [
       "<Figure size 432x288 with 1 Axes>"
      ]
     },
     "metadata": {
      "needs_background": "light"
     },
     "output_type": "display_data"
    }
   ],
   "source": [
    "pd.Series(f1_test_psa_).plot()\n"
   ]
  },
  {
   "cell_type": "code",
   "execution_count": 103,
   "metadata": {
    "ExecuteTime": {
     "end_time": "2019-10-25T16:55:06.986543Z",
     "start_time": "2019-10-25T16:55:06.684859Z"
    }
   },
   "outputs": [
    {
     "data": {
      "text/plain": [
       "<matplotlib.axes._subplots.AxesSubplot at 0x14ca18160>"
      ]
     },
     "execution_count": 103,
     "metadata": {},
     "output_type": "execute_result"
    },
    {
     "data": {
      "image/png": "[encoded data removed]",
      "text/plain": [
       "<Figure size 432x288 with 1 Axes>"
      ]
     },
     "metadata": {
      "needs_background": "light"
     },
     "output_type": "display_data"
    }
   ],
   "source": [
    "pd.Series(f1_train_psa_).plot()"
   ]
  },
  {
   "cell_type": "code",
   "execution_count": 86,
   "metadata": {
    "ExecuteTime": {
     "end_time": "2019-10-25T13:20:51.777063Z",
     "start_time": "2019-10-25T13:20:51.495305Z"
    }
   },
   "outputs": [],
   "source": [
    "# Reassign features X and target y\n",
    "X = house_10_classes[house_10_classes.columns[3:643]]\n",
    "y = house_10_classes.y_name"
   ]
  },
  {
   "cell_type": "code",
   "execution_count": 92,
   "metadata": {
    "ExecuteTime": {
     "end_time": "2019-10-25T14:31:58.199013Z",
     "start_time": "2019-10-25T14:31:58.117963Z"
    }
   },
   "outputs": [
    {
     "data": {
      "text/plain": [
       "(18821, 640)"
      ]
     },
     "execution_count": 92,
     "metadata": {},
     "output_type": "execute_result"
    }
   ],
   "source": [
    "X.shape"
   ]
  },
  {
   "cell_type": "code",
   "execution_count": 95,
   "metadata": {
    "ExecuteTime": {
     "end_time": "2019-10-25T14:43:35.712965Z",
     "start_time": "2019-10-25T14:34:29.877111Z"
    }
   },
   "outputs": [],
   "source": [
    "# Compare F1 scores for different number of features no PCA\n",
    "model = RandomForestClassifier(n_estimators=100)\n",
    "f1_test_psa_ = {}\n",
    "f1_train_psa_ = {}\n",
    "\n",
    "for i in list(range(20, 641, 20)):\n",
    "    X_ = X[X.columns[:i]]\n",
    "    \n",
    "    # Split data into train and test sets\n",
    "    X_train, X_test, y_train, y_test = train_test_split(X, y, test_size=0.2, random_state=3) \n",
    "    \n",
    "    # oversample\n",
    "    transformer = RandomOverSampler(random_state=3, sampling_strategy='minority')\n",
    "    X_train, y_train = transformer.fit_resample(X_train, y_train)\n",
    "    \n",
    "    # return test f1 score\n",
    "    f1_test, f1_train = model_score(model)\n",
    "    \n",
    "    f1_test_psa_[i] = f1_test\n",
    "    f1_train_psa_[i] = f1_train"
   ]
  },
  {
   "cell_type": "code",
   "execution_count": 96,
   "metadata": {
    "ExecuteTime": {
     "end_time": "2019-10-25T14:44:39.335150Z",
     "start_time": "2019-10-25T14:44:39.078581Z"
    },
    "collapsed": true
   },
   "outputs": [
    {
     "data": {
      "text/plain": [
       "{20: 0.6353253652058433,\n",
       " 40: 0.651527224435591,\n",
       " 60: 0.6557768924302789,\n",
       " 80: 0.652324037184595,\n",
       " 100: 0.6552456839309428,\n",
       " 120: 0.6560424966799469,\n",
       " 140: 0.6714475431606906,\n",
       " 160: 0.6828685258964143,\n",
       " 180: 0.6855245683930943,\n",
       " 200: 0.6815405046480744,\n",
       " 220: 0.6799468791500664,\n",
       " 240: 0.6767596281540504,\n",
       " 260: 0.6807436918990704,\n",
       " 280: 0.6895086321381142,\n",
       " 300: 0.6884462151394423,\n",
       " 320: 0.6911022576361222,\n",
       " 340: 0.6972111553784861,\n",
       " 360: 0.6889774236387782,\n",
       " 380: 0.6892430278884463,\n",
       " 400: 0.6911022576361222,\n",
       " 420: 0.6876494023904383,\n",
       " 440: 0.6911022576361222,\n",
       " 460: 0.6945551128818062,\n",
       " 480: 0.6945551128818062,\n",
       " 500: 0.6913678618857901,\n",
       " 520: 0.6942895086321381,\n",
       " 540: 0.69535192563081,\n",
       " 560: 0.699867197875166,\n",
       " 580: 0.69667994687915,\n",
       " 600: 0.6918990703851262,\n",
       " 620: 0.7033200531208499,\n",
       " 640: 0.6918990703851262}"
      ]
     },
     "execution_count": 96,
     "metadata": {},
     "output_type": "execute_result"
    }
   ],
   "source": [
    "results_no_pca"
   ]
  },
  {
   "cell_type": "code",
   "execution_count": 97,
   "metadata": {
    "ExecuteTime": {
     "end_time": "2019-10-25T14:44:45.159051Z",
     "start_time": "2019-10-25T14:44:44.682183Z"
    }
   },
   "outputs": [
    {
     "data": {
      "text/plain": [
       "<matplotlib.axes._subplots.AxesSubplot at 0x1525cdf60>"
      ]
     },
     "execution_count": 97,
     "metadata": {},
     "output_type": "execute_result"
    },
    {
     "data": {
      "image/png": "[encoded data removed]",
      "text/plain": [
       "<Figure size 432x288 with 1 Axes>"
      ]
     },
     "metadata": {
      "needs_background": "light"
     },
     "output_type": "display_data"
    }
   ],
   "source": [
    "pd.Series(results_no_pca).plot()"
   ]
  },
  {
   "cell_type": "code",
   "execution_count": 66,
   "metadata": {
    "ExecuteTime": {
     "end_time": "2019-10-25T04:16:19.897089Z",
     "start_time": "2019-10-25T04:16:19.836477Z"
    }
   },
   "outputs": [],
   "source": [
    "results_fldr = '/Users/greenapple/project3/results'"
   ]
  },
  {
   "cell_type": "code",
   "execution_count": 69,
   "metadata": {
    "ExecuteTime": {
     "end_time": "2019-10-25T04:19:16.982046Z",
     "start_time": "2019-10-25T04:19:16.901789Z"
    }
   },
   "outputs": [],
   "source": [
    "pickling_in = open(os.path.join(results_fldr, 'pca_RF_results.pkl'), 'wb')\n",
    "pickle.dump(results, pickling_in)"
   ]
  },
  {
   "cell_type": "code",
   "execution_count": 71,
   "metadata": {
    "ExecuteTime": {
     "end_time": "2019-10-25T04:19:51.985977Z",
     "start_time": "2019-10-25T04:19:51.893851Z"
    }
   },
   "outputs": [],
   "source": [
    "pickling_out = open(os.path.join(results_fldr, 'pca_RF_results.pkl'), 'rb')\n",
    "pca_RF_results = pickle.load(pickling_out)"
   ]
  },
  {
   "cell_type": "code",
   "execution_count": 72,
   "metadata": {
    "ExecuteTime": {
     "end_time": "2019-10-25T04:20:02.232372Z",
     "start_time": "2019-10-25T04:20:02.165371Z"
    }
   },
   "outputs": [
    {
     "data": {
      "text/plain": [
       "{20: 0.6552456839309428,\n",
       " 40: 0.6881806108897742,\n",
       " 60: 0.7027888446215139,\n",
       " 80: 0.699867197875166,\n",
       " 100: 0.702523240371846,\n",
       " 120: 0.6950863213811421,\n",
       " 140: 0.6921646746347941,\n",
       " 160: 0.6969455511288181,\n",
       " 180: 0.6937583001328022,\n",
       " 200: 0.6863213811420983,\n",
       " 220: 0.6818061088977424,\n",
       " 240: 0.6815405046480744,\n",
       " 260: 0.6828685258964143,\n",
       " 280: 0.6831341301460824,\n",
       " 300: 0.6714475431606906,\n",
       " 320: 0.6812749003984063,\n",
       " 340: 0.6693227091633466,\n",
       " 360: 0.6687915006640106,\n",
       " 380: 0.6666666666666666,\n",
       " 400: 0.6711819389110226,\n",
       " 420: 0.6671978751660027,\n",
       " 440: 0.6648074369189907,\n",
       " 460: 0.6674634794156706,\n",
       " 480: 0.653652058432935,\n",
       " 500: 0.6621513944223107,\n",
       " 520: 0.6687915006640106,\n",
       " 540: 0.653120849933599,\n",
       " 560: 0.650996015936255,\n",
       " 580: 0.649667994687915,\n",
       " 600: 0.6456839309428951,\n",
       " 620: 0.6621513944223107,\n",
       " 640: 0.648871181938911}"
      ]
     },
     "execution_count": 72,
     "metadata": {},
     "output_type": "execute_result"
    }
   ],
   "source": [
    "pca_RF_results"
   ]
  },
  {
   "cell_type": "code",
   "execution_count": 47,
   "metadata": {
    "ExecuteTime": {
     "end_time": "2019-10-24T23:48:02.650464Z",
     "start_time": "2019-10-24T23:48:02.485994Z"
    }
   },
   "outputs": [],
   "source": [
    "    # Split data into train and test sets\n",
    "    X_train, X_test, y_train, y_test = train_test_split(X, y, test_size=0.2, random_state=3) "
   ]
  },
  {
   "cell_type": "code",
   "execution_count": 57,
   "metadata": {
    "ExecuteTime": {
     "end_time": "2019-10-25T00:00:55.537908Z",
     "start_time": "2019-10-25T00:00:43.839902Z"
    }
   },
   "outputs": [
    {
     "data": {
      "text/plain": [
       "0.6778220451527225"
      ]
     },
     "execution_count": 57,
     "metadata": {},
     "output_type": "execute_result"
    }
   ],
   "source": [
    "model = RandomForestClassifier(n_estimators=50)\n",
    "model.fit(X_train, y_train)\n",
    "y_hat = model.predict(X_test)\n",
    "f1_test = f1_score(y_test, y_hat, average='micro')\n",
    "f1_test"
   ]
  },
  {
   "cell_type": "code",
   "execution_count": 56,
   "metadata": {
    "ExecuteTime": {
     "end_time": "2019-10-24T23:59:54.461715Z",
     "start_time": "2019-10-24T23:59:54.257065Z"
    }
   },
   "outputs": [
    {
     "data": {
      "text/plain": [
       "((17964, 640), (17964,), (3765, 640), (3765,))"
      ]
     },
     "execution_count": 56,
     "metadata": {},
     "output_type": "execute_result"
    }
   ],
   "source": [
    "transformer = RandomOverSampler(random_state=3, sampling_strategy='minority')\n",
    "X_train, y_train = transformer.fit_resample(X_train, y_train)\n",
    "X_train.shape, y_train.shape, X_test.shape, y_test.shape"
   ]
  },
  {
   "cell_type": "code",
   "execution_count": 52,
   "metadata": {
    "ExecuteTime": {
     "end_time": "2019-10-24T23:52:02.499744Z",
     "start_time": "2019-10-24T23:52:02.401830Z"
    }
   },
   "outputs": [
    {
     "data": {
      "text/plain": [
       "0.6889774236387782"
      ]
     },
     "execution_count": 52,
     "metadata": {},
     "output_type": "execute_result"
    }
   ],
   "source": [
    "f1_test = f1_score(y_test, y_hat, average='micro')\n",
    "f1_test"
   ]
  },
  {
   "cell_type": "code",
   "execution_count": null,
   "metadata": {},
   "outputs": [],
   "source": []
  },
  {
   "cell_type": "markdown",
   "metadata": {},
   "source": [
    "## Build and evaluate models"
   ]
  },
  {
   "cell_type": "markdown",
   "metadata": {
    "ExecuteTime": {
     "end_time": "2019-10-19T17:35:29.887767Z",
     "start_time": "2019-10-19T17:35:29.883261Z"
    }
   },
   "source": [
    "### Logistic regression"
   ]
  },
  {
   "cell_type": "code",
   "execution_count": null,
   "metadata": {
    "ExecuteTime": {
     "end_time": "2019-10-24T21:32:12.205427Z",
     "start_time": "2019-10-24T21:32:12.136373Z"
    }
   },
   "outputs": [],
   "source": [
    "model_fldr = '/Users/greenapple/project3/models/'"
   ]
  },
  {
   "cell_type": "code",
   "execution_count": null,
   "metadata": {
    "ExecuteTime": {
     "end_time": "2019-10-24T22:01:38.373665Z",
     "start_time": "2019-10-24T21:35:33.160078Z"
    }
   },
   "outputs": [],
   "source": [
    "# Train and fit logistic regression with  RandomizedSearchCV: 3rd set of parameteres\n",
    "# from src.models import model_sel_rand_search\n",
    "\n",
    "# Function arguments:\n",
    "model = LogisticRegression(random_state=3, multi_class='multinomial')\n",
    "transformer = StandardScaler()\n",
    "sampler = RandomOverSampler(random_state=3, sampling_strategy='minority')\n",
    "CV = 5\n",
    "\n",
    "# Function arguments: classifier params\n",
    "penalty = ['l2']\n",
    "C = np.logspace(0, 4, 10)\n",
    "solver = ['sag', 'lbfgs', 'newton-cg']\n",
    "\n",
    "param_distributions = dict(\n",
    "        model__C = C, \n",
    "        model__penalty = penalty,\n",
    "        model__solver=solver\n",
    ")\n",
    "\n",
    "# Call parameter selection function\n",
    "logreg3_5_cls_scores_params, logreg3_5_cls_model = train_transform_fit_time(model,\n",
    "                                                                               param_distributions,\n",
    "                                                                               sampler,\n",
    "                                                                               transformer,\n",
    "                                                                               X_train,\n",
    "                                                                               X_test,\n",
    "                                                                               y_train,\n",
    "                                                                               y_test,\n",
    "                                                                               CV)\n",
    "# Pickle results\n",
    "with open(os.path.join(model_fldr,'logreg3_5_cls_scores_params_rand_scl.pkl'), 'wb') as f:\n",
    "    pickle.dump(logreg3_5_cls_scores_params, f)\n",
    "    \n",
    "# Pickle model\n",
    "with open(os.path.join(model_fldr, 'logreg3_5_cls_model_rand_scl.pkl'), 'wb') as f:\n",
    "    pickle.dump(logreg3_5_cls_model, f)  "
   ]
  },
  {
   "cell_type": "code",
   "execution_count": null,
   "metadata": {
    "ExecuteTime": {
     "end_time": "2019-10-24T22:05:37.731108Z",
     "start_time": "2019-10-24T22:05:37.665232Z"
    }
   },
   "outputs": [],
   "source": [
    "# Pickle results\n",
    "with open(os.path.join(model_fldr,'logreg3_5_cls_scores_params_rand_scl.pkl'), 'wb') as f:\n",
    "    pickle.dump(logreg3_5_cls_scores_params, f)\n",
    "    \n",
    "# Pickle model\n",
    "with open(os.path.join(model_fldr, 'logreg3_5_cls_model_rand_scl.pkl'), 'wb') as f:\n",
    "    pickle.dump(logreg3_5_cls_model, f) "
   ]
  },
  {
   "cell_type": "code",
   "execution_count": null,
   "metadata": {
    "ExecuteTime": {
     "end_time": "2019-10-24T22:04:40.414191Z",
     "start_time": "2019-10-24T22:04:40.173837Z"
    }
   },
   "outputs": [],
   "source": [
    "logreg3_5_cls_scores_params"
   ]
  },
  {
   "cell_type": "code",
   "execution_count": null,
   "metadata": {
    "ExecuteTime": {
     "start_time": "2019-10-24T22:06:57.417Z"
    }
   },
   "outputs": [],
   "source": [
    "# Train and fit logistic regression with  RandomizedSearchCV: 3rd set of parameteres\n",
    "from src.models import model_sel_rand_search\n",
    "\n",
    "# Function arguments:\n",
    "model = LogisticRegression(random_state=3, multi_class='multinomial')\n",
    "transformer = StandardScaler()\n",
    "sampler = RandomOverSampler(random_state=3, sampling_strategy='minority')\n",
    "CV = 5\n",
    "\n",
    "# Function arguments: classifier params\n",
    "penalty = ['l2']\n",
    "C = np.logspace(0, 4, 10)\n",
    "solver = ['sag', 'lbfgs', 'newton-cg']\n",
    "\n",
    "param_distributions = dict(\n",
    "        model__C = C, \n",
    "        model__penalty = penalty,\n",
    "        model__solver=solver\n",
    ")\n",
    "\n",
    "# Call parameter selection function\n",
    "logreg3_5_cls_scores_params, logreg3_5_cls_model = model_sel_rand_search.train_fit_time(model,\n",
    "                                                                               param_distributions,\n",
    "                                                                               transformer,\n",
    "                                                                               X_train,\n",
    "                                                                               X_test,\n",
    "                                                                               y_train,\n",
    "                                                                               y_test,\n",
    "                                                                               CV)\n",
    "# Pickle results\n",
    "with open(os.path.join(model_fldr,'logreg3_5_cls_scores_params_rand.pkl'), 'wb') as f:\n",
    "    pickle.dump(logreg3_5_cls_scores_params, f)\n",
    "    \n",
    "# Pickle model\n",
    "with open(os.path.join(model_fldr, 'logreg3_5_cls_model_rand.pkl'), 'wb') as f:\n",
    "    pickle.dump(logreg3_5_cls_model, f)  "
   ]
  },
  {
   "cell_type": "code",
   "execution_count": null,
   "metadata": {},
   "outputs": [],
   "source": []
  },
  {
   "cell_type": "code",
   "execution_count": null,
   "metadata": {},
   "outputs": [],
   "source": []
  },
  {
   "cell_type": "markdown",
   "metadata": {
    "ExecuteTime": {
     "end_time": "2019-10-19T04:08:58.711750Z",
     "start_time": "2019-10-19T04:08:58.704570Z"
    }
   },
   "source": [
    "### K-Nearest Neighbors"
   ]
  },
  {
   "cell_type": "code",
   "execution_count": null,
   "metadata": {
    "ExecuteTime": {
     "end_time": "2019-10-21T22:44:05.517998Z",
     "start_time": "2019-10-21T22:43:22.018705Z"
    }
   },
   "outputs": [],
   "source": [
    "# Train and fit KNN\n",
    "from src.models import model_sel_grid\n",
    "\n",
    "# Function arguments:\n",
    "model = KNeighborsClassifier()\n",
    "transformer = RandomOverSampler(random_state=3, sampling_strategy='minority')\n",
    "CV = 5\n",
    "\n",
    "# Function arguments: classifier params\n",
    "k_range = range(1, 31)\n",
    "\n",
    "param_grid = dict(model__n_neighbors=k_range)\n",
    "\n",
    "# Call parameter selection function\n",
    "KNN_2_cls_scores_params, KNN_2_cls_models = model_sel_grid.train_fit_time(model,\n",
    "                                                                               param_grid,\n",
    "                                                                               transformer,\n",
    "                                                                               X_train,\n",
    "                                                                               X_test,\n",
    "                                                                               y_train,\n",
    "                                                                               y_test,\n",
    "                                                                               CV)\n",
    "\n",
    "# Pickle results\n",
    "with open('/Users/greenapple/project3/models/KNN_2_cls_scores_params.pkl', 'wb') as f:\n",
    "    pickle.dump(KNN_2_cls_scores_params, f)\n",
    "    \n",
    "# Pickle model\n",
    "with open('/Users/greenapple/project3/models/KNN_2_cls_models.pkl', 'wb') as f:\n",
    "    pickle.dump(KNN_2_cls_models, f)"
   ]
  },
  {
   "cell_type": "markdown",
   "metadata": {},
   "source": [
    "### Naive Bayes MultiNomial"
   ]
  },
  {
   "cell_type": "code",
   "execution_count": null,
   "metadata": {
    "ExecuteTime": {
     "end_time": "2019-10-21T22:46:31.708756Z",
     "start_time": "2019-10-21T22:46:31.269131Z"
    }
   },
   "outputs": [],
   "source": [
    "# Train and fit naive Bayes MultiNomial\n",
    "from src.models import model_sel_grid\n",
    "\n",
    "# Function arguments:\n",
    "model = MultinomialNB()\n",
    "transformer = RandomOverSampler(random_state=3, sampling_strategy='minority')\n",
    "CV = 5\n",
    "\n",
    "# Function arguments: classifier params\n",
    "alphas = [1, 10, 100]\n",
    "# Selects the min alpha. Keep alpha = 1 to make sure the model can take data it has not seen before \n",
    "# from the test set.\n",
    "\n",
    "param_grid = dict(model__alpha=alphas)\n",
    "\n",
    "# Call parameter selection function\n",
    "NBmultinomial_2_cls_scores_params, NBmultinomial_2_cls_models = model_sel_grid.train_fit_time(model,\n",
    "                                                                               param_grid,\n",
    "                                                                               transformer,\n",
    "                                                                               X_train,\n",
    "                                                                               X_test,\n",
    "                                                                               y_train,\n",
    "                                                                               y_test,\n",
    "                                                                               CV)\n",
    "\n",
    "# Pickle results\n",
    "with open('/Users/greenapple/project3/models/NBmultinomial_2_cls_scores_params.pkl', 'wb') as f:\n",
    "    pickle.dump(NBmultinomial_2_cls_scores_params, f)\n",
    "    \n",
    "# Pickle model\n",
    "with open('/Users/greenapple/project3/models/NBmultinomial_2_cls_models.pkl', 'wb') as f:\n",
    "    pickle.dump(NBmultinomial_2_cls_models, f)"
   ]
  },
  {
   "cell_type": "markdown",
   "metadata": {},
   "source": [
    "### Support Vector Machines"
   ]
  },
  {
   "cell_type": "code",
   "execution_count": null,
   "metadata": {
    "ExecuteTime": {
     "end_time": "2019-10-21T23:20:52.968294Z",
     "start_time": "2019-10-21T22:48:22.725052Z"
    },
    "scrolled": false
   },
   "outputs": [],
   "source": [
    "# Train and fit SVC\n",
    "from src.models import model_sel_grid\n",
    "\n",
    "# Function arguments:\n",
    "model = svm.SVC(probability=True)\n",
    "transformer = RandomOverSampler(random_state=3, sampling_strategy='minority')\n",
    "CV = 5\n",
    "\n",
    "# Function arguments: classifier params\n",
    "kernel = ['linear', 'poly', 'rbf', 'sigmoid']\n",
    "C = [0.001, 0.01, 0.1, 1, 10]\n",
    "gamma = [0.001, 0.01, 0.1, 1]\n",
    "degree = [2, 3]\n",
    "\n",
    "param_grid = dict(model__C=C,\n",
    "                 model__kernel=kernel,\n",
    "                 model__gamma=gamma,\n",
    "                 model__degree=degree\n",
    "                 )\n",
    "\n",
    "# Call parameter selection function\n",
    "SVC_2_cls_scores_params, SVC_2_cls_models = model_sel_grid.train_fit_time(model,\n",
    "                                                                               param_grid,\n",
    "                                                                               transformer,\n",
    "                                                                               X_train,\n",
    "                                                                               X_test,\n",
    "                                                                               y_train,\n",
    "                                                                               y_test,\n",
    "                                                                               CV)\n",
    "\n",
    "# Pickle results\n",
    "with open('/Users/greenapple/project3/models/SVC_2_cls_scores_params.pkl', 'wb') as f:\n",
    "    pickle.dump(SVC_2_cls_scores_params, f)\n",
    "    \n",
    "# Pickle model\n",
    "with open('/Users/greenapple/project3/models/SVC_2_cls_models.pkl', 'wb') as f:\n",
    "    pickle.dump(SVC_2_cls_models, f)"
   ]
  },
  {
   "cell_type": "code",
   "execution_count": null,
   "metadata": {
    "ExecuteTime": {
     "end_time": "2019-10-21T23:20:52.971650Z",
     "start_time": "2019-10-21T22:48:23.406Z"
    }
   },
   "outputs": [],
   "source": [
    "SVC_2_cls_scores_params"
   ]
  },
  {
   "cell_type": "code",
   "execution_count": null,
   "metadata": {
    "ExecuteTime": {
     "end_time": "2019-10-21T23:23:56.875816Z",
     "start_time": "2019-10-21T23:23:56.779212Z"
    }
   },
   "outputs": [],
   "source": [
    "# Unpickle data \n",
    "with open('/Users/greenapple/project3/models/SVC_2_classes.pkl', 'rb') as f:\n",
    "    SVC_2_classes = pickle.load(f)\n",
    "SVC_2_classes"
   ]
  },
  {
   "cell_type": "markdown",
   "metadata": {},
   "source": [
    "### Random Forest"
   ]
  },
  {
   "cell_type": "code",
   "execution_count": null,
   "metadata": {},
   "outputs": [],
   "source": [
    "# Train and fit Random Forest over fewer parameters\n",
    "from src.models import model_sel_grid\n",
    "\n",
    "# Function arguments:\n",
    "model = RandomForestClassifier(random_state=3)\n",
    "transformer = RandomOverSampler(random_state=3, sampling_strategy='minority')\n",
    "CV = 5\n",
    "\n",
    "# Function arguments: classifier params\n",
    "n_estimators = [50, 100, 300]\n",
    "criterion = ['gini', 'entropy']\n",
    "max_depth = [5, 50, None]\n",
    "min_samples_split = [2, 10]\n",
    "max_features = [25]\n",
    "bootstrap = [True]\n",
    "\n",
    "                \n",
    "param_grid = dict(model__n_estimators=n_estimators,\n",
    "                  model__criterion=criterion,\n",
    "                  model__max_depth=max_depth,\n",
    "                  model__min_samples_split=min_samples_split,\n",
    "                  model__max_features=max_features,\n",
    "                  model__bootstrap=bootstrap\n",
    "                 )\n",
    "\n",
    "# Call parameter selection function\n",
    "RF_2_cls_scores_params, RF_2_cls_models = model_sel_grid.train_fit_time(model,\n",
    "                                                                        param_grid,\n",
    "                                                                        transformer,\n",
    "                                                                        X_train,\n",
    "                                                                        X_test,\n",
    "                                                                        y_train,\n",
    "                                                                        y_test,\n",
    "                                                                        CV)\n",
    "\n",
    "# Pickle results\n",
    "with open('/Users/greenapple/project3/models/RF_2_cls_scores_fewer_params.pkl', 'wb') as f:\n",
    "    pickle.dump(RF_2_cls_scores_fewer_params, f)\n",
    "    \n",
    "# Pickle model\n",
    "with open('/Users/greenapple/project3/models/RF_2_cls_models_fewer.pkl', 'wb') as f:\n",
    "    pickle.dump(RF_2_cls_models_fewer, f)"
   ]
  },
  {
   "cell_type": "code",
   "execution_count": null,
   "metadata": {
    "ExecuteTime": {
     "end_time": "2019-10-22T06:52:24.564264Z",
     "start_time": "2019-10-22T06:09:22.157127Z"
    }
   },
   "outputs": [],
   "source": [
    "# Train and fit Random Forest\n",
    "from src.models import model_sel_grid\n",
    "\n",
    "# Function arguments:\n",
    "model = RandomForestClassifier(random_state=3)\n",
    "transformer = RandomOverSampler(random_state=3, sampling_strategy='minority')\n",
    "CV = 5\n",
    "\n",
    "# Function arguments: classifier params\n",
    "n_estimators = [50, 100, 200, 300]\n",
    "criterion = ['gini', 'entropy']\n",
    "max_depth = [5, 10, 50, 100, None]\n",
    "min_samples_split = [2, 5, 10]\n",
    "max_features = [5, 10, 25]\n",
    "bootstrap = [True, False]\n",
    "\n",
    "                \n",
    "param_grid = dict(model__n_estimators=n_estimators,\n",
    "                  model__criterion=criterion,\n",
    "                  model__max_depth=max_depth,\n",
    "                  model__min_samples_split=min_samples_split,\n",
    "                  model__max_features=max_features,\n",
    "                  model__bootstrap=bootstrap\n",
    "                 )\n",
    "\n",
    "# Call parameter selection function\n",
    "RF_2_cls_scores_params, RF_2_cls_models = model_sel_grid.train_fit_time(model,\n",
    "                                                                        param_grid,\n",
    "                                                                        transformer,\n",
    "                                                                        X_train,\n",
    "                                                                        X_test,\n",
    "                                                                        y_train,\n",
    "                                                                        y_test,\n",
    "                                                                        CV)\n",
    "\n",
    "# Pickle results\n",
    "with open('/Users/greenapple/project3/models/RF_2_cls_scores_params.pkl', 'wb') as f:\n",
    "    pickle.dump(RF_2_cls_scores_params, f)\n",
    "    \n",
    "# Pickle model\n",
    "with open('/Users/greenapple/project3/models/RF_2_cls_models.pkl', 'wb') as f:\n",
    "    pickle.dump(RF_2_cls_models, f)"
   ]
  },
  {
   "cell_type": "code",
   "execution_count": null,
   "metadata": {},
   "outputs": [],
   "source": [
    "pickle_out = open('/Users/greenapple/project3/models/RF_2_cls_scores_params.pkl', 'rb')\n",
    "RF_2_cls_scores_params = pickle.load(pickle_out)\n",
    "RF_2_cls_scores_params"
   ]
  },
  {
   "cell_type": "code",
   "execution_count": null,
   "metadata": {
    "ExecuteTime": {
     "end_time": "2019-10-22T18:22:53.363697Z",
     "start_time": "2019-10-22T15:53:12.215172Z"
    }
   },
   "outputs": [],
   "source": [
    "# Train and fit Random Forest: addinig additional parameteres to the search\n",
    "from src.models import model_sel_grid\n",
    "\n",
    "# Function arguments:\n",
    "model = RandomForestClassifier(random_state=3)\n",
    "transformer = RandomOverSampler(random_state=3, sampling_strategy='minority')\n",
    "CV = 5\n",
    "\n",
    "# Function arguments: classifier params\n",
    "n_estimators = [10, 20, 50, 100, 300]\n",
    "criterion = ['gini', 'entropy']\n",
    "max_depth = [5, 10, 100, None]\n",
    "min_samples_split = [5, 10, 20, 50]\n",
    "max_features = [10, 25, 50, 100]\n",
    "bootstrap = [True, False]\n",
    "\n",
    "                \n",
    "param_grid = dict(model__n_estimators=n_estimators,\n",
    "                  model__criterion=criterion,\n",
    "                  model__max_depth=max_depth,\n",
    "                  model__min_samples_split=min_samples_split,\n",
    "                  model__max_features=max_features,\n",
    "                  model__bootstrap=bootstrap\n",
    "                 )\n",
    "\n",
    "# Call parameter selection function\n",
    "RF_2_cls_scores_more_params, RF_2_cls_model_more = model_sel_grid.train_fit_time(model,\n",
    "                                                                        param_grid,\n",
    "                                                                        transformer,\n",
    "                                                                        X_train,\n",
    "                                                                        X_test,\n",
    "                                                                        y_train,\n",
    "                                                                        y_test,\n",
    "                                                                        CV)\n",
    "\n",
    "# Pickle results\n",
    "with open('/Users/greenapple/project3/models/RF_2_cls_scores_more_params.pkl', 'wb') as f:\n",
    "    pickle.dump(RF_2_cls_scores_more_params, f)\n",
    "    \n",
    "# Pickle model\n",
    "with open('/Users/greenapple/project3/models/RF_2_cls_model_more.pkl', 'wb') as f:\n",
    "    pickle.dump(RF_2_cls_model_more, f)"
   ]
  },
  {
   "cell_type": "code",
   "execution_count": null,
   "metadata": {
    "ExecuteTime": {
     "end_time": "2019-10-22T00:20:22.140003Z",
     "start_time": "2019-10-22T00:20:22.035706Z"
    }
   },
   "outputs": [],
   "source": [
    "pickle_out = open('/Users/greenapple/project3/models/RF_2_cls_scores_more_params.pkl', 'rb')\n",
    "RF_2_cls_scores_more_params = pickle.load(pickle_out)\n",
    "RF_2_cls_scores_more_params"
   ]
  },
  {
   "cell_type": "markdown",
   "metadata": {},
   "source": [
    "### Gradient Boosting Classifier"
   ]
  },
  {
   "cell_type": "code",
   "execution_count": null,
   "metadata": {
    "ExecuteTime": {
     "end_time": "2019-10-22T07:00:45.462798Z",
     "start_time": "2019-10-22T06:52:24.566680Z"
    }
   },
   "outputs": [],
   "source": [
    "# Train and fit Gradient Boosting\n",
    "from src.models import model_sel_grid\n",
    "\n",
    "# Function arguments:\n",
    "model = GradientBoostingClassifier(random_state=3)\n",
    "transformer = RandomOverSampler(random_state=3, sampling_strategy='minority')\n",
    "CV = 5\n",
    "\n",
    "# Function arguments: classifier params\n",
    "n_estimators = [50, 100, 200, 300]\n",
    "max_depth = [5, 10, 50, 100, None]\n",
    "min_samples_split = [2, 5, 10]\n",
    "max_features = [5, 10, 25]\n",
    "\n",
    "                \n",
    "param_grid = dict(model__n_estimators=n_estimators,\n",
    "                  model__max_depth=max_depth,\n",
    "                  model__min_samples_split=min_samples_split,\n",
    "                  model__max_features=max_features,\n",
    "                 )\n",
    "\n",
    "# Call parameter selection function\n",
    "GBM_2_cls_scores_params, GBM_2_cls_models = model_sel_grid.train_fit_time(model,\n",
    "                                                                        param_grid,\n",
    "                                                                        transformer,\n",
    "                                                                        X_train,\n",
    "                                                                        X_test,\n",
    "                                                                        y_train,\n",
    "                                                                        y_test,\n",
    "                                                                        CV)\n",
    "\n",
    "# Pickle results\n",
    "with open('/Users/greenapple/project3/models/GBM_2_cls_scores_params.pkl', 'wb') as f:\n",
    "    pickle.dump(GBM_2_cls_scores_params, f)\n",
    "    \n",
    "# Pickle model\n",
    "with open('/Users/greenapple/project3/models/GBM_2_cls_models.pkl', 'wb') as f:\n",
    "    pickle.dump(GBM_2_cls_models, f)"
   ]
  },
  {
   "cell_type": "code",
   "execution_count": null,
   "metadata": {
    "ExecuteTime": {
     "end_time": "2019-10-22T13:09:17.617808Z",
     "start_time": "2019-10-22T13:09:17.000642Z"
    }
   },
   "outputs": [],
   "source": [
    "GBM_2_cls_scores_params"
   ]
  },
  {
   "cell_type": "code",
   "execution_count": null,
   "metadata": {},
   "outputs": [],
   "source": [
    "# Train and fit Gradient Boosting: expanding parameter search\n",
    "from src.models import model_sel_grid\n",
    "\n",
    "# Function arguments:\n",
    "model = GradientBoostingClassifier(random_state=3)\n",
    "transformer = RandomOverSampler(random_state=3, sampling_strategy='minority')\n",
    "CV = 5\n",
    "\n",
    "# Function arguments: classifier params\n",
    "n_estimators = [50, 100, 300, 500, 900]\n",
    "max_depth = [1, 3, 5, 10, 50, None]\n",
    "min_samples_split = [5, 10, 20, 50]\n",
    "max_features = [2, 3, 5, 25]\n",
    "\n",
    "                \n",
    "param_grid = dict(model__n_estimators=n_estimators,\n",
    "                  model__max_depth=max_depth,\n",
    "                  model__min_samples_split=min_samples_split,\n",
    "                  model__max_features=max_features,\n",
    "                 )\n",
    "\n",
    "# Call parameter selection function\n",
    "GBM_2_cls_scores_params, GBM_2_cls_models = model_sel_grid.train_fit_time(model,\n",
    "                                                                        param_grid,\n",
    "                                                                        transformer,\n",
    "                                                                        X_train,\n",
    "                                                                        X_test,\n",
    "                                                                        y_train,\n",
    "                                                                        y_test,\n",
    "                                                                        CV)\n",
    "\n",
    "# Pickle results\n",
    "with open('/Users/greenapple/project3/models/GBM_2_cls_scores_params.pkl', 'wb') as f:\n",
    "    pickle.dump(GBM_2_cls_scores_params, f)\n",
    "    \n",
    "# Pickle model\n",
    "with open('/Users/greenapple/project3/models/GBM_2_cls_models.pkl', 'wb') as f:\n",
    "    pickle.dump(GBM_2_cls_models, f)"
   ]
  },
  {
   "cell_type": "code",
   "execution_count": null,
   "metadata": {
    "ExecuteTime": {
     "end_time": "2019-10-22T00:03:47.213352Z",
     "start_time": "2019-10-22T00:02:21.825388Z"
    }
   },
   "outputs": [],
   "source": [
    "# Train and fit Gradient Boosting over fewer parameters\n",
    "from src.models import model_sel_grid\n",
    "\n",
    "# Function arguments:\n",
    "model = GradientBoostingClassifier(random_state=3)\n",
    "transformer = RandomOverSampler(random_state=3, sampling_strategy='minority')\n",
    "CV = 5\n",
    "\n",
    "# Function arguments: classifier params\n",
    "n_estimators = [50, 100, 300]\n",
    "max_depth = [5, 50, None]\n",
    "min_samples_split = [2, 10]\n",
    "max_features = [25]\n",
    "\n",
    "                \n",
    "param_grid = dict(model__n_estimators=n_estimators,\n",
    "                  model__max_depth=max_depth,\n",
    "                  model__min_samples_split=min_samples_split,\n",
    "                  model__max_features=max_features,\n",
    "                 )\n",
    "\n",
    "# Call parameter selection function\n",
    "GBM_2_cls_scores_fewer_params, GBM_2_cls_model_fewer = model_sel_grid.train_fit_time(model,\n",
    "                                                                        param_grid,\n",
    "                                                                        transformer,\n",
    "                                                                        X_train,\n",
    "                                                                        X_test,\n",
    "                                                                        y_train,\n",
    "                                                                        y_test,\n",
    "                                                                        CV)\n",
    "\n",
    "# Pickle results\n",
    "with open('/Users/greenapple/project3/models/GBM_2_cls_scores_fewer_params.pkl', 'wb') as f:\n",
    "    pickle.dump(GBM_2_cls_scores_fewer_params, f)\n",
    "    \n",
    "# Pickle model\n",
    "with open('/Users/greenapple/project3/models/GBM_2_cls_model_fewer.pkl', 'wb') as f:\n",
    "    pickle.dump(GBM_2_cls_model_fewer, f)"
   ]
  },
  {
   "cell_type": "code",
   "execution_count": null,
   "metadata": {
    "ExecuteTime": {
     "end_time": "2019-10-22T00:05:19.328389Z",
     "start_time": "2019-10-22T00:05:19.227233Z"
    }
   },
   "outputs": [],
   "source": [
    "GBM_2_cls_scores_fewer_params"
   ]
  },
  {
   "cell_type": "markdown",
   "metadata": {},
   "source": [
    "### Dummy classifier"
   ]
  },
  {
   "cell_type": "code",
   "execution_count": null,
   "metadata": {
    "ExecuteTime": {
     "end_time": "2019-10-22T00:07:18.304982Z",
     "start_time": "2019-10-22T00:07:18.048965Z"
    }
   },
   "outputs": [],
   "source": [
    "# Train and fit Dummy classifier\n",
    "\n",
    "# Function arguments:\n",
    "model = DummyClassifier(random_state=3, strategy='stratified')\n",
    "transformer = RandomOverSampler(random_state=3, sampling_strategy='minority')\n",
    "CV = 5\n",
    "\n",
    "# Function arguments: classifier params\n",
    "\n",
    "param_grid = dict()\n",
    "\n",
    "# Call parameter selection function\n",
    "Dummy_2_cls_scores_params, Dummy_2_cls_model = model_sel_grid.train_fit_time(model,\n",
    "                                                                        param_grid,\n",
    "                                                                        transformer,\n",
    "                                                                        X_train,\n",
    "                                                                        X_test,\n",
    "                                                                        y_train,\n",
    "                                                                        y_test,\n",
    "                                                                        CV)\n",
    "\n",
    "# Pickle results\n",
    "with open('/Users/greenapple/project3/models/Dummy_2_cls_scores_params.pkl', 'wb') as f:\n",
    "    pickle.dump(Dummy_2_cls_scores_params, f)\n",
    "    \n",
    "# Pickle model\n",
    "with open('/Users/greenapple/project3/models/Dummy_2_cls_model.pkl', 'wb') as f:\n",
    "    pickle.dump(Dummy_2_cls_model, f)"
   ]
  },
  {
   "cell_type": "code",
   "execution_count": null,
   "metadata": {
    "ExecuteTime": {
     "end_time": "2019-10-22T00:07:29.791703Z",
     "start_time": "2019-10-22T00:07:29.707075Z"
    }
   },
   "outputs": [],
   "source": [
    "Dummy_2_cls_scores_params"
   ]
  },
  {
   "cell_type": "code",
   "execution_count": null,
   "metadata": {
    "ExecuteTime": {
     "end_time": "2019-10-22T00:07:45.861782Z",
     "start_time": "2019-10-22T00:07:45.782856Z"
    }
   },
   "outputs": [],
   "source": [
    "# Dummy classifier\n",
    "dummy = DummyClassifier()\n",
    "dummy.fit(X_train, y_train)\n",
    "f1_dummy = f1_score(y_test, dummy.predict(X_test), average='micro')\n",
    "accuracy_dummy = accuracy_score(y_test, dummy.predict(X_test))"
   ]
  },
  {
   "cell_type": "code",
   "execution_count": null,
   "metadata": {
    "ExecuteTime": {
     "end_time": "2019-10-22T00:07:46.368892Z",
     "start_time": "2019-10-22T00:07:46.285594Z"
    }
   },
   "outputs": [],
   "source": [
    "print('Dummy classifier F1 score: ', f1_dummy)\n",
    "print('Dummy classifier accuracy score: ', accuracy_dummy)"
   ]
  },
  {
   "cell_type": "markdown",
   "metadata": {},
   "source": [
    "### Null accuracy"
   ]
  },
  {
   "cell_type": "code",
   "execution_count": null,
   "metadata": {
    "ExecuteTime": {
     "end_time": "2019-10-22T00:08:32.095083Z",
     "start_time": "2019-10-22T00:08:32.017383Z"
    }
   },
   "outputs": [],
   "source": [
    "y_test.value_counts()"
   ]
  },
  {
   "cell_type": "code",
   "execution_count": null,
   "metadata": {
    "ExecuteTime": {
     "end_time": "2019-10-22T00:08:32.523590Z",
     "start_time": "2019-10-22T00:08:32.381869Z"
    }
   },
   "outputs": [],
   "source": [
    "null_accuracy = y_test.value_counts().head(1) / len(y_test)\n",
    "print('Null accuracy: ', null_accuracy)"
   ]
  },
  {
   "cell_type": "markdown",
   "metadata": {},
   "source": [
    "## Visualize scores"
   ]
  },
  {
   "cell_type": "markdown",
   "metadata": {},
   "source": [
    "### Model summary"
   ]
  },
  {
   "cell_type": "code",
   "execution_count": null,
   "metadata": {
    "ExecuteTime": {
     "end_time": "2019-10-22T00:21:38.099861Z",
     "start_time": "2019-10-22T00:21:38.018427Z"
    }
   },
   "outputs": [],
   "source": [
    "model_score_table = pd.DataFrame(columns=['Models', 'F1_score_train'])\n",
    "model_score_table"
   ]
  },
  {
   "cell_type": "code",
   "execution_count": null,
   "metadata": {
    "ExecuteTime": {
     "end_time": "2019-10-22T00:21:40.108964Z",
     "start_time": "2019-10-22T00:21:40.037780Z"
    }
   },
   "outputs": [],
   "source": [
    "model_score_table['Models'] = ['Logistis_Regression',\n",
    "                              'KNN',\n",
    "                              'Multinomial_NB',\n",
    "                              'SVC_poly',\n",
    "                              'Random_Forest',\n",
    "                               'GBM',\n",
    "                               'Dummy'\n",
    "                              ]"
   ]
  },
  {
   "cell_type": "code",
   "execution_count": null,
   "metadata": {
    "ExecuteTime": {
     "end_time": "2019-10-22T00:23:29.707450Z",
     "start_time": "2019-10-22T00:23:29.642848Z"
    }
   },
   "outputs": [],
   "source": [
    "model_score_table['F1_score_train'] = trainin"
   ]
  },
  {
   "cell_type": "code",
   "execution_count": null,
   "metadata": {
    "ExecuteTime": {
     "end_time": "2019-10-22T00:23:33.700648Z",
     "start_time": "2019-10-22T00:23:33.629584Z"
    }
   },
   "outputs": [],
   "source": [
    "model_score_table"
   ]
  },
  {
   "cell_type": "code",
   "execution_count": null,
   "metadata": {
    "ExecuteTime": {
     "end_time": "2019-10-22T00:31:20.145737Z",
     "start_time": "2019-10-22T00:31:20.084893Z"
    }
   },
   "outputs": [],
   "source": [
    "# Pickle results\n",
    "with open('/Users/greenapple/project3/reports/figures/model_score_table_MVP.pkl', 'wb') as f:\n",
    "    pickle.dump(model_score_table, f)"
   ]
  },
  {
   "cell_type": "markdown",
   "metadata": {},
   "source": [
    "### Confusion matrix"
   ]
  },
  {
   "cell_type": "code",
   "execution_count": null,
   "metadata": {},
   "outputs": [],
   "source": [
    "# Helper function for printing confusion matrices (see: https://gist.github.com/shaypal5/94c53d765083101efc0240d776a23823)\n",
    "\n",
    "# prints confusion matrix as a heatmap which is nicer to visaulize\n",
    "\n",
    "def print_confusion_matrix(confusion_matrix, class_names, figsize = (10,7), fontsize=18):\n",
    "    \"\"\"Prints a confusion matrix, as returned by sklearn.metrics.confusion_matrix, as a heatmap.\n",
    "    \n",
    "    Arguments\n",
    "    ---------\n",
    "    confusion_matrix: numpy.ndarray\n",
    "        The numpy.ndarray object returned from a call to sklearn.metrics.confusion_matrix. \n",
    "        Similarly constructed ndarrays can also be used.\n",
    "    class_names: list\n",
    "        An ordered list of class names, in the order they index the given confusion matrix.\n",
    "    figsize: tuple\n",
    "        A 2-long tuple, the first value determining the horizontal size of the ouputted figure,\n",
    "        the second determining the vertical size. Defaults to (10,7).\n",
    "    fontsize: int\n",
    "        Font size for axes labels. Defaults to 14.\n",
    "        \n",
    "    Returns\n",
    "    -------\n",
    "    matplotlib.figure.Figure\n",
    "        The resulting confusion matrix figure\n",
    "    \"\"\"\n",
    "    df_cm = pd.DataFrame(confusion_matrix, index=class_names, columns=class_names, )\n",
    "    fig = plt.figure(figsize=figsize)\n",
    "    try:\n",
    "        heatmap = sns.heatmap(df_cm, annot=True, fmt=\"d\")\n",
    "    except ValueError:\n",
    "        raise ValueError(\"Confusion matrix values must be integers.\")\n",
    "    heatmap.yaxis.set_ticklabels(heatmap.yaxis.get_ticklabels(), rotation=0, ha='right', fontsize=fontsize)\n",
    "    heatmap.xaxis.set_ticklabels(heatmap.xaxis.get_ticklabels(), rotation=45, ha='right', fontsize=fontsize)\n",
    "    plt.ylabel('True label')\n",
    "    plt.xlabel('Predicted label')\n",
    "    return fig"
   ]
  },
  {
   "cell_type": "code",
   "execution_count": null,
   "metadata": {},
   "outputs": [],
   "source": [
    "conf_mat = confusion_matrix(y_true=y_test, y_pred=y_pred)\n",
    "cm = print_confusion_matrix(conf_mat, ['Class 0', 'Class 1'])"
   ]
  },
  {
   "cell_type": "code",
   "execution_count": null,
   "metadata": {},
   "outputs": [],
   "source": []
  },
  {
   "cell_type": "code",
   "execution_count": null,
   "metadata": {},
   "outputs": [],
   "source": []
  },
  {
   "cell_type": "code",
   "execution_count": null,
   "metadata": {},
   "outputs": [],
   "source": []
  },
  {
   "cell_type": "markdown",
   "metadata": {},
   "source": [
    "### ROC"
   ]
  },
  {
   "cell_type": "code",
   "execution_count": null,
   "metadata": {},
   "outputs": [],
   "source": []
  },
  {
   "cell_type": "code",
   "execution_count": null,
   "metadata": {},
   "outputs": [],
   "source": []
  },
  {
   "cell_type": "code",
   "execution_count": null,
   "metadata": {},
   "outputs": [],
   "source": []
  },
  {
   "cell_type": "code",
   "execution_count": null,
   "metadata": {},
   "outputs": [],
   "source": []
  },
  {
   "cell_type": "code",
   "execution_count": null,
   "metadata": {},
   "outputs": [],
   "source": []
  },
  {
   "cell_type": "code",
   "execution_count": null,
   "metadata": {},
   "outputs": [],
   "source": []
  },
  {
   "cell_type": "code",
   "execution_count": null,
   "metadata": {},
   "outputs": [],
   "source": [
    "# Save the model for later\n",
    "filename = /Users/greenapple/project3/models/logreg.sav'\n",
    "joblib.dump(logreg, filename)"
   ]
  }
 ],
 "metadata": {
  "kernelspec": {
   "display_name": "project3",
   "language": "python",
   "name": "project3"
  },
  "language_info": {
   "codemirror_mode": {
    "name": "ipython",
    "version": 3
   },
   "file_extension": ".py",
   "mimetype": "text/x-python",
   "name": "python",
   "nbconvert_exporter": "python",
   "pygments_lexer": "ipython3",
   "version": "3.7.3"
  },
  "toc": {
   "base_numbering": 1,
   "nav_menu": {},
   "number_sections": true,
   "sideBar": true,
   "skip_h1_title": false,
   "title_cell": "Table of Contents",
   "title_sidebar": "Contents",
   "toc_cell": false,
   "toc_position": {
    "height": "calc(100% - 180px)",
    "left": "10px",
    "top": "150px",
    "width": "287.986px"
   },
   "toc_section_display": true,
   "toc_window_display": true
  }
 },
 "nbformat": 4,
 "nbformat_minor": 2
}
